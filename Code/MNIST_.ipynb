{
 "cells": [
  {
   "cell_type": "code",
   "execution_count": 1,
   "id": "e9954dc2",
   "metadata": {
    "execution": {
     "iopub.execute_input": "2021-10-10T23:58:02.682475Z",
     "iopub.status.busy": "2021-10-10T23:58:02.680974Z",
     "iopub.status.idle": "2021-10-10T23:58:12.685293Z",
     "shell.execute_reply": "2021-10-10T23:58:12.684218Z",
     "shell.execute_reply.started": "2021-10-10T23:54:25.974888Z"
    },
    "papermill": {
     "duration": 10.020229,
     "end_time": "2021-10-10T23:58:12.685474",
     "exception": false,
     "start_time": "2021-10-10T23:58:02.665245",
     "status": "completed"
    },
    "tags": []
   },
   "outputs": [],
   "source": [
    "import torch\n",
    "import pandas as pd\n",
    "\n",
    "torch.manual_seed(1)\n",
    "\n",
    "device = 'cuda' if torch.cuda.is_available() else 'cpu'\n",
    "\n",
    "train = pd.read_csv('../input/2021-ai-w5-p1/train.csv')\n",
    "x_test = pd.read_csv('../input/2021-ai-w5-p1/test.csv')\n",
    "submit = pd.read_csv('../input/2021-ai-w5-p1/sample_submit.csv')\n"
   ]
  },
  {
   "cell_type": "code",
   "execution_count": 2,
   "id": "587f811b",
   "metadata": {
    "execution": {
     "iopub.execute_input": "2021-10-10T23:58:12.831235Z",
     "iopub.status.busy": "2021-10-10T23:58:12.825787Z",
     "iopub.status.idle": "2021-10-10T23:58:12.835665Z",
     "shell.execute_reply": "2021-10-10T23:58:12.836090Z",
     "shell.execute_reply.started": "2021-10-10T23:54:29.598101Z"
    },
    "papermill": {
     "duration": 0.140284,
     "end_time": "2021-10-10T23:58:12.836245",
     "exception": false,
     "start_time": "2021-10-10T23:58:12.695961",
     "status": "completed"
    },
    "tags": []
   },
   "outputs": [
    {
     "data": {
      "text/plain": [
       "0        5\n",
       "1        0\n",
       "2        3\n",
       "3        3\n",
       "4        6\n",
       "        ..\n",
       "59995    0\n",
       "59996    3\n",
       "59997    9\n",
       "59998    4\n",
       "59999    6\n",
       "Name: label, Length: 60000, dtype: int64"
      ]
     },
     "execution_count": 2,
     "metadata": {},
     "output_type": "execute_result"
    }
   ],
   "source": [
    "x_train = train.drop('label', axis = 1)\n",
    "y_train = train['label']\n",
    "y_train"
   ]
  },
  {
   "cell_type": "code",
   "execution_count": 3,
   "id": "f4480fba",
   "metadata": {
    "execution": {
     "iopub.execute_input": "2021-10-10T23:58:12.863149Z",
     "iopub.status.busy": "2021-10-10T23:58:12.861841Z",
     "iopub.status.idle": "2021-10-10T23:58:13.198379Z",
     "shell.execute_reply": "2021-10-10T23:58:13.197853Z",
     "shell.execute_reply.started": "2021-10-10T23:54:29.717833Z"
    },
    "papermill": {
     "duration": 0.351986,
     "end_time": "2021-10-10T23:58:13.198501",
     "exception": false,
     "start_time": "2021-10-10T23:58:12.846515",
     "status": "completed"
    },
    "tags": []
   },
   "outputs": [],
   "source": [
    "import numpy as np\n",
    "\n",
    "x_train = torch.FloatTensor(np.array(x_train)[: , :])\n",
    "y_train = torch.LongTensor(np.array(y_train)[:])\n",
    "x_test = torch.FloatTensor(np.array(x_test)[: , :])"
   ]
  },
  {
   "cell_type": "code",
   "execution_count": 4,
   "id": "8836fb9b",
   "metadata": {
    "execution": {
     "iopub.execute_input": "2021-10-10T23:58:13.225483Z",
     "iopub.status.busy": "2021-10-10T23:58:13.224770Z",
     "iopub.status.idle": "2021-10-10T23:58:18.557755Z",
     "shell.execute_reply": "2021-10-10T23:58:18.558207Z",
     "shell.execute_reply.started": "2021-10-10T23:54:30.051706Z"
    },
    "papermill": {
     "duration": 5.349393,
     "end_time": "2021-10-10T23:58:18.558387",
     "exception": false,
     "start_time": "2021-10-10T23:58:13.208994",
     "status": "completed"
    },
    "tags": []
   },
   "outputs": [],
   "source": [
    "layer = torch.nn.Linear(784,10)\n",
    "\n",
    "model = torch.nn.Sequential(layer).to(device)"
   ]
  },
  {
   "cell_type": "code",
   "execution_count": 5,
   "id": "65bfc570",
   "metadata": {
    "execution": {
     "iopub.execute_input": "2021-10-10T23:58:18.583876Z",
     "iopub.status.busy": "2021-10-10T23:58:18.583275Z",
     "iopub.status.idle": "2021-10-10T23:58:18.586870Z",
     "shell.execute_reply": "2021-10-10T23:58:18.586458Z",
     "shell.execute_reply.started": "2021-10-10T23:54:30.060243Z"
    },
    "papermill": {
     "duration": 0.018004,
     "end_time": "2021-10-10T23:58:18.587000",
     "exception": false,
     "start_time": "2021-10-10T23:58:18.568996",
     "status": "completed"
    },
    "tags": []
   },
   "outputs": [],
   "source": [
    "epochs = 30000\n",
    "lr = 0.0001\n",
    "\n",
    "loss = torch.nn.CrossEntropyLoss().to(device)\n",
    "optimizer = torch.optim.SGD(model.parameters(), lr = lr)\n"
   ]
  },
  {
   "cell_type": "code",
   "execution_count": 6,
   "id": "b9bf1b03",
   "metadata": {
    "execution": {
     "iopub.execute_input": "2021-10-10T23:58:18.612653Z",
     "iopub.status.busy": "2021-10-10T23:58:18.611593Z",
     "iopub.status.idle": "2021-10-11T00:00:53.348457Z",
     "shell.execute_reply": "2021-10-11T00:00:53.349229Z",
     "shell.execute_reply.started": "2021-10-10T23:54:30.072315Z"
    },
    "papermill": {
     "duration": 154.752736,
     "end_time": "2021-10-11T00:00:53.349470",
     "exception": false,
     "start_time": "2021-10-10T23:58:18.596734",
     "status": "completed"
    },
    "tags": []
   },
   "outputs": [
    {
     "name": "stdout",
     "output_type": "stream",
     "text": [
      "epoch :  0 cost :  65.55722045898438\n",
      "epoch :  1000 cost :  1.5347212553024292\n",
      "epoch :  2000 cost :  1.079100251197815\n",
      "epoch :  3000 cost :  0.8437210321426392\n",
      "epoch :  4000 cost :  0.7067373991012573\n",
      "epoch :  5000 cost :  0.6077885031700134\n",
      "epoch :  6000 cost :  0.6164753437042236\n",
      "epoch :  7000 cost :  1.1311897039413452\n",
      "epoch :  8000 cost :  1.3804646730422974\n",
      "epoch :  9000 cost :  0.4867408573627472\n",
      "epoch :  10000 cost :  2.5161197185516357\n",
      "epoch :  11000 cost :  0.4285403788089752\n",
      "epoch :  12000 cost :  2.791106939315796\n",
      "epoch :  13000 cost :  1.8581573963165283\n",
      "epoch :  14000 cost :  0.41986387968063354\n",
      "epoch :  15000 cost :  0.47727951407432556\n",
      "epoch :  16000 cost :  0.4084911346435547\n",
      "epoch :  17000 cost :  4.979492664337158\n",
      "epoch :  18000 cost :  0.39560338854789734\n",
      "epoch :  19000 cost :  0.37844881415367126\n",
      "epoch :  20000 cost :  0.37401747703552246\n",
      "epoch :  21000 cost :  2.799064874649048\n",
      "epoch :  22000 cost :  2.5828332901000977\n",
      "epoch :  23000 cost :  1.2953518629074097\n",
      "epoch :  24000 cost :  0.383533239364624\n",
      "epoch :  25000 cost :  0.8728936314582825\n",
      "epoch :  26000 cost :  0.36115482449531555\n",
      "epoch :  27000 cost :  0.3995756506919861\n",
      "epoch :  28000 cost :  0.5416924357414246\n",
      "epoch :  29000 cost :  0.35652264952659607\n",
      "epoch :  30000 cost :  0.35883575677871704\n"
     ]
    }
   ],
   "source": [
    "for e in range(epochs + 1) :\n",
    "    \n",
    "    x_train = x_train.to(device)\n",
    "    y_train = y_train.to(device)\n",
    "    \n",
    "    hypothesis = model(x_train)\n",
    "    \n",
    "    cost = loss(hypothesis, y_train)\n",
    "    \n",
    "    optimizer.zero_grad()\n",
    "    cost.backward()\n",
    "    optimizer.step()\n",
    "    \n",
    "    if e % 1000 == 0:\n",
    "        print(\"epoch : \",e , \"cost : \", cost.item())"
   ]
  },
  {
   "cell_type": "code",
   "execution_count": 7,
   "id": "39f9a807",
   "metadata": {
    "execution": {
     "iopub.execute_input": "2021-10-11T00:00:53.390408Z",
     "iopub.status.busy": "2021-10-11T00:00:53.389195Z",
     "iopub.status.idle": "2021-10-11T00:00:53.417402Z",
     "shell.execute_reply": "2021-10-11T00:00:53.418173Z",
     "shell.execute_reply.started": "2021-10-10T23:56:11.216574Z"
    },
    "papermill": {
     "duration": 0.050306,
     "end_time": "2021-10-11T00:00:53.418412",
     "exception": false,
     "start_time": "2021-10-11T00:00:53.368106",
     "status": "completed"
    },
    "tags": []
   },
   "outputs": [
    {
     "data": {
      "text/plain": [
       "tensor([6, 1, 0,  ..., 2, 8, 3], device='cuda:0')"
      ]
     },
     "execution_count": 7,
     "metadata": {},
     "output_type": "execute_result"
    }
   ],
   "source": [
    "x_test = x_test.to(device)\n",
    "\n",
    "predict = model(x_test)\n",
    "predict = torch.argmax(predict , dim = 1)\n",
    "\n",
    "predict"
   ]
  },
  {
   "cell_type": "code",
   "execution_count": 8,
   "id": "6856b2e7",
   "metadata": {
    "execution": {
     "iopub.execute_input": "2021-10-11T00:00:53.484197Z",
     "iopub.status.busy": "2021-10-11T00:00:53.483376Z",
     "iopub.status.idle": "2021-10-11T00:00:53.486108Z",
     "shell.execute_reply": "2021-10-11T00:00:53.486486Z",
     "shell.execute_reply.started": "2021-10-10T23:56:11.233612Z"
    },
    "papermill": {
     "duration": 0.033746,
     "end_time": "2021-10-11T00:00:53.486624",
     "exception": false,
     "start_time": "2021-10-11T00:00:53.452878",
     "status": "completed"
    },
    "tags": []
   },
   "outputs": [],
   "source": [
    "submit['label'] = predict.cpu().detach().numpy()"
   ]
  },
  {
   "cell_type": "code",
   "execution_count": 9,
   "id": "35a73389",
   "metadata": {
    "execution": {
     "iopub.execute_input": "2021-10-11T00:00:53.527616Z",
     "iopub.status.busy": "2021-10-11T00:00:53.527113Z",
     "iopub.status.idle": "2021-10-11T00:00:53.530727Z",
     "shell.execute_reply": "2021-10-11T00:00:53.530292Z",
     "shell.execute_reply.started": "2021-10-10T23:56:11.240829Z"
    },
    "papermill": {
     "duration": 0.026035,
     "end_time": "2021-10-11T00:00:53.530836",
     "exception": false,
     "start_time": "2021-10-11T00:00:53.504801",
     "status": "completed"
    },
    "tags": []
   },
   "outputs": [],
   "source": [
    "submit.label = submit.label.astype(\"int\")"
   ]
  },
  {
   "cell_type": "code",
   "execution_count": 10,
   "id": "f8f23ed0",
   "metadata": {
    "execution": {
     "iopub.execute_input": "2021-10-11T00:00:53.583079Z",
     "iopub.status.busy": "2021-10-11T00:00:53.569781Z",
     "iopub.status.idle": "2021-10-11T00:00:53.585872Z",
     "shell.execute_reply": "2021-10-11T00:00:53.586475Z",
     "shell.execute_reply.started": "2021-10-10T23:56:11.249243Z"
    },
    "papermill": {
     "duration": 0.037661,
     "end_time": "2021-10-11T00:00:53.586682",
     "exception": false,
     "start_time": "2021-10-11T00:00:53.549021",
     "status": "completed"
    },
    "tags": []
   },
   "outputs": [
    {
     "name": "stdout",
     "output_type": "stream",
     "text": [
      "<class 'pandas.core.frame.DataFrame'>\n",
      "RangeIndex: 10000 entries, 0 to 9999\n",
      "Data columns (total 2 columns):\n",
      " #   Column  Non-Null Count  Dtype\n",
      "---  ------  --------------  -----\n",
      " 0   id      10000 non-null  int64\n",
      " 1   label   10000 non-null  int64\n",
      "dtypes: int64(2)\n",
      "memory usage: 156.4 KB\n"
     ]
    }
   ],
   "source": [
    "submit.info()"
   ]
  },
  {
   "cell_type": "code",
   "execution_count": 11,
   "id": "d9ec933c",
   "metadata": {
    "execution": {
     "iopub.execute_input": "2021-10-11T00:00:53.631967Z",
     "iopub.status.busy": "2021-10-11T00:00:53.631219Z",
     "iopub.status.idle": "2021-10-11T00:00:53.641878Z",
     "shell.execute_reply": "2021-10-11T00:00:53.642349Z",
     "shell.execute_reply.started": "2021-10-10T23:56:11.265208Z"
    },
    "papermill": {
     "duration": 0.035346,
     "end_time": "2021-10-11T00:00:53.642494",
     "exception": false,
     "start_time": "2021-10-11T00:00:53.607148",
     "status": "completed"
    },
    "tags": []
   },
   "outputs": [
    {
     "data": {
      "text/html": [
       "<div>\n",
       "<style scoped>\n",
       "    .dataframe tbody tr th:only-of-type {\n",
       "        vertical-align: middle;\n",
       "    }\n",
       "\n",
       "    .dataframe tbody tr th {\n",
       "        vertical-align: top;\n",
       "    }\n",
       "\n",
       "    .dataframe thead th {\n",
       "        text-align: right;\n",
       "    }\n",
       "</style>\n",
       "<table border=\"1\" class=\"dataframe\">\n",
       "  <thead>\n",
       "    <tr style=\"text-align: right;\">\n",
       "      <th></th>\n",
       "      <th>id</th>\n",
       "      <th>label</th>\n",
       "    </tr>\n",
       "  </thead>\n",
       "  <tbody>\n",
       "    <tr>\n",
       "      <th>0</th>\n",
       "      <td>1</td>\n",
       "      <td>6</td>\n",
       "    </tr>\n",
       "    <tr>\n",
       "      <th>1</th>\n",
       "      <td>2</td>\n",
       "      <td>1</td>\n",
       "    </tr>\n",
       "    <tr>\n",
       "      <th>2</th>\n",
       "      <td>3</td>\n",
       "      <td>0</td>\n",
       "    </tr>\n",
       "    <tr>\n",
       "      <th>3</th>\n",
       "      <td>4</td>\n",
       "      <td>0</td>\n",
       "    </tr>\n",
       "    <tr>\n",
       "      <th>4</th>\n",
       "      <td>5</td>\n",
       "      <td>9</td>\n",
       "    </tr>\n",
       "    <tr>\n",
       "      <th>...</th>\n",
       "      <td>...</td>\n",
       "      <td>...</td>\n",
       "    </tr>\n",
       "    <tr>\n",
       "      <th>9995</th>\n",
       "      <td>9996</td>\n",
       "      <td>3</td>\n",
       "    </tr>\n",
       "    <tr>\n",
       "      <th>9996</th>\n",
       "      <td>9997</td>\n",
       "      <td>7</td>\n",
       "    </tr>\n",
       "    <tr>\n",
       "      <th>9997</th>\n",
       "      <td>9998</td>\n",
       "      <td>2</td>\n",
       "    </tr>\n",
       "    <tr>\n",
       "      <th>9998</th>\n",
       "      <td>9999</td>\n",
       "      <td>8</td>\n",
       "    </tr>\n",
       "    <tr>\n",
       "      <th>9999</th>\n",
       "      <td>10000</td>\n",
       "      <td>3</td>\n",
       "    </tr>\n",
       "  </tbody>\n",
       "</table>\n",
       "<p>10000 rows × 2 columns</p>\n",
       "</div>"
      ],
      "text/plain": [
       "         id  label\n",
       "0         1      6\n",
       "1         2      1\n",
       "2         3      0\n",
       "3         4      0\n",
       "4         5      9\n",
       "...     ...    ...\n",
       "9995   9996      3\n",
       "9996   9997      7\n",
       "9997   9998      2\n",
       "9998   9999      8\n",
       "9999  10000      3\n",
       "\n",
       "[10000 rows x 2 columns]"
      ]
     },
     "execution_count": 11,
     "metadata": {},
     "output_type": "execute_result"
    }
   ],
   "source": [
    "submit"
   ]
  },
  {
   "cell_type": "code",
   "execution_count": 12,
   "id": "fd44b1b1",
   "metadata": {
    "execution": {
     "iopub.execute_input": "2021-10-11T00:00:53.684014Z",
     "iopub.status.busy": "2021-10-11T00:00:53.683464Z",
     "iopub.status.idle": "2021-10-11T00:00:53.715627Z",
     "shell.execute_reply": "2021-10-11T00:00:53.714849Z",
     "shell.execute_reply.started": "2021-10-10T23:56:11.281646Z"
    },
    "papermill": {
     "duration": 0.054386,
     "end_time": "2021-10-11T00:00:53.715748",
     "exception": false,
     "start_time": "2021-10-11T00:00:53.661362",
     "status": "completed"
    },
    "tags": []
   },
   "outputs": [
    {
     "data": {
      "text/html": [
       "<div>\n",
       "<style scoped>\n",
       "    .dataframe tbody tr th:only-of-type {\n",
       "        vertical-align: middle;\n",
       "    }\n",
       "\n",
       "    .dataframe tbody tr th {\n",
       "        vertical-align: top;\n",
       "    }\n",
       "\n",
       "    .dataframe thead th {\n",
       "        text-align: right;\n",
       "    }\n",
       "</style>\n",
       "<table border=\"1\" class=\"dataframe\">\n",
       "  <thead>\n",
       "    <tr style=\"text-align: right;\">\n",
       "      <th></th>\n",
       "      <th>id</th>\n",
       "      <th>label</th>\n",
       "    </tr>\n",
       "  </thead>\n",
       "  <tbody>\n",
       "    <tr>\n",
       "      <th>0</th>\n",
       "      <td>1</td>\n",
       "      <td>6</td>\n",
       "    </tr>\n",
       "    <tr>\n",
       "      <th>1</th>\n",
       "      <td>2</td>\n",
       "      <td>1</td>\n",
       "    </tr>\n",
       "    <tr>\n",
       "      <th>2</th>\n",
       "      <td>3</td>\n",
       "      <td>0</td>\n",
       "    </tr>\n",
       "    <tr>\n",
       "      <th>3</th>\n",
       "      <td>4</td>\n",
       "      <td>0</td>\n",
       "    </tr>\n",
       "    <tr>\n",
       "      <th>4</th>\n",
       "      <td>5</td>\n",
       "      <td>9</td>\n",
       "    </tr>\n",
       "    <tr>\n",
       "      <th>...</th>\n",
       "      <td>...</td>\n",
       "      <td>...</td>\n",
       "    </tr>\n",
       "    <tr>\n",
       "      <th>9995</th>\n",
       "      <td>9996</td>\n",
       "      <td>3</td>\n",
       "    </tr>\n",
       "    <tr>\n",
       "      <th>9996</th>\n",
       "      <td>9997</td>\n",
       "      <td>7</td>\n",
       "    </tr>\n",
       "    <tr>\n",
       "      <th>9997</th>\n",
       "      <td>9998</td>\n",
       "      <td>2</td>\n",
       "    </tr>\n",
       "    <tr>\n",
       "      <th>9998</th>\n",
       "      <td>9999</td>\n",
       "      <td>8</td>\n",
       "    </tr>\n",
       "    <tr>\n",
       "      <th>9999</th>\n",
       "      <td>10000</td>\n",
       "      <td>3</td>\n",
       "    </tr>\n",
       "  </tbody>\n",
       "</table>\n",
       "<p>10000 rows × 2 columns</p>\n",
       "</div>"
      ],
      "text/plain": [
       "         id  label\n",
       "0         1      6\n",
       "1         2      1\n",
       "2         3      0\n",
       "3         4      0\n",
       "4         5      9\n",
       "...     ...    ...\n",
       "9995   9996      3\n",
       "9996   9997      7\n",
       "9997   9998      2\n",
       "9998   9999      8\n",
       "9999  10000      3\n",
       "\n",
       "[10000 rows x 2 columns]"
      ]
     },
     "execution_count": 12,
     "metadata": {},
     "output_type": "execute_result"
    }
   ],
   "source": [
    "submit.to_csv(\"submission.csv\", index = False)\n",
    "\n",
    "s = pd.read_csv(\"submission.csv\")\n",
    "s"
   ]
  },
  {
   "cell_type": "code",
   "execution_count": null,
   "id": "c1f8a958",
   "metadata": {
    "papermill": {
     "duration": 0.019619,
     "end_time": "2021-10-11T00:00:53.755433",
     "exception": false,
     "start_time": "2021-10-11T00:00:53.735814",
     "status": "completed"
    },
    "tags": []
   },
   "outputs": [],
   "source": []
  }
 ],
 "metadata": {
  "kernelspec": {
   "display_name": "Python 3",
   "language": "python",
   "name": "python3"
  },
  "language_info": {
   "codemirror_mode": {
    "name": "ipython",
    "version": 3
   },
   "file_extension": ".py",
   "mimetype": "text/x-python",
   "name": "python",
   "nbconvert_exporter": "python",
   "pygments_lexer": "ipython3",
   "version": "3.7.10"
  },
  "papermill": {
   "default_parameters": {},
   "duration": 179.716788,
   "end_time": "2021-10-11T00:00:55.600593",
   "environment_variables": {},
   "exception": null,
   "input_path": "__notebook__.ipynb",
   "output_path": "__notebook__.ipynb",
   "parameters": {},
   "start_time": "2021-10-10T23:57:55.883805",
   "version": "2.3.3"
  }
 },
 "nbformat": 4,
 "nbformat_minor": 5
}
