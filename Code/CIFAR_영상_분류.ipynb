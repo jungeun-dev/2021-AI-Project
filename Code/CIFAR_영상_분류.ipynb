{
 "cells": [
  {
   "cell_type": "code",
   "execution_count": 1,
   "id": "537ae712",
   "metadata": {
    "execution": {
     "iopub.execute_input": "2021-12-01T12:43:21.779047Z",
     "iopub.status.busy": "2021-12-01T12:43:21.778216Z",
     "iopub.status.idle": "2021-12-01T12:43:23.580515Z",
     "shell.execute_reply": "2021-12-01T12:43:23.581235Z",
     "shell.execute_reply.started": "2021-12-01T12:23:02.831383Z"
    },
    "papermill": {
     "duration": 1.828264,
     "end_time": "2021-12-01T12:43:23.581593",
     "exception": false,
     "start_time": "2021-12-01T12:43:21.753329",
     "status": "completed"
    },
    "tags": []
   },
   "outputs": [],
   "source": [
    "import os\n",
    "from os.path import join\n",
    "import cv2\n",
    "import torch\n",
    "import torchvision\n",
    "import torchvision.transforms as transforms\n",
    "from torchvision import models\n",
    "from glob import glob \n",
    "from PIL import Image\n",
    "\n",
    "\n",
    "batch_size = 32\n",
    "total_epoch = 5\n",
    "method = 'GoogLeNet'"
   ]
  },
  {
   "cell_type": "code",
   "execution_count": 2,
   "id": "191a9035",
   "metadata": {
    "execution": {
     "iopub.execute_input": "2021-12-01T12:43:23.662947Z",
     "iopub.status.busy": "2021-12-01T12:43:23.662112Z",
     "iopub.status.idle": "2021-12-01T12:43:23.671150Z",
     "shell.execute_reply": "2021-12-01T12:43:23.672023Z",
     "shell.execute_reply.started": "2021-12-01T12:23:05.066292Z"
    },
    "papermill": {
     "duration": 0.076441,
     "end_time": "2021-12-01T12:43:23.672281",
     "exception": false,
     "start_time": "2021-12-01T12:43:23.595840",
     "status": "completed"
    },
    "tags": []
   },
   "outputs": [],
   "source": [
    "#GPU\n",
    "if torch.cuda.is_available() : \n",
    "    device = 'cuda'\n",
    "else :\n",
    "    device = 'cpu'\n",
    "    \n",
    "torch.manual_seed(777)\n",
    "if device == 'cuda' :\n",
    "    torch.cuda.manual_seed_all(777)"
   ]
  },
  {
   "cell_type": "code",
   "execution_count": 3,
   "id": "9a6eb842",
   "metadata": {
    "execution": {
     "iopub.execute_input": "2021-12-01T12:43:23.708934Z",
     "iopub.status.busy": "2021-12-01T12:43:23.707164Z",
     "iopub.status.idle": "2021-12-01T12:43:23.709722Z",
     "shell.execute_reply": "2021-12-01T12:43:23.710439Z",
     "shell.execute_reply.started": "2021-12-01T12:23:05.144863Z"
    },
    "papermill": {
     "duration": 0.025888,
     "end_time": "2021-12-01T12:43:23.710631",
     "exception": false,
     "start_time": "2021-12-01T12:43:23.684743",
     "status": "completed"
    },
    "tags": []
   },
   "outputs": [],
   "source": [
    "#dataloader 짜기\n",
    "\n",
    "# /../input/2021-ai-w10-p2/images/images/0/aeroplane_s_000004.png\n",
    "\n",
    "class W10_dataloader(torch.utils.data.Dataset):\n",
    "    def __init__(self, data_path, split, transform = None):\n",
    "        self.split = split.upper()\n",
    "        assert self.split in {'TRAIN', 'TEST'}\n",
    "        self.transform = transform\n",
    "        self.data = data_path\n",
    "        if self.split == \"TRAIN\" :\n",
    "            self.label = [int(p.split('/')[-2]) for p in data_path]\n",
    "        self.data_len = len(self.data)\n",
    "    \n",
    "    def __len__(self):\n",
    "        return self.data_len\n",
    "    \n",
    "    def __getitem__(self, index):\n",
    "        image = Image.open(self.data[index], mode = 'r')\n",
    "        image = image.convert('RGB')\n",
    "        \n",
    "        if self.transform :\n",
    "            image = self.transform(image)\n",
    "        \n",
    "        if self.split == 'TEST':\n",
    "            return image\n",
    "        elif self.split == 'TRAIN':\n",
    "            self.label[index] = np.array(self.label[index])\n",
    "            return image , torch.from_numpy(self.label[index])\n",
    "        \n",
    "transform = transforms.Compose(\n",
    "    [transforms.Resize((224,224)),\n",
    "     transforms.ToTensor(),\n",
    "     transforms.Normalize((0.5,0.5,0.5),(0.5,0.5,0.5))])"
   ]
  },
  {
   "cell_type": "code",
   "execution_count": 4,
   "id": "1d5fffc1",
   "metadata": {
    "execution": {
     "iopub.execute_input": "2021-12-01T12:43:23.758627Z",
     "iopub.status.busy": "2021-12-01T12:43:23.757838Z",
     "iopub.status.idle": "2021-12-01T12:43:27.285185Z",
     "shell.execute_reply": "2021-12-01T12:43:27.285739Z",
     "shell.execute_reply.started": "2021-12-01T12:23:05.172830Z"
    },
    "papermill": {
     "duration": 3.553089,
     "end_time": "2021-12-01T12:43:27.285893",
     "exception": false,
     "start_time": "2021-12-01T12:43:23.732804",
     "status": "completed"
    },
    "tags": []
   },
   "outputs": [],
   "source": [
    "train_mother_path = '../input/2021-ai-w10-p2/images/images'\n",
    "test_mother_path = '../input/2021-ai-w10-p2/test_data/test_data'\n",
    "train_image_path = glob(join(train_mother_path, '*', '*'))\n",
    "test_image_path = glob(join(test_mother_path, '*'))\n"
   ]
  },
  {
   "cell_type": "code",
   "execution_count": 5,
   "id": "915d7eca",
   "metadata": {
    "execution": {
     "iopub.execute_input": "2021-12-01T12:43:27.332173Z",
     "iopub.status.busy": "2021-12-01T12:43:27.321957Z",
     "iopub.status.idle": "2021-12-01T12:43:27.344812Z",
     "shell.execute_reply": "2021-12-01T12:43:27.345689Z",
     "shell.execute_reply.started": "2021-12-01T12:23:06.135184Z"
    },
    "papermill": {
     "duration": 0.047756,
     "end_time": "2021-12-01T12:43:27.345851",
     "exception": false,
     "start_time": "2021-12-01T12:43:27.298095",
     "status": "completed"
    },
    "tags": []
   },
   "outputs": [
    {
     "name": "stderr",
     "output_type": "stream",
     "text": [
      "/opt/conda/lib/python3.7/site-packages/torch/utils/data/dataloader.py:481: UserWarning: This DataLoader will create 4 worker processes in total. Our suggested max number of worker in current system is 2, which is smaller than what this DataLoader is going to create. Please be aware that excessive worker creation might get DataLoader running slow or even freeze, lower the worker number to avoid potential slowness/freeze if necessary.\n",
      "  cpuset_checked))\n"
     ]
    }
   ],
   "source": [
    "train_data = W10_dataloader(train_image_path, 'train', transform = transform)\n",
    "test_data = W10_dataloader(test_image_path, 'test', transform = transform)\n",
    "\n",
    "train_loader = torch.utils.data.DataLoader(train_data, batch_size = batch_size, shuffle = True, num_workers =4)\n",
    "test_loader = torch.utils.data.DataLoader(test_data, batch_size = batch_size, shuffle = False, num_workers = 4)"
   ]
  },
  {
   "cell_type": "code",
   "execution_count": 6,
   "id": "a0933309",
   "metadata": {
    "execution": {
     "iopub.execute_input": "2021-12-01T12:43:27.373759Z",
     "iopub.status.busy": "2021-12-01T12:43:27.371952Z",
     "iopub.status.idle": "2021-12-01T12:43:27.374367Z",
     "shell.execute_reply": "2021-12-01T12:43:27.374771Z",
     "shell.execute_reply.started": "2021-12-01T12:24:07.170334Z"
    },
    "papermill": {
     "duration": 0.016785,
     "end_time": "2021-12-01T12:43:27.374889",
     "exception": false,
     "start_time": "2021-12-01T12:43:27.358104",
     "status": "completed"
    },
    "tags": []
   },
   "outputs": [],
   "source": [
    "# model = models.vgg16(pretrained = True)\n",
    "# model"
   ]
  },
  {
   "cell_type": "code",
   "execution_count": 7,
   "id": "5d8d57f6",
   "metadata": {
    "execution": {
     "iopub.execute_input": "2021-12-01T12:43:27.404248Z",
     "iopub.status.busy": "2021-12-01T12:43:27.403614Z",
     "iopub.status.idle": "2021-12-01T12:43:30.974267Z",
     "shell.execute_reply": "2021-12-01T12:43:30.973417Z",
     "shell.execute_reply.started": "2021-12-01T12:23:56.424874Z"
    },
    "papermill": {
     "duration": 3.588509,
     "end_time": "2021-12-01T12:43:30.974429",
     "exception": false,
     "start_time": "2021-12-01T12:43:27.385920",
     "status": "completed"
    },
    "tags": []
   },
   "outputs": [
    {
     "name": "stderr",
     "output_type": "stream",
     "text": [
      "Downloading: \"https://download.pytorch.org/models/googlenet-1378be20.pth\" to /root/.cache/torch/hub/checkpoints/googlenet-1378be20.pth\n"
     ]
    },
    {
     "data": {
      "application/vnd.jupyter.widget-view+json": {
       "model_id": "e45e6091834f4677a85ccbe304b62f87",
       "version_major": 2,
       "version_minor": 0
      },
      "text/plain": [
       "  0%|          | 0.00/49.7M [00:00<?, ?B/s]"
      ]
     },
     "metadata": {},
     "output_type": "display_data"
    }
   ],
   "source": [
    "# 사전 학습 모델 사용\n",
    "# ResNet , VGG , GoogLenet\n",
    "\n",
    "if method is \"ResNet\":\n",
    "    model = models.resnet18(pretrained = True)\n",
    "    model.to(device)\n",
    "    \n",
    "    #output layer 출력 형태 변환\n",
    "    model.fc.out_features = 10\n",
    "\n",
    "if method is 'VGG':\n",
    "    model = models.vgg16(pretrained = True)\n",
    "    model.to(device)\n",
    "    \n",
    "    model.classifier[6].out_features = 10\n",
    "\n",
    "if method is \"GoogLeNet\":\n",
    "    model = models.googlenet(pretrained = True)\n",
    "    model.to(device)\n",
    "    \n",
    "    model.fc.out_features = 10\n",
    "    "
   ]
  },
  {
   "cell_type": "code",
   "execution_count": 8,
   "id": "4ab89f05",
   "metadata": {
    "execution": {
     "iopub.execute_input": "2021-12-01T12:43:31.005578Z",
     "iopub.status.busy": "2021-12-01T12:43:31.004781Z",
     "iopub.status.idle": "2021-12-01T12:43:31.007470Z",
     "shell.execute_reply": "2021-12-01T12:43:31.007029Z",
     "shell.execute_reply.started": "2021-12-01T12:24:54.123861Z"
    },
    "papermill": {
     "duration": 0.020835,
     "end_time": "2021-12-01T12:43:31.007582",
     "exception": false,
     "start_time": "2021-12-01T12:43:30.986747",
     "status": "completed"
    },
    "tags": []
   },
   "outputs": [],
   "source": [
    "import torch\n",
    "import torchvision\n",
    "import torchvision.transforms as transforms\n",
    "import torch.optim as optim\n",
    "import time\n",
    "import torch.nn.functional as F\n",
    "import torch.nn as nn\n",
    "import matplotlib.pyplot as plt\n",
    "from torchvision import models\n",
    "import numpy as np\n",
    "criterion = nn.CrossEntropyLoss()\n",
    "optimizer = optim.SGD(model.parameters(), lr = 0.001 , momentum = 0.9)"
   ]
  },
  {
   "cell_type": "code",
   "execution_count": 9,
   "id": "5a6c57b5",
   "metadata": {
    "execution": {
     "iopub.execute_input": "2021-12-01T12:43:31.038536Z",
     "iopub.status.busy": "2021-12-01T12:43:31.037745Z",
     "iopub.status.idle": "2021-12-01T12:43:31.040038Z",
     "shell.execute_reply": "2021-12-01T12:43:31.039635Z",
     "shell.execute_reply.started": "2021-12-01T12:26:05.262025Z"
    },
    "papermill": {
     "duration": 0.020739,
     "end_time": "2021-12-01T12:43:31.040158",
     "exception": false,
     "start_time": "2021-12-01T12:43:31.019419",
     "status": "completed"
    },
    "tags": []
   },
   "outputs": [],
   "source": [
    "def train(model, train_dataloader):\n",
    "    model.train()\n",
    "    train_running_loss = 0.0\n",
    "    train_running_correct = 0\n",
    "    \n",
    "    for i, data in enumerate(train_dataloader):\n",
    "        data, target = data[0].to(device) , data[1].to(device)\n",
    "        \n",
    "        optimizer.zero_grad()\n",
    "        \n",
    "        hypothesis = model(data)\n",
    "        \n",
    "        loss = criterion(hypothesis, target)\n",
    "        \n",
    "        train_running_loss += loss.item()\n",
    "        _, prdt = torch.max(hypothesis.data, 1)\n",
    "        train_running_correct += (prdt == target).sum().item()\n",
    "        \n",
    "        loss.backward()\n",
    "        optimizer.step()\n",
    "    train_loss = train_running_loss / len(train_dataloader.dataset)\n",
    "    train_accuracy = 100. * train_running_correct / len(train_dataloader.dataset)\n",
    "    \n",
    "    print(f'Train Loss : {train_loss :.4f}, Train Acc : {train_accuracy :.2f}')\n",
    "          \n",
    "    return train_loss, train_accuracy"
   ]
  },
  {
   "cell_type": "code",
   "execution_count": 10,
   "id": "73c4bf69",
   "metadata": {
    "execution": {
     "iopub.execute_input": "2021-12-01T12:43:31.070901Z",
     "iopub.status.busy": "2021-12-01T12:43:31.067861Z",
     "iopub.status.idle": "2021-12-01T12:56:00.899768Z",
     "shell.execute_reply": "2021-12-01T12:56:00.900293Z",
     "shell.execute_reply.started": "2021-12-01T12:26:05.670839Z"
    },
    "papermill": {
     "duration": 749.848296,
     "end_time": "2021-12-01T12:56:00.900474",
     "exception": false,
     "start_time": "2021-12-01T12:43:31.052178",
     "status": "completed"
    },
    "tags": []
   },
   "outputs": [
    {
     "name": "stdout",
     "output_type": "stream",
     "text": [
      "Train Loss : 0.0184, Train Acc : 83.21\n",
      "5 [83.212] []\n",
      "Train Loss : 0.0062, Train Acc : 93.44\n",
      "5 [83.212, 93.444] []\n",
      "Train Loss : 0.0038, Train Acc : 96.00\n",
      "5 [83.212, 93.444, 96.002] []\n",
      "Train Loss : 0.0024, Train Acc : 97.55\n",
      "5 [83.212, 93.444, 96.002, 97.552] []\n",
      "Train Loss : 0.0016, Train Acc : 98.35\n",
      "5 [83.212, 93.444, 96.002, 97.552, 98.352] []\n"
     ]
    }
   ],
   "source": [
    "train_loss , train_accuracy = [] , []\n",
    "val_loss , val_accuracy = [], []\n",
    "\n",
    "start = time.time()\n",
    "\n",
    "for e in range(total_epoch):\n",
    "    train_epoch_loss , train_epoch_accuracy = train(model, train_loader)\n",
    "    train_loss.append(train_epoch_loss)\n",
    "    train_accuracy.append(train_epoch_accuracy)\n",
    "    print(total_epoch ,train_accuracy,val_accuracy )\n",
    "    \n",
    "end = time.time()"
   ]
  },
  {
   "cell_type": "code",
   "execution_count": 11,
   "id": "12606bf4",
   "metadata": {
    "execution": {
     "iopub.execute_input": "2021-12-01T12:56:00.932553Z",
     "iopub.status.busy": "2021-12-01T12:56:00.931820Z",
     "iopub.status.idle": "2021-12-01T12:56:00.934483Z",
     "shell.execute_reply": "2021-12-01T12:56:00.934044Z",
     "shell.execute_reply.started": "2021-12-01T12:42:19.577299Z"
    },
    "papermill": {
     "duration": 0.020894,
     "end_time": "2021-12-01T12:56:00.934599",
     "exception": false,
     "start_time": "2021-12-01T12:56:00.913705",
     "status": "completed"
    },
    "tags": []
   },
   "outputs": [],
   "source": [
    "def test(model, test_loader):\n",
    "    model.eval()\n",
    "    prdts = []\n",
    "    for i, data in enumerate(test_loader):\n",
    "        data = data.to(device)\n",
    "        hypothesis = model(data)\n",
    "        _, pred = torch.max(hypothesis.data, 1)\n",
    "        prdts.extend(pred.detach().cpu().tolist())\n",
    "    return prdts"
   ]
  },
  {
   "cell_type": "code",
   "execution_count": 12,
   "id": "cb59d4f4",
   "metadata": {
    "execution": {
     "iopub.execute_input": "2021-12-01T12:56:00.965355Z",
     "iopub.status.busy": "2021-12-01T12:56:00.964825Z",
     "iopub.status.idle": "2021-12-01T12:56:36.265690Z",
     "shell.execute_reply": "2021-12-01T12:56:36.266190Z",
     "shell.execute_reply.started": "2021-12-01T12:42:20.035262Z"
    },
    "papermill": {
     "duration": 35.31897,
     "end_time": "2021-12-01T12:56:36.266387",
     "exception": false,
     "start_time": "2021-12-01T12:56:00.947417",
     "status": "completed"
    },
    "tags": []
   },
   "outputs": [],
   "source": [
    "import pandas as pd\n",
    "submit = pd.read_csv(\"../input/2021-ai-w10-p2/format.csv\")\n",
    "prdts = test(model, test_loader)"
   ]
  },
  {
   "cell_type": "code",
   "execution_count": 13,
   "id": "8517baf7",
   "metadata": {
    "execution": {
     "iopub.execute_input": "2021-12-01T12:56:36.313814Z",
     "iopub.status.busy": "2021-12-01T12:56:36.312965Z",
     "iopub.status.idle": "2021-12-01T12:56:36.334653Z",
     "shell.execute_reply": "2021-12-01T12:56:36.334171Z",
     "shell.execute_reply.started": "2021-12-01T12:42:53.178812Z"
    },
    "papermill": {
     "duration": 0.05066,
     "end_time": "2021-12-01T12:56:36.334766",
     "exception": false,
     "start_time": "2021-12-01T12:56:36.284106",
     "status": "completed"
    },
    "tags": []
   },
   "outputs": [],
   "source": [
    "submit['label'] = prdts\n",
    "submit.to_csv(\"submit.csv\", index = False)"
   ]
  },
  {
   "cell_type": "code",
   "execution_count": 14,
   "id": "575f214b",
   "metadata": {
    "execution": {
     "iopub.execute_input": "2021-12-01T12:56:36.367591Z",
     "iopub.status.busy": "2021-12-01T12:56:36.367032Z",
     "iopub.status.idle": "2021-12-01T12:56:36.379713Z",
     "shell.execute_reply": "2021-12-01T12:56:36.379255Z",
     "shell.execute_reply.started": "2021-12-01T12:42:53.245901Z"
    },
    "papermill": {
     "duration": 0.031731,
     "end_time": "2021-12-01T12:56:36.379822",
     "exception": false,
     "start_time": "2021-12-01T12:56:36.348091",
     "status": "completed"
    },
    "tags": []
   },
   "outputs": [
    {
     "data": {
      "text/html": [
       "<div>\n",
       "<style scoped>\n",
       "    .dataframe tbody tr th:only-of-type {\n",
       "        vertical-align: middle;\n",
       "    }\n",
       "\n",
       "    .dataframe tbody tr th {\n",
       "        vertical-align: top;\n",
       "    }\n",
       "\n",
       "    .dataframe thead th {\n",
       "        text-align: right;\n",
       "    }\n",
       "</style>\n",
       "<table border=\"1\" class=\"dataframe\">\n",
       "  <thead>\n",
       "    <tr style=\"text-align: right;\">\n",
       "      <th></th>\n",
       "      <th>id</th>\n",
       "      <th>label</th>\n",
       "    </tr>\n",
       "  </thead>\n",
       "  <tbody>\n",
       "    <tr>\n",
       "      <th>0</th>\n",
       "      <td>1</td>\n",
       "      <td>0</td>\n",
       "    </tr>\n",
       "    <tr>\n",
       "      <th>1</th>\n",
       "      <td>2</td>\n",
       "      <td>7</td>\n",
       "    </tr>\n",
       "    <tr>\n",
       "      <th>2</th>\n",
       "      <td>3</td>\n",
       "      <td>6</td>\n",
       "    </tr>\n",
       "    <tr>\n",
       "      <th>3</th>\n",
       "      <td>4</td>\n",
       "      <td>8</td>\n",
       "    </tr>\n",
       "    <tr>\n",
       "      <th>4</th>\n",
       "      <td>5</td>\n",
       "      <td>8</td>\n",
       "    </tr>\n",
       "    <tr>\n",
       "      <th>...</th>\n",
       "      <td>...</td>\n",
       "      <td>...</td>\n",
       "    </tr>\n",
       "    <tr>\n",
       "      <th>9995</th>\n",
       "      <td>9996</td>\n",
       "      <td>7</td>\n",
       "    </tr>\n",
       "    <tr>\n",
       "      <th>9996</th>\n",
       "      <td>9997</td>\n",
       "      <td>6</td>\n",
       "    </tr>\n",
       "    <tr>\n",
       "      <th>9997</th>\n",
       "      <td>9998</td>\n",
       "      <td>4</td>\n",
       "    </tr>\n",
       "    <tr>\n",
       "      <th>9998</th>\n",
       "      <td>9999</td>\n",
       "      <td>1</td>\n",
       "    </tr>\n",
       "    <tr>\n",
       "      <th>9999</th>\n",
       "      <td>10000</td>\n",
       "      <td>1</td>\n",
       "    </tr>\n",
       "  </tbody>\n",
       "</table>\n",
       "<p>10000 rows × 2 columns</p>\n",
       "</div>"
      ],
      "text/plain": [
       "         id  label\n",
       "0         1      0\n",
       "1         2      7\n",
       "2         3      6\n",
       "3         4      8\n",
       "4         5      8\n",
       "...     ...    ...\n",
       "9995   9996      7\n",
       "9996   9997      6\n",
       "9997   9998      4\n",
       "9998   9999      1\n",
       "9999  10000      1\n",
       "\n",
       "[10000 rows x 2 columns]"
      ]
     },
     "execution_count": 14,
     "metadata": {},
     "output_type": "execute_result"
    }
   ],
   "source": [
    "submit"
   ]
  },
  {
   "cell_type": "code",
   "execution_count": null,
   "id": "7b367fb2",
   "metadata": {
    "papermill": {
     "duration": 0.013343,
     "end_time": "2021-12-01T12:56:36.407270",
     "exception": false,
     "start_time": "2021-12-01T12:56:36.393927",
     "status": "completed"
    },
    "tags": []
   },
   "outputs": [],
   "source": []
  }
 ],
 "metadata": {
  "kernelspec": {
   "display_name": "Python 3",
   "language": "python",
   "name": "python3"
  },
  "language_info": {
   "codemirror_mode": {
    "name": "ipython",
    "version": 3
   },
   "file_extension": ".py",
   "mimetype": "text/x-python",
   "name": "python",
   "nbconvert_exporter": "python",
   "pygments_lexer": "ipython3",
   "version": "3.7.10"
  },
  "papermill": {
   "default_parameters": {},
   "duration": 803.970598,
   "end_time": "2021-12-01T12:56:37.933801",
   "environment_variables": {},
   "exception": null,
   "input_path": "__notebook__.ipynb",
   "output_path": "__notebook__.ipynb",
   "parameters": {},
   "start_time": "2021-12-01T12:43:13.963203",
   "version": "2.3.3"
  },
  "widgets": {
   "application/vnd.jupyter.widget-state+json": {
    "state": {
     "0edb0fce779143188e5e3286f42219ae": {
      "model_module": "@jupyter-widgets/controls",
      "model_module_version": "1.5.0",
      "model_name": "DescriptionStyleModel",
      "state": {
       "_model_module": "@jupyter-widgets/controls",
       "_model_module_version": "1.5.0",
       "_model_name": "DescriptionStyleModel",
       "_view_count": null,
       "_view_module": "@jupyter-widgets/base",
       "_view_module_version": "1.2.0",
       "_view_name": "StyleView",
       "description_width": ""
      }
     },
     "387daffd2af0404a8b7286318c835f5f": {
      "model_module": "@jupyter-widgets/controls",
      "model_module_version": "1.5.0",
      "model_name": "ProgressStyleModel",
      "state": {
       "_model_module": "@jupyter-widgets/controls",
       "_model_module_version": "1.5.0",
       "_model_name": "ProgressStyleModel",
       "_view_count": null,
       "_view_module": "@jupyter-widgets/base",
       "_view_module_version": "1.2.0",
       "_view_name": "StyleView",
       "bar_color": null,
       "description_width": ""
      }
     },
     "3d34879454eb4ff88d0ca53cc07efbce": {
      "model_module": "@jupyter-widgets/controls",
      "model_module_version": "1.5.0",
      "model_name": "FloatProgressModel",
      "state": {
       "_dom_classes": [],
       "_model_module": "@jupyter-widgets/controls",
       "_model_module_version": "1.5.0",
       "_model_name": "FloatProgressModel",
       "_view_count": null,
       "_view_module": "@jupyter-widgets/controls",
       "_view_module_version": "1.5.0",
       "_view_name": "ProgressView",
       "bar_style": "success",
       "description": "",
       "description_tooltip": null,
       "layout": "IPY_MODEL_f13d942f4dfb4f18b94bc909abaeb96f",
       "max": 52147035.0,
       "min": 0.0,
       "orientation": "horizontal",
       "style": "IPY_MODEL_387daffd2af0404a8b7286318c835f5f",
       "value": 52147035.0
      }
     },
     "4b84195d92844cabb4e96910a215da93": {
      "model_module": "@jupyter-widgets/base",
      "model_module_version": "1.2.0",
      "model_name": "LayoutModel",
      "state": {
       "_model_module": "@jupyter-widgets/base",
       "_model_module_version": "1.2.0",
       "_model_name": "LayoutModel",
       "_view_count": null,
       "_view_module": "@jupyter-widgets/base",
       "_view_module_version": "1.2.0",
       "_view_name": "LayoutView",
       "align_content": null,
       "align_items": null,
       "align_self": null,
       "border": null,
       "bottom": null,
       "display": null,
       "flex": null,
       "flex_flow": null,
       "grid_area": null,
       "grid_auto_columns": null,
       "grid_auto_flow": null,
       "grid_auto_rows": null,
       "grid_column": null,
       "grid_gap": null,
       "grid_row": null,
       "grid_template_areas": null,
       "grid_template_columns": null,
       "grid_template_rows": null,
       "height": null,
       "justify_content": null,
       "justify_items": null,
       "left": null,
       "margin": null,
       "max_height": null,
       "max_width": null,
       "min_height": null,
       "min_width": null,
       "object_fit": null,
       "object_position": null,
       "order": null,
       "overflow": null,
       "overflow_x": null,
       "overflow_y": null,
       "padding": null,
       "right": null,
       "top": null,
       "visibility": null,
       "width": null
      }
     },
     "5a727e64b9884c60bf0ceb479604a065": {
      "model_module": "@jupyter-widgets/controls",
      "model_module_version": "1.5.0",
      "model_name": "HTMLModel",
      "state": {
       "_dom_classes": [],
       "_model_module": "@jupyter-widgets/controls",
       "_model_module_version": "1.5.0",
       "_model_name": "HTMLModel",
       "_view_count": null,
       "_view_module": "@jupyter-widgets/controls",
       "_view_module_version": "1.5.0",
       "_view_name": "HTMLView",
       "description": "",
       "description_tooltip": null,
       "layout": "IPY_MODEL_f7a9c9b323ff49ccbe702b3fbdcd5fb3",
       "placeholder": "​",
       "style": "IPY_MODEL_b3d050e7c89f48649230f18f62875908",
       "value": "100%"
      }
     },
     "620fb15629524397a86a86e124379c23": {
      "model_module": "@jupyter-widgets/base",
      "model_module_version": "1.2.0",
      "model_name": "LayoutModel",
      "state": {
       "_model_module": "@jupyter-widgets/base",
       "_model_module_version": "1.2.0",
       "_model_name": "LayoutModel",
       "_view_count": null,
       "_view_module": "@jupyter-widgets/base",
       "_view_module_version": "1.2.0",
       "_view_name": "LayoutView",
       "align_content": null,
       "align_items": null,
       "align_self": null,
       "border": null,
       "bottom": null,
       "display": null,
       "flex": null,
       "flex_flow": null,
       "grid_area": null,
       "grid_auto_columns": null,
       "grid_auto_flow": null,
       "grid_auto_rows": null,
       "grid_column": null,
       "grid_gap": null,
       "grid_row": null,
       "grid_template_areas": null,
       "grid_template_columns": null,
       "grid_template_rows": null,
       "height": null,
       "justify_content": null,
       "justify_items": null,
       "left": null,
       "margin": null,
       "max_height": null,
       "max_width": null,
       "min_height": null,
       "min_width": null,
       "object_fit": null,
       "object_position": null,
       "order": null,
       "overflow": null,
       "overflow_x": null,
       "overflow_y": null,
       "padding": null,
       "right": null,
       "top": null,
       "visibility": null,
       "width": null
      }
     },
     "909e2f0a6dc44cc6b3241cff337450a8": {
      "model_module": "@jupyter-widgets/controls",
      "model_module_version": "1.5.0",
      "model_name": "HTMLModel",
      "state": {
       "_dom_classes": [],
       "_model_module": "@jupyter-widgets/controls",
       "_model_module_version": "1.5.0",
       "_model_name": "HTMLModel",
       "_view_count": null,
       "_view_module": "@jupyter-widgets/controls",
       "_view_module_version": "1.5.0",
       "_view_name": "HTMLView",
       "description": "",
       "description_tooltip": null,
       "layout": "IPY_MODEL_4b84195d92844cabb4e96910a215da93",
       "placeholder": "​",
       "style": "IPY_MODEL_0edb0fce779143188e5e3286f42219ae",
       "value": " 49.7M/49.7M [00:00&lt;00:00, 176MB/s]"
      }
     },
     "b3d050e7c89f48649230f18f62875908": {
      "model_module": "@jupyter-widgets/controls",
      "model_module_version": "1.5.0",
      "model_name": "DescriptionStyleModel",
      "state": {
       "_model_module": "@jupyter-widgets/controls",
       "_model_module_version": "1.5.0",
       "_model_name": "DescriptionStyleModel",
       "_view_count": null,
       "_view_module": "@jupyter-widgets/base",
       "_view_module_version": "1.2.0",
       "_view_name": "StyleView",
       "description_width": ""
      }
     },
     "e45e6091834f4677a85ccbe304b62f87": {
      "model_module": "@jupyter-widgets/controls",
      "model_module_version": "1.5.0",
      "model_name": "HBoxModel",
      "state": {
       "_dom_classes": [],
       "_model_module": "@jupyter-widgets/controls",
       "_model_module_version": "1.5.0",
       "_model_name": "HBoxModel",
       "_view_count": null,
       "_view_module": "@jupyter-widgets/controls",
       "_view_module_version": "1.5.0",
       "_view_name": "HBoxView",
       "box_style": "",
       "children": [
        "IPY_MODEL_5a727e64b9884c60bf0ceb479604a065",
        "IPY_MODEL_3d34879454eb4ff88d0ca53cc07efbce",
        "IPY_MODEL_909e2f0a6dc44cc6b3241cff337450a8"
       ],
       "layout": "IPY_MODEL_620fb15629524397a86a86e124379c23"
      }
     },
     "f13d942f4dfb4f18b94bc909abaeb96f": {
      "model_module": "@jupyter-widgets/base",
      "model_module_version": "1.2.0",
      "model_name": "LayoutModel",
      "state": {
       "_model_module": "@jupyter-widgets/base",
       "_model_module_version": "1.2.0",
       "_model_name": "LayoutModel",
       "_view_count": null,
       "_view_module": "@jupyter-widgets/base",
       "_view_module_version": "1.2.0",
       "_view_name": "LayoutView",
       "align_content": null,
       "align_items": null,
       "align_self": null,
       "border": null,
       "bottom": null,
       "display": null,
       "flex": null,
       "flex_flow": null,
       "grid_area": null,
       "grid_auto_columns": null,
       "grid_auto_flow": null,
       "grid_auto_rows": null,
       "grid_column": null,
       "grid_gap": null,
       "grid_row": null,
       "grid_template_areas": null,
       "grid_template_columns": null,
       "grid_template_rows": null,
       "height": null,
       "justify_content": null,
       "justify_items": null,
       "left": null,
       "margin": null,
       "max_height": null,
       "max_width": null,
       "min_height": null,
       "min_width": null,
       "object_fit": null,
       "object_position": null,
       "order": null,
       "overflow": null,
       "overflow_x": null,
       "overflow_y": null,
       "padding": null,
       "right": null,
       "top": null,
       "visibility": null,
       "width": null
      }
     },
     "f7a9c9b323ff49ccbe702b3fbdcd5fb3": {
      "model_module": "@jupyter-widgets/base",
      "model_module_version": "1.2.0",
      "model_name": "LayoutModel",
      "state": {
       "_model_module": "@jupyter-widgets/base",
       "_model_module_version": "1.2.0",
       "_model_name": "LayoutModel",
       "_view_count": null,
       "_view_module": "@jupyter-widgets/base",
       "_view_module_version": "1.2.0",
       "_view_name": "LayoutView",
       "align_content": null,
       "align_items": null,
       "align_self": null,
       "border": null,
       "bottom": null,
       "display": null,
       "flex": null,
       "flex_flow": null,
       "grid_area": null,
       "grid_auto_columns": null,
       "grid_auto_flow": null,
       "grid_auto_rows": null,
       "grid_column": null,
       "grid_gap": null,
       "grid_row": null,
       "grid_template_areas": null,
       "grid_template_columns": null,
       "grid_template_rows": null,
       "height": null,
       "justify_content": null,
       "justify_items": null,
       "left": null,
       "margin": null,
       "max_height": null,
       "max_width": null,
       "min_height": null,
       "min_width": null,
       "object_fit": null,
       "object_position": null,
       "order": null,
       "overflow": null,
       "overflow_x": null,
       "overflow_y": null,
       "padding": null,
       "right": null,
       "top": null,
       "visibility": null,
       "width": null
      }
     }
    },
    "version_major": 2,
    "version_minor": 0
   }
  }
 },
 "nbformat": 4,
 "nbformat_minor": 5
}
