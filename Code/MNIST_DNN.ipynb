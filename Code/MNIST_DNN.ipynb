{
 "cells": [
  {
   "cell_type": "code",
   "execution_count": 1,
   "id": "0b9b66c9",
   "metadata": {
    "_cell_guid": "b1076dfc-b9ad-4769-8c92-a6c4dae69d19",
    "_uuid": "8f2839f25d086af736a60e9eeb907d3b93b6e0e5",
    "execution": {
     "iopub.execute_input": "2021-10-17T13:30:37.526688Z",
     "iopub.status.busy": "2021-10-17T13:30:37.525154Z",
     "iopub.status.idle": "2021-10-17T13:30:37.537051Z",
     "shell.execute_reply": "2021-10-17T13:30:37.537691Z",
     "shell.execute_reply.started": "2021-10-17T13:29:03.270850Z"
    },
    "papermill": {
     "duration": 0.032068,
     "end_time": "2021-10-17T13:30:37.537972",
     "exception": false,
     "start_time": "2021-10-17T13:30:37.505904",
     "status": "completed"
    },
    "tags": []
   },
   "outputs": [
    {
     "name": "stdout",
     "output_type": "stream",
     "text": [
      "/kaggle/input/2021-ai-w7-p1/mnist_test.csv\n",
      "/kaggle/input/2021-ai-w7-p1/mnist_train.csv\n",
      "/kaggle/input/2021-ai-w7-p1/submission.csv\n"
     ]
    }
   ],
   "source": [
    "# This Python 3 environment comes with many helpful analytics libraries installed\n",
    "# It is defined by the kaggle/python Docker image: https://github.com/kaggle/docker-python\n",
    "# For example, here's several helpful packages to load\n",
    "\n",
    "import numpy as np # linear algebra\n",
    "import pandas as pd # data processing, CSV file I/O (e.g. pd.read_csv)\n",
    "\n",
    "# Input data files are available in the read-only \"../input/\" directory\n",
    "# For example, running this (by clicking run or pressing Shift+Enter) will list all files under the input directory\n",
    "\n",
    "import os\n",
    "for dirname, _, filenames in os.walk('/kaggle/input'):\n",
    "    for filename in filenames:\n",
    "        print(os.path.join(dirname, filename))\n",
    "\n",
    "# You can write up to 20GB to the current directory (/kaggle/working/) that gets preserved as output when you create a version using \"Save & Run All\" \n",
    "# You can also write temporary files to /kaggle/temp/, but they won't be saved outside of the current session"
   ]
  },
  {
   "cell_type": "code",
   "execution_count": 2,
   "id": "4743fc5b",
   "metadata": {
    "execution": {
     "iopub.execute_input": "2021-10-17T13:30:37.571752Z",
     "iopub.status.busy": "2021-10-17T13:30:37.571104Z",
     "iopub.status.idle": "2021-10-17T13:30:48.177732Z",
     "shell.execute_reply": "2021-10-17T13:30:48.177208Z",
     "shell.execute_reply.started": "2021-10-17T13:29:03.285227Z"
    },
    "papermill": {
     "duration": 10.624779,
     "end_time": "2021-10-17T13:30:48.177885",
     "exception": false,
     "start_time": "2021-10-17T13:30:37.553106",
     "status": "completed"
    },
    "tags": []
   },
   "outputs": [],
   "source": [
    "#data road\n",
    "\n",
    "import torch\n",
    "\n",
    "torch.manual_seed(1);\n",
    "\n",
    "train = pd.read_csv(\"../input/2021-ai-w7-p1/mnist_train.csv\")\n",
    "test  = pd.read_csv(\"../input/2021-ai-w7-p1/mnist_test.csv\")\n",
    "submit = pd.read_csv(\"../input/2021-ai-w7-p1/submission.csv\")"
   ]
  },
  {
   "cell_type": "code",
   "execution_count": 3,
   "id": "3260bd69",
   "metadata": {
    "execution": {
     "iopub.execute_input": "2021-10-17T13:30:48.252059Z",
     "iopub.status.busy": "2021-10-17T13:30:48.251520Z",
     "iopub.status.idle": "2021-10-17T13:30:48.255270Z",
     "shell.execute_reply": "2021-10-17T13:30:48.254828Z",
     "shell.execute_reply.started": "2021-10-17T13:29:09.976312Z"
    },
    "papermill": {
     "duration": 0.062407,
     "end_time": "2021-10-17T13:30:48.255413",
     "exception": false,
     "start_time": "2021-10-17T13:30:48.193006",
     "status": "completed"
    },
    "tags": []
   },
   "outputs": [],
   "source": [
    "#gpu 사용\n",
    "device = 'cuda' if torch.cuda.is_available() else 'cpu'"
   ]
  },
  {
   "cell_type": "code",
   "execution_count": 4,
   "id": "46613eb6",
   "metadata": {
    "execution": {
     "iopub.execute_input": "2021-10-17T13:30:48.292226Z",
     "iopub.status.busy": "2021-10-17T13:30:48.291716Z",
     "iopub.status.idle": "2021-10-17T13:30:48.348986Z",
     "shell.execute_reply": "2021-10-17T13:30:48.349473Z",
     "shell.execute_reply.started": "2021-10-17T13:29:09.982935Z"
    },
    "papermill": {
     "duration": 0.079842,
     "end_time": "2021-10-17T13:30:48.349625",
     "exception": false,
     "start_time": "2021-10-17T13:30:48.269783",
     "status": "completed"
    },
    "tags": []
   },
   "outputs": [
    {
     "data": {
      "text/html": [
       "<div>\n",
       "<style scoped>\n",
       "    .dataframe tbody tr th:only-of-type {\n",
       "        vertical-align: middle;\n",
       "    }\n",
       "\n",
       "    .dataframe tbody tr th {\n",
       "        vertical-align: top;\n",
       "    }\n",
       "\n",
       "    .dataframe thead th {\n",
       "        text-align: right;\n",
       "    }\n",
       "</style>\n",
       "<table border=\"1\" class=\"dataframe\">\n",
       "  <thead>\n",
       "    <tr style=\"text-align: right;\">\n",
       "      <th></th>\n",
       "      <th>Unnamed: 0</th>\n",
       "      <th>0</th>\n",
       "      <th>1</th>\n",
       "      <th>2</th>\n",
       "      <th>3</th>\n",
       "      <th>4</th>\n",
       "      <th>5</th>\n",
       "      <th>6</th>\n",
       "      <th>7</th>\n",
       "      <th>8</th>\n",
       "      <th>...</th>\n",
       "      <th>775</th>\n",
       "      <th>776</th>\n",
       "      <th>777</th>\n",
       "      <th>778</th>\n",
       "      <th>779</th>\n",
       "      <th>780</th>\n",
       "      <th>781</th>\n",
       "      <th>782</th>\n",
       "      <th>783</th>\n",
       "      <th>784</th>\n",
       "    </tr>\n",
       "  </thead>\n",
       "  <tbody>\n",
       "    <tr>\n",
       "      <th>0</th>\n",
       "      <td>0</td>\n",
       "      <td>0.0</td>\n",
       "      <td>0.0</td>\n",
       "      <td>0.0</td>\n",
       "      <td>0.0</td>\n",
       "      <td>0.0</td>\n",
       "      <td>0.0</td>\n",
       "      <td>0.0</td>\n",
       "      <td>0.0</td>\n",
       "      <td>0.0</td>\n",
       "      <td>...</td>\n",
       "      <td>0.0</td>\n",
       "      <td>0.0</td>\n",
       "      <td>0.0</td>\n",
       "      <td>0.0</td>\n",
       "      <td>0.0</td>\n",
       "      <td>0.0</td>\n",
       "      <td>0.0</td>\n",
       "      <td>0.0</td>\n",
       "      <td>0.0</td>\n",
       "      <td>5.0</td>\n",
       "    </tr>\n",
       "    <tr>\n",
       "      <th>1</th>\n",
       "      <td>1</td>\n",
       "      <td>0.0</td>\n",
       "      <td>0.0</td>\n",
       "      <td>0.0</td>\n",
       "      <td>0.0</td>\n",
       "      <td>0.0</td>\n",
       "      <td>0.0</td>\n",
       "      <td>0.0</td>\n",
       "      <td>0.0</td>\n",
       "      <td>0.0</td>\n",
       "      <td>...</td>\n",
       "      <td>0.0</td>\n",
       "      <td>0.0</td>\n",
       "      <td>0.0</td>\n",
       "      <td>0.0</td>\n",
       "      <td>0.0</td>\n",
       "      <td>0.0</td>\n",
       "      <td>0.0</td>\n",
       "      <td>0.0</td>\n",
       "      <td>0.0</td>\n",
       "      <td>0.0</td>\n",
       "    </tr>\n",
       "    <tr>\n",
       "      <th>2</th>\n",
       "      <td>2</td>\n",
       "      <td>0.0</td>\n",
       "      <td>0.0</td>\n",
       "      <td>0.0</td>\n",
       "      <td>0.0</td>\n",
       "      <td>0.0</td>\n",
       "      <td>0.0</td>\n",
       "      <td>0.0</td>\n",
       "      <td>0.0</td>\n",
       "      <td>0.0</td>\n",
       "      <td>...</td>\n",
       "      <td>0.0</td>\n",
       "      <td>0.0</td>\n",
       "      <td>0.0</td>\n",
       "      <td>0.0</td>\n",
       "      <td>0.0</td>\n",
       "      <td>0.0</td>\n",
       "      <td>0.0</td>\n",
       "      <td>0.0</td>\n",
       "      <td>0.0</td>\n",
       "      <td>4.0</td>\n",
       "    </tr>\n",
       "    <tr>\n",
       "      <th>3</th>\n",
       "      <td>3</td>\n",
       "      <td>0.0</td>\n",
       "      <td>0.0</td>\n",
       "      <td>0.0</td>\n",
       "      <td>0.0</td>\n",
       "      <td>0.0</td>\n",
       "      <td>0.0</td>\n",
       "      <td>0.0</td>\n",
       "      <td>0.0</td>\n",
       "      <td>0.0</td>\n",
       "      <td>...</td>\n",
       "      <td>0.0</td>\n",
       "      <td>0.0</td>\n",
       "      <td>0.0</td>\n",
       "      <td>0.0</td>\n",
       "      <td>0.0</td>\n",
       "      <td>0.0</td>\n",
       "      <td>0.0</td>\n",
       "      <td>0.0</td>\n",
       "      <td>0.0</td>\n",
       "      <td>1.0</td>\n",
       "    </tr>\n",
       "    <tr>\n",
       "      <th>4</th>\n",
       "      <td>4</td>\n",
       "      <td>0.0</td>\n",
       "      <td>0.0</td>\n",
       "      <td>0.0</td>\n",
       "      <td>0.0</td>\n",
       "      <td>0.0</td>\n",
       "      <td>0.0</td>\n",
       "      <td>0.0</td>\n",
       "      <td>0.0</td>\n",
       "      <td>0.0</td>\n",
       "      <td>...</td>\n",
       "      <td>0.0</td>\n",
       "      <td>0.0</td>\n",
       "      <td>0.0</td>\n",
       "      <td>0.0</td>\n",
       "      <td>0.0</td>\n",
       "      <td>0.0</td>\n",
       "      <td>0.0</td>\n",
       "      <td>0.0</td>\n",
       "      <td>0.0</td>\n",
       "      <td>9.0</td>\n",
       "    </tr>\n",
       "    <tr>\n",
       "      <th>...</th>\n",
       "      <td>...</td>\n",
       "      <td>...</td>\n",
       "      <td>...</td>\n",
       "      <td>...</td>\n",
       "      <td>...</td>\n",
       "      <td>...</td>\n",
       "      <td>...</td>\n",
       "      <td>...</td>\n",
       "      <td>...</td>\n",
       "      <td>...</td>\n",
       "      <td>...</td>\n",
       "      <td>...</td>\n",
       "      <td>...</td>\n",
       "      <td>...</td>\n",
       "      <td>...</td>\n",
       "      <td>...</td>\n",
       "      <td>...</td>\n",
       "      <td>...</td>\n",
       "      <td>...</td>\n",
       "      <td>...</td>\n",
       "      <td>...</td>\n",
       "    </tr>\n",
       "    <tr>\n",
       "      <th>59995</th>\n",
       "      <td>59995</td>\n",
       "      <td>0.0</td>\n",
       "      <td>0.0</td>\n",
       "      <td>0.0</td>\n",
       "      <td>0.0</td>\n",
       "      <td>0.0</td>\n",
       "      <td>0.0</td>\n",
       "      <td>0.0</td>\n",
       "      <td>0.0</td>\n",
       "      <td>0.0</td>\n",
       "      <td>...</td>\n",
       "      <td>0.0</td>\n",
       "      <td>0.0</td>\n",
       "      <td>0.0</td>\n",
       "      <td>0.0</td>\n",
       "      <td>0.0</td>\n",
       "      <td>0.0</td>\n",
       "      <td>0.0</td>\n",
       "      <td>0.0</td>\n",
       "      <td>0.0</td>\n",
       "      <td>8.0</td>\n",
       "    </tr>\n",
       "    <tr>\n",
       "      <th>59996</th>\n",
       "      <td>59996</td>\n",
       "      <td>0.0</td>\n",
       "      <td>0.0</td>\n",
       "      <td>0.0</td>\n",
       "      <td>0.0</td>\n",
       "      <td>0.0</td>\n",
       "      <td>0.0</td>\n",
       "      <td>0.0</td>\n",
       "      <td>0.0</td>\n",
       "      <td>0.0</td>\n",
       "      <td>...</td>\n",
       "      <td>0.0</td>\n",
       "      <td>0.0</td>\n",
       "      <td>0.0</td>\n",
       "      <td>0.0</td>\n",
       "      <td>0.0</td>\n",
       "      <td>0.0</td>\n",
       "      <td>0.0</td>\n",
       "      <td>0.0</td>\n",
       "      <td>0.0</td>\n",
       "      <td>3.0</td>\n",
       "    </tr>\n",
       "    <tr>\n",
       "      <th>59997</th>\n",
       "      <td>59997</td>\n",
       "      <td>0.0</td>\n",
       "      <td>0.0</td>\n",
       "      <td>0.0</td>\n",
       "      <td>0.0</td>\n",
       "      <td>0.0</td>\n",
       "      <td>0.0</td>\n",
       "      <td>0.0</td>\n",
       "      <td>0.0</td>\n",
       "      <td>0.0</td>\n",
       "      <td>...</td>\n",
       "      <td>0.0</td>\n",
       "      <td>0.0</td>\n",
       "      <td>0.0</td>\n",
       "      <td>0.0</td>\n",
       "      <td>0.0</td>\n",
       "      <td>0.0</td>\n",
       "      <td>0.0</td>\n",
       "      <td>0.0</td>\n",
       "      <td>0.0</td>\n",
       "      <td>5.0</td>\n",
       "    </tr>\n",
       "    <tr>\n",
       "      <th>59998</th>\n",
       "      <td>59998</td>\n",
       "      <td>0.0</td>\n",
       "      <td>0.0</td>\n",
       "      <td>0.0</td>\n",
       "      <td>0.0</td>\n",
       "      <td>0.0</td>\n",
       "      <td>0.0</td>\n",
       "      <td>0.0</td>\n",
       "      <td>0.0</td>\n",
       "      <td>0.0</td>\n",
       "      <td>...</td>\n",
       "      <td>0.0</td>\n",
       "      <td>0.0</td>\n",
       "      <td>0.0</td>\n",
       "      <td>0.0</td>\n",
       "      <td>0.0</td>\n",
       "      <td>0.0</td>\n",
       "      <td>0.0</td>\n",
       "      <td>0.0</td>\n",
       "      <td>0.0</td>\n",
       "      <td>6.0</td>\n",
       "    </tr>\n",
       "    <tr>\n",
       "      <th>59999</th>\n",
       "      <td>59999</td>\n",
       "      <td>0.0</td>\n",
       "      <td>0.0</td>\n",
       "      <td>0.0</td>\n",
       "      <td>0.0</td>\n",
       "      <td>0.0</td>\n",
       "      <td>0.0</td>\n",
       "      <td>0.0</td>\n",
       "      <td>0.0</td>\n",
       "      <td>0.0</td>\n",
       "      <td>...</td>\n",
       "      <td>0.0</td>\n",
       "      <td>0.0</td>\n",
       "      <td>0.0</td>\n",
       "      <td>0.0</td>\n",
       "      <td>0.0</td>\n",
       "      <td>0.0</td>\n",
       "      <td>0.0</td>\n",
       "      <td>0.0</td>\n",
       "      <td>0.0</td>\n",
       "      <td>8.0</td>\n",
       "    </tr>\n",
       "  </tbody>\n",
       "</table>\n",
       "<p>60000 rows × 786 columns</p>\n",
       "</div>"
      ],
      "text/plain": [
       "       Unnamed: 0    0    1    2    3    4    5    6    7    8  ...  775  776  \\\n",
       "0               0  0.0  0.0  0.0  0.0  0.0  0.0  0.0  0.0  0.0  ...  0.0  0.0   \n",
       "1               1  0.0  0.0  0.0  0.0  0.0  0.0  0.0  0.0  0.0  ...  0.0  0.0   \n",
       "2               2  0.0  0.0  0.0  0.0  0.0  0.0  0.0  0.0  0.0  ...  0.0  0.0   \n",
       "3               3  0.0  0.0  0.0  0.0  0.0  0.0  0.0  0.0  0.0  ...  0.0  0.0   \n",
       "4               4  0.0  0.0  0.0  0.0  0.0  0.0  0.0  0.0  0.0  ...  0.0  0.0   \n",
       "...           ...  ...  ...  ...  ...  ...  ...  ...  ...  ...  ...  ...  ...   \n",
       "59995       59995  0.0  0.0  0.0  0.0  0.0  0.0  0.0  0.0  0.0  ...  0.0  0.0   \n",
       "59996       59996  0.0  0.0  0.0  0.0  0.0  0.0  0.0  0.0  0.0  ...  0.0  0.0   \n",
       "59997       59997  0.0  0.0  0.0  0.0  0.0  0.0  0.0  0.0  0.0  ...  0.0  0.0   \n",
       "59998       59998  0.0  0.0  0.0  0.0  0.0  0.0  0.0  0.0  0.0  ...  0.0  0.0   \n",
       "59999       59999  0.0  0.0  0.0  0.0  0.0  0.0  0.0  0.0  0.0  ...  0.0  0.0   \n",
       "\n",
       "       777  778  779  780  781  782  783  784  \n",
       "0      0.0  0.0  0.0  0.0  0.0  0.0  0.0  5.0  \n",
       "1      0.0  0.0  0.0  0.0  0.0  0.0  0.0  0.0  \n",
       "2      0.0  0.0  0.0  0.0  0.0  0.0  0.0  4.0  \n",
       "3      0.0  0.0  0.0  0.0  0.0  0.0  0.0  1.0  \n",
       "4      0.0  0.0  0.0  0.0  0.0  0.0  0.0  9.0  \n",
       "...    ...  ...  ...  ...  ...  ...  ...  ...  \n",
       "59995  0.0  0.0  0.0  0.0  0.0  0.0  0.0  8.0  \n",
       "59996  0.0  0.0  0.0  0.0  0.0  0.0  0.0  3.0  \n",
       "59997  0.0  0.0  0.0  0.0  0.0  0.0  0.0  5.0  \n",
       "59998  0.0  0.0  0.0  0.0  0.0  0.0  0.0  6.0  \n",
       "59999  0.0  0.0  0.0  0.0  0.0  0.0  0.0  8.0  \n",
       "\n",
       "[60000 rows x 786 columns]"
      ]
     },
     "execution_count": 4,
     "metadata": {},
     "output_type": "execute_result"
    }
   ],
   "source": [
    "train"
   ]
  },
  {
   "cell_type": "code",
   "execution_count": 5,
   "id": "df9dfd02",
   "metadata": {
    "execution": {
     "iopub.execute_input": "2021-10-17T13:30:48.518274Z",
     "iopub.status.busy": "2021-10-17T13:30:48.517608Z",
     "iopub.status.idle": "2021-10-17T13:30:48.521017Z",
     "shell.execute_reply": "2021-10-17T13:30:48.520205Z",
     "shell.execute_reply.started": "2021-10-17T13:29:10.039391Z"
    },
    "papermill": {
     "duration": 0.155097,
     "end_time": "2021-10-17T13:30:48.521143",
     "exception": false,
     "start_time": "2021-10-17T13:30:48.366046",
     "status": "completed"
    },
    "tags": []
   },
   "outputs": [],
   "source": [
    "# 데이터 정리  필요 없는 열 제거\n",
    "train = train.drop(\"Unnamed: 0\", axis = 1)\n",
    "test = test.drop(\"Unnamed: 0\", axis = 1)"
   ]
  },
  {
   "cell_type": "code",
   "execution_count": 6,
   "id": "82d38250",
   "metadata": {
    "execution": {
     "iopub.execute_input": "2021-10-17T13:30:48.670949Z",
     "iopub.status.busy": "2021-10-17T13:30:48.557889Z",
     "iopub.status.idle": "2021-10-17T13:30:48.673953Z",
     "shell.execute_reply": "2021-10-17T13:30:48.674417Z",
     "shell.execute_reply.started": "2021-10-17T13:29:10.175171Z"
    },
    "papermill": {
     "duration": 0.137938,
     "end_time": "2021-10-17T13:30:48.674579",
     "exception": false,
     "start_time": "2021-10-17T13:30:48.536641",
     "status": "completed"
    },
    "tags": []
   },
   "outputs": [],
   "source": [
    "# 데이터 분류\n",
    "x_train = train.drop(\"784\", axis = 1)\n",
    "y_train = train['784']"
   ]
  },
  {
   "cell_type": "code",
   "execution_count": 7,
   "id": "fd1e1423",
   "metadata": {
    "execution": {
     "iopub.execute_input": "2021-10-17T13:30:48.709293Z",
     "iopub.status.busy": "2021-10-17T13:30:48.708800Z",
     "iopub.status.idle": "2021-10-17T13:30:50.542383Z",
     "shell.execute_reply": "2021-10-17T13:30:50.541819Z",
     "shell.execute_reply.started": "2021-10-17T13:29:10.292337Z"
    },
    "papermill": {
     "duration": 1.852376,
     "end_time": "2021-10-17T13:30:50.542565",
     "exception": false,
     "start_time": "2021-10-17T13:30:48.690189",
     "status": "completed"
    },
    "tags": []
   },
   "outputs": [],
   "source": [
    "#standardscaler 를 통한 데이터 정규화\n",
    "from sklearn.preprocessing import StandardScaler\n",
    "\n",
    "sc = StandardScaler()\n",
    "\n",
    "x_train = sc.fit_transform(x_train)\n",
    "test = sc.transform(test)\n"
   ]
  },
  {
   "cell_type": "code",
   "execution_count": 8,
   "id": "16546c95",
   "metadata": {
    "execution": {
     "iopub.execute_input": "2021-10-17T13:30:50.580986Z",
     "iopub.status.busy": "2021-10-17T13:30:50.580213Z",
     "iopub.status.idle": "2021-10-17T13:30:50.745776Z",
     "shell.execute_reply": "2021-10-17T13:30:50.745265Z",
     "shell.execute_reply.started": "2021-10-17T13:29:11.444097Z"
    },
    "papermill": {
     "duration": 0.186841,
     "end_time": "2021-10-17T13:30:50.745921",
     "exception": false,
     "start_time": "2021-10-17T13:30:50.559080",
     "status": "completed"
    },
    "tags": []
   },
   "outputs": [],
   "source": [
    "#tensor 자료형으로 변환\n",
    "x_train = torch.FloatTensor(x_train)\n",
    "y_train = torch.LongTensor(y_train)\n",
    "test = torch.FloatTensor(test)"
   ]
  },
  {
   "cell_type": "code",
   "execution_count": 9,
   "id": "0418fcb3",
   "metadata": {
    "execution": {
     "iopub.execute_input": "2021-10-17T13:30:50.784049Z",
     "iopub.status.busy": "2021-10-17T13:30:50.783519Z",
     "iopub.status.idle": "2021-10-17T13:30:50.786720Z",
     "shell.execute_reply": "2021-10-17T13:30:50.787117Z",
     "shell.execute_reply.started": "2021-10-17T13:29:11.592951Z"
    },
    "papermill": {
     "duration": 0.023804,
     "end_time": "2021-10-17T13:30:50.787240",
     "exception": false,
     "start_time": "2021-10-17T13:30:50.763436",
     "status": "completed"
    },
    "tags": []
   },
   "outputs": [],
   "source": [
    "#dataset으로 변환\n",
    "from torch.utils.data import DataLoader,TensorDataset\n",
    "train_set = TensorDataset(x_train, y_train)"
   ]
  },
  {
   "cell_type": "code",
   "execution_count": 10,
   "id": "e29a97cb",
   "metadata": {
    "execution": {
     "iopub.execute_input": "2021-10-17T13:30:50.824932Z",
     "iopub.status.busy": "2021-10-17T13:30:50.823901Z",
     "iopub.status.idle": "2021-10-17T13:30:50.826015Z",
     "shell.execute_reply": "2021-10-17T13:30:50.826576Z",
     "shell.execute_reply.started": "2021-10-17T13:29:11.601243Z"
    },
    "papermill": {
     "duration": 0.022648,
     "end_time": "2021-10-17T13:30:50.826706",
     "exception": false,
     "start_time": "2021-10-17T13:30:50.804058",
     "status": "completed"
    },
    "tags": []
   },
   "outputs": [],
   "source": [
    "#학습 파라미터 설정\n",
    "lr = 0.001\n",
    "training_epochs =10\n",
    "batch_size = 100\n",
    "drop_prob = 0.3"
   ]
  },
  {
   "cell_type": "code",
   "execution_count": 11,
   "id": "dba8cf38",
   "metadata": {
    "execution": {
     "iopub.execute_input": "2021-10-17T13:30:50.865523Z",
     "iopub.status.busy": "2021-10-17T13:30:50.864620Z",
     "iopub.status.idle": "2021-10-17T13:30:53.808034Z",
     "shell.execute_reply": "2021-10-17T13:30:53.807470Z",
     "shell.execute_reply.started": "2021-10-17T13:29:11.608537Z"
    },
    "papermill": {
     "duration": 2.963999,
     "end_time": "2021-10-17T13:30:53.808159",
     "exception": false,
     "start_time": "2021-10-17T13:30:50.844160",
     "status": "completed"
    },
    "tags": []
   },
   "outputs": [],
   "source": [
    "# 모델 만들기\n",
    "layer1 =  torch.nn.Linear(784, 1568)\n",
    "layer2 =  torch.nn.Linear(1568, 1568)\n",
    "layer3 =  torch.nn.Linear(1568, 1568)\n",
    "layer4 =  torch.nn.Linear(1568, 784)\n",
    "layer5 =  torch.nn.Linear(784, 10)\n",
    "\n",
    "relu = torch.nn.ReLU()\n",
    "dropout = torch.nn.Dropout(p = drop_prob)\n",
    "model  = torch.nn.Sequential(layer1,relu,dropout,\n",
    "                            layer2,relu,dropout,\n",
    "                            layer3,relu,dropout,\n",
    "                            layer4,relu,dropout,\n",
    "                            layer5).to(device)\n"
   ]
  },
  {
   "cell_type": "code",
   "execution_count": 12,
   "id": "5a614891",
   "metadata": {
    "execution": {
     "iopub.execute_input": "2021-10-17T13:30:53.848516Z",
     "iopub.status.busy": "2021-10-17T13:30:53.847887Z",
     "iopub.status.idle": "2021-10-17T13:30:53.924371Z",
     "shell.execute_reply": "2021-10-17T13:30:53.923749Z",
     "shell.execute_reply.started": "2021-10-17T13:29:11.671449Z"
    },
    "papermill": {
     "duration": 0.098976,
     "end_time": "2021-10-17T13:30:53.924531",
     "exception": false,
     "start_time": "2021-10-17T13:30:53.825555",
     "status": "completed"
    },
    "tags": []
   },
   "outputs": [
    {
     "name": "stderr",
     "output_type": "stream",
     "text": [
      "/opt/conda/lib/python3.7/site-packages/ipykernel_launcher.py:2: UserWarning: nn.init.xavier_normal is now deprecated in favor of nn.init.xavier_normal_.\n",
      "  \n",
      "/opt/conda/lib/python3.7/site-packages/ipykernel_launcher.py:3: UserWarning: nn.init.xavier_normal is now deprecated in favor of nn.init.xavier_normal_.\n",
      "  This is separate from the ipykernel package so we can avoid doing imports until\n",
      "/opt/conda/lib/python3.7/site-packages/ipykernel_launcher.py:4: UserWarning: nn.init.xavier_normal is now deprecated in favor of nn.init.xavier_normal_.\n",
      "  after removing the cwd from sys.path.\n",
      "/opt/conda/lib/python3.7/site-packages/ipykernel_launcher.py:5: UserWarning: nn.init.xavier_normal is now deprecated in favor of nn.init.xavier_normal_.\n",
      "  \"\"\"\n",
      "/opt/conda/lib/python3.7/site-packages/ipykernel_launcher.py:6: UserWarning: nn.init.xavier_normal is now deprecated in favor of nn.init.xavier_normal_.\n",
      "  \n"
     ]
    },
    {
     "data": {
      "text/plain": [
       "Parameter containing:\n",
       "tensor([[ 0.0347,  0.0800, -0.0422,  ...,  0.0485,  0.1148, -0.0198],\n",
       "        [-0.0616,  0.1390,  0.0116,  ...,  0.0019,  0.0277,  0.0206],\n",
       "        [-0.0162, -0.0268,  0.0426,  ..., -0.0413, -0.0222, -0.0332],\n",
       "        ...,\n",
       "        [ 0.0314, -0.0033,  0.0468,  ...,  0.0147,  0.0300, -0.0610],\n",
       "        [ 0.0808,  0.0377, -0.0642,  ...,  0.0516, -0.0002,  0.0069],\n",
       "        [-0.0099, -0.0561, -0.0174,  ..., -0.0557, -0.0207, -0.0584]],\n",
       "       device='cuda:0', requires_grad=True)"
      ]
     },
     "execution_count": 12,
     "metadata": {},
     "output_type": "execute_result"
    }
   ],
   "source": [
    "#weight 초기화\n",
    "torch.nn.init.xavier_normal(layer1.weight)\n",
    "torch.nn.init.xavier_normal(layer2.weight)\n",
    "torch.nn.init.xavier_normal(layer3.weight)\n",
    "torch.nn.init.xavier_normal(layer4.weight)\n",
    "torch.nn.init.xavier_normal(layer5.weight)"
   ]
  },
  {
   "cell_type": "code",
   "execution_count": 13,
   "id": "eeeac3c5",
   "metadata": {
    "execution": {
     "iopub.execute_input": "2021-10-17T13:30:53.960439Z",
     "iopub.status.busy": "2021-10-17T13:30:53.959683Z",
     "iopub.status.idle": "2021-10-17T13:30:53.962175Z",
     "shell.execute_reply": "2021-10-17T13:30:53.961759Z",
     "shell.execute_reply.started": "2021-10-17T13:29:11.684922Z"
    },
    "papermill": {
     "duration": 0.021652,
     "end_time": "2021-10-17T13:30:53.962275",
     "exception": false,
     "start_time": "2021-10-17T13:30:53.940623",
     "status": "completed"
    },
    "tags": []
   },
   "outputs": [],
   "source": [
    "# 손실함수, 최적화 함수\n",
    "loss = torch.nn.CrossEntropyLoss().to(device)\n",
    "optimizer = torch.optim.Adam(model.parameters(), lr = lr)"
   ]
  },
  {
   "cell_type": "code",
   "execution_count": 14,
   "id": "37cace86",
   "metadata": {
    "execution": {
     "iopub.execute_input": "2021-10-17T13:30:53.997775Z",
     "iopub.status.busy": "2021-10-17T13:30:53.996609Z",
     "iopub.status.idle": "2021-10-17T13:30:53.998681Z",
     "shell.execute_reply": "2021-10-17T13:30:53.999114Z",
     "shell.execute_reply.started": "2021-10-17T13:29:11.691810Z"
    },
    "papermill": {
     "duration": 0.021641,
     "end_time": "2021-10-17T13:30:53.999239",
     "exception": false,
     "start_time": "2021-10-17T13:30:53.977598",
     "status": "completed"
    },
    "tags": []
   },
   "outputs": [],
   "source": [
    "data_loader = DataLoader(dataset = train_set,batch_size = batch_size, shuffle = True, drop_last = True)"
   ]
  },
  {
   "cell_type": "code",
   "execution_count": 15,
   "id": "20239c9c",
   "metadata": {
    "execution": {
     "iopub.execute_input": "2021-10-17T13:30:54.037453Z",
     "iopub.status.busy": "2021-10-17T13:30:54.036754Z",
     "iopub.status.idle": "2021-10-17T13:31:22.892986Z",
     "shell.execute_reply": "2021-10-17T13:31:22.892302Z",
     "shell.execute_reply.started": "2021-10-17T13:29:11.706974Z"
    },
    "papermill": {
     "duration": 28.877288,
     "end_time": "2021-10-17T13:31:22.893146",
     "exception": false,
     "start_time": "2021-10-17T13:30:54.015858",
     "status": "completed"
    },
    "tags": []
   },
   "outputs": [
    {
     "name": "stdout",
     "output_type": "stream",
     "text": [
      "epoch :  1 cost :  0.000545330\n",
      "epoch :  2 cost :  0.000391236\n",
      "epoch :  3 cost :  0.000355994\n",
      "epoch :  4 cost :  0.000121122\n",
      "epoch :  5 cost :  0.000196496\n",
      "epoch :  6 cost :  0.000071278\n",
      "epoch :  7 cost :  0.000343145\n",
      "epoch :  8 cost :  0.000642143\n",
      "epoch :  9 cost :  0.000031643\n",
      "epoch :  10 cost :  0.000090800\n"
     ]
    }
   ],
   "source": [
    "#모델 학습\n",
    "model.train()\n",
    "total_batch = len(data_loader)\n",
    "\n",
    "for e in range(training_epochs):\n",
    "    avg_cost = 0\n",
    "    \n",
    "    for x,y in data_loader:\n",
    "        #mnist 자료형\n",
    "        x = x.view(-1,784).to(device)\n",
    "        y = y.to(device)\n",
    "        \n",
    "        hypothesis = model(x)\n",
    "        cost = loss(hypothesis , y)\n",
    "        \n",
    "        optimizer.zero_grad()\n",
    "        \n",
    "        cost.backward()\n",
    "        \n",
    "        optimizer.step()\n",
    "        \n",
    "        avg_cost = cost / total_batch\n",
    "    print(\"epoch : \" , e+1 , \"cost : \", '{:.9f}'.format(avg_cost))\n",
    "    \n",
    "    \n",
    "        \n",
    "        \n",
    "        "
   ]
  },
  {
   "cell_type": "code",
   "execution_count": 16,
   "id": "2d50d75f",
   "metadata": {
    "execution": {
     "iopub.execute_input": "2021-10-17T13:31:22.936162Z",
     "iopub.status.busy": "2021-10-17T13:31:22.935000Z",
     "iopub.status.idle": "2021-10-17T13:31:22.968387Z",
     "shell.execute_reply": "2021-10-17T13:31:22.968755Z",
     "shell.execute_reply.started": "2021-10-17T13:29:38.872670Z"
    },
    "papermill": {
     "duration": 0.056561,
     "end_time": "2021-10-17T13:31:22.968885",
     "exception": false,
     "start_time": "2021-10-17T13:31:22.912324",
     "status": "completed"
    },
    "tags": []
   },
   "outputs": [
    {
     "data": {
      "text/plain": [
       "tensor([7, 2, 1,  ..., 4, 5, 6], device='cuda:0')"
      ]
     },
     "execution_count": 16,
     "metadata": {},
     "output_type": "execute_result"
    }
   ],
   "source": [
    "# 결과\n",
    "with torch.no_grad():\n",
    "    model.eval()\n",
    "    test = test.to(device)\n",
    "    predict = model(test)\n",
    "predict = torch.argmax(predict , dim = 1)\n",
    "predict"
   ]
  },
  {
   "cell_type": "code",
   "execution_count": 17,
   "id": "060805ab",
   "metadata": {
    "execution": {
     "iopub.execute_input": "2021-10-17T13:31:23.016930Z",
     "iopub.status.busy": "2021-10-17T13:31:23.015840Z",
     "iopub.status.idle": "2021-10-17T13:31:23.018936Z",
     "shell.execute_reply": "2021-10-17T13:31:23.019334Z",
     "shell.execute_reply.started": "2021-10-17T13:29:38.910454Z"
    },
    "papermill": {
     "duration": 0.031927,
     "end_time": "2021-10-17T13:31:23.019461",
     "exception": false,
     "start_time": "2021-10-17T13:31:22.987534",
     "status": "completed"
    },
    "tags": []
   },
   "outputs": [
    {
     "data": {
      "text/html": [
       "<div>\n",
       "<style scoped>\n",
       "    .dataframe tbody tr th:only-of-type {\n",
       "        vertical-align: middle;\n",
       "    }\n",
       "\n",
       "    .dataframe tbody tr th {\n",
       "        vertical-align: top;\n",
       "    }\n",
       "\n",
       "    .dataframe thead th {\n",
       "        text-align: right;\n",
       "    }\n",
       "</style>\n",
       "<table border=\"1\" class=\"dataframe\">\n",
       "  <thead>\n",
       "    <tr style=\"text-align: right;\">\n",
       "      <th></th>\n",
       "      <th>id</th>\n",
       "      <th>Label</th>\n",
       "    </tr>\n",
       "  </thead>\n",
       "  <tbody>\n",
       "    <tr>\n",
       "      <th>0</th>\n",
       "      <td>0</td>\n",
       "      <td>1</td>\n",
       "    </tr>\n",
       "    <tr>\n",
       "      <th>1</th>\n",
       "      <td>1</td>\n",
       "      <td>1</td>\n",
       "    </tr>\n",
       "    <tr>\n",
       "      <th>2</th>\n",
       "      <td>2</td>\n",
       "      <td>1</td>\n",
       "    </tr>\n",
       "    <tr>\n",
       "      <th>3</th>\n",
       "      <td>3</td>\n",
       "      <td>1</td>\n",
       "    </tr>\n",
       "    <tr>\n",
       "      <th>4</th>\n",
       "      <td>4</td>\n",
       "      <td>1</td>\n",
       "    </tr>\n",
       "    <tr>\n",
       "      <th>...</th>\n",
       "      <td>...</td>\n",
       "      <td>...</td>\n",
       "    </tr>\n",
       "    <tr>\n",
       "      <th>9995</th>\n",
       "      <td>9995</td>\n",
       "      <td>1</td>\n",
       "    </tr>\n",
       "    <tr>\n",
       "      <th>9996</th>\n",
       "      <td>9996</td>\n",
       "      <td>1</td>\n",
       "    </tr>\n",
       "    <tr>\n",
       "      <th>9997</th>\n",
       "      <td>9997</td>\n",
       "      <td>1</td>\n",
       "    </tr>\n",
       "    <tr>\n",
       "      <th>9998</th>\n",
       "      <td>9998</td>\n",
       "      <td>1</td>\n",
       "    </tr>\n",
       "    <tr>\n",
       "      <th>9999</th>\n",
       "      <td>9999</td>\n",
       "      <td>1</td>\n",
       "    </tr>\n",
       "  </tbody>\n",
       "</table>\n",
       "<p>10000 rows × 2 columns</p>\n",
       "</div>"
      ],
      "text/plain": [
       "        id  Label\n",
       "0        0      1\n",
       "1        1      1\n",
       "2        2      1\n",
       "3        3      1\n",
       "4        4      1\n",
       "...    ...    ...\n",
       "9995  9995      1\n",
       "9996  9996      1\n",
       "9997  9997      1\n",
       "9998  9998      1\n",
       "9999  9999      1\n",
       "\n",
       "[10000 rows x 2 columns]"
      ]
     },
     "execution_count": 17,
     "metadata": {},
     "output_type": "execute_result"
    }
   ],
   "source": [
    "submit"
   ]
  },
  {
   "cell_type": "code",
   "execution_count": 18,
   "id": "3e76f57f",
   "metadata": {
    "execution": {
     "iopub.execute_input": "2021-10-17T13:31:23.061811Z",
     "iopub.status.busy": "2021-10-17T13:31:23.061014Z",
     "iopub.status.idle": "2021-10-17T13:31:23.064396Z",
     "shell.execute_reply": "2021-10-17T13:31:23.063962Z",
     "shell.execute_reply.started": "2021-10-17T13:29:38.921690Z"
    },
    "papermill": {
     "duration": 0.026244,
     "end_time": "2021-10-17T13:31:23.064509",
     "exception": false,
     "start_time": "2021-10-17T13:31:23.038265",
     "status": "completed"
    },
    "tags": []
   },
   "outputs": [],
   "source": [
    "submit['Label'] = predict.detach().cpu().numpy()"
   ]
  },
  {
   "cell_type": "code",
   "execution_count": 19,
   "id": "44225e85",
   "metadata": {
    "execution": {
     "iopub.execute_input": "2021-10-17T13:31:23.110821Z",
     "iopub.status.busy": "2021-10-17T13:31:23.110218Z",
     "iopub.status.idle": "2021-10-17T13:31:23.140191Z",
     "shell.execute_reply": "2021-10-17T13:31:23.139738Z",
     "shell.execute_reply.started": "2021-10-17T13:29:48.295416Z"
    },
    "papermill": {
     "duration": 0.054525,
     "end_time": "2021-10-17T13:31:23.140311",
     "exception": false,
     "start_time": "2021-10-17T13:31:23.085786",
     "status": "completed"
    },
    "tags": []
   },
   "outputs": [
    {
     "data": {
      "text/html": [
       "<div>\n",
       "<style scoped>\n",
       "    .dataframe tbody tr th:only-of-type {\n",
       "        vertical-align: middle;\n",
       "    }\n",
       "\n",
       "    .dataframe tbody tr th {\n",
       "        vertical-align: top;\n",
       "    }\n",
       "\n",
       "    .dataframe thead th {\n",
       "        text-align: right;\n",
       "    }\n",
       "</style>\n",
       "<table border=\"1\" class=\"dataframe\">\n",
       "  <thead>\n",
       "    <tr style=\"text-align: right;\">\n",
       "      <th></th>\n",
       "      <th>id</th>\n",
       "      <th>Label</th>\n",
       "    </tr>\n",
       "  </thead>\n",
       "  <tbody>\n",
       "    <tr>\n",
       "      <th>0</th>\n",
       "      <td>0</td>\n",
       "      <td>7</td>\n",
       "    </tr>\n",
       "    <tr>\n",
       "      <th>1</th>\n",
       "      <td>1</td>\n",
       "      <td>2</td>\n",
       "    </tr>\n",
       "    <tr>\n",
       "      <th>2</th>\n",
       "      <td>2</td>\n",
       "      <td>1</td>\n",
       "    </tr>\n",
       "    <tr>\n",
       "      <th>3</th>\n",
       "      <td>3</td>\n",
       "      <td>0</td>\n",
       "    </tr>\n",
       "    <tr>\n",
       "      <th>4</th>\n",
       "      <td>4</td>\n",
       "      <td>4</td>\n",
       "    </tr>\n",
       "    <tr>\n",
       "      <th>...</th>\n",
       "      <td>...</td>\n",
       "      <td>...</td>\n",
       "    </tr>\n",
       "    <tr>\n",
       "      <th>9995</th>\n",
       "      <td>9995</td>\n",
       "      <td>2</td>\n",
       "    </tr>\n",
       "    <tr>\n",
       "      <th>9996</th>\n",
       "      <td>9996</td>\n",
       "      <td>3</td>\n",
       "    </tr>\n",
       "    <tr>\n",
       "      <th>9997</th>\n",
       "      <td>9997</td>\n",
       "      <td>4</td>\n",
       "    </tr>\n",
       "    <tr>\n",
       "      <th>9998</th>\n",
       "      <td>9998</td>\n",
       "      <td>5</td>\n",
       "    </tr>\n",
       "    <tr>\n",
       "      <th>9999</th>\n",
       "      <td>9999</td>\n",
       "      <td>6</td>\n",
       "    </tr>\n",
       "  </tbody>\n",
       "</table>\n",
       "<p>10000 rows × 2 columns</p>\n",
       "</div>"
      ],
      "text/plain": [
       "        id  Label\n",
       "0        0      7\n",
       "1        1      2\n",
       "2        2      1\n",
       "3        3      0\n",
       "4        4      4\n",
       "...    ...    ...\n",
       "9995  9995      2\n",
       "9996  9996      3\n",
       "9997  9997      4\n",
       "9998  9998      5\n",
       "9999  9999      6\n",
       "\n",
       "[10000 rows x 2 columns]"
      ]
     },
     "execution_count": 19,
     "metadata": {},
     "output_type": "execute_result"
    }
   ],
   "source": [
    "submit.to_csv(\"submission.csv\", index = False)\n",
    "s = pd.read_csv(\"submission.csv\")\n",
    "s"
   ]
  },
  {
   "cell_type": "code",
   "execution_count": null,
   "id": "216af344",
   "metadata": {
    "papermill": {
     "duration": 0.02115,
     "end_time": "2021-10-17T13:31:23.182808",
     "exception": false,
     "start_time": "2021-10-17T13:31:23.161658",
     "status": "completed"
    },
    "tags": []
   },
   "outputs": [],
   "source": []
  }
 ],
 "metadata": {
  "kernelspec": {
   "display_name": "Python 3",
   "language": "python",
   "name": "python3"
  },
  "language_info": {
   "codemirror_mode": {
    "name": "ipython",
    "version": 3
   },
   "file_extension": ".py",
   "mimetype": "text/x-python",
   "name": "python",
   "nbconvert_exporter": "python",
   "pygments_lexer": "ipython3",
   "version": "3.7.10"
  },
  "papermill": {
   "default_parameters": {},
   "duration": 54.280506,
   "end_time": "2021-10-17T13:31:24.318294",
   "environment_variables": {},
   "exception": null,
   "input_path": "__notebook__.ipynb",
   "output_path": "__notebook__.ipynb",
   "parameters": {},
   "start_time": "2021-10-17T13:30:30.037788",
   "version": "2.3.3"
  }
 },
 "nbformat": 4,
 "nbformat_minor": 5
}
