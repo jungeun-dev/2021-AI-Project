{
 "cells": [
  {
   "cell_type": "code",
   "execution_count": 1,
   "id": "5ff89888",
   "metadata": {
    "execution": {
     "iopub.execute_input": "2021-10-07T10:37:22.369734Z",
     "iopub.status.busy": "2021-10-07T10:37:22.367648Z",
     "iopub.status.idle": "2021-10-07T10:37:27.066718Z",
     "shell.execute_reply": "2021-10-07T10:37:27.065896Z",
     "shell.execute_reply.started": "2021-10-07T10:36:33.895345Z"
    },
    "papermill": {
     "duration": 4.717495,
     "end_time": "2021-10-07T10:37:27.066894",
     "exception": false,
     "start_time": "2021-10-07T10:37:22.349399",
     "status": "completed"
    },
    "tags": []
   },
   "outputs": [],
   "source": [
    "import torch\n",
    "import pandas as pd\n",
    "import numpy as np\n",
    "\n",
    "device = 'cuda' if torch.cuda.is_available() else 'cpu'\n",
    "\n",
    "if device == 'cuda':\n",
    "  torch.cuda.manual_seed_all(777)\n"
   ]
  },
  {
   "cell_type": "code",
   "execution_count": 2,
   "id": "843c643c",
   "metadata": {
    "execution": {
     "iopub.execute_input": "2021-10-07T10:37:27.100175Z",
     "iopub.status.busy": "2021-10-07T10:37:27.099533Z",
     "iopub.status.idle": "2021-10-07T10:37:27.145439Z",
     "shell.execute_reply": "2021-10-07T10:37:27.144615Z",
     "shell.execute_reply.started": "2021-10-07T10:36:33.905078Z"
    },
    "papermill": {
     "duration": 0.064472,
     "end_time": "2021-10-07T10:37:27.145600",
     "exception": false,
     "start_time": "2021-10-07T10:37:27.081128",
     "status": "completed"
    },
    "tags": []
   },
   "outputs": [],
   "source": [
    "train = pd.read_csv('../input/2021-ai-w6-p2/train.csv')\n",
    "test  = pd.read_csv('../input/2021-ai-w6-p2/X_test.csv')\n",
    "submit  = pd.read_csv('../input/2021-ai-w6-p2/sample_submit.csv')"
   ]
  },
  {
   "cell_type": "code",
   "execution_count": 3,
   "id": "2e8d262c",
   "metadata": {
    "execution": {
     "iopub.execute_input": "2021-10-07T10:37:27.177431Z",
     "iopub.status.busy": "2021-10-07T10:37:27.176193Z",
     "iopub.status.idle": "2021-10-07T10:37:27.205399Z",
     "shell.execute_reply": "2021-10-07T10:37:27.206195Z",
     "shell.execute_reply.started": "2021-10-07T10:36:33.936191Z"
    },
    "papermill": {
     "duration": 0.046826,
     "end_time": "2021-10-07T10:37:27.206411",
     "exception": false,
     "start_time": "2021-10-07T10:37:27.159585",
     "status": "completed"
    },
    "tags": []
   },
   "outputs": [
    {
     "name": "stdout",
     "output_type": "stream",
     "text": [
      "      Day  Hour  Minute  DHI  DNI   WS     RH   T\n",
      "0       0     0       0    0    0  1.5  69.08 -12\n",
      "1       0     0      30    0    0  1.5  69.06 -12\n",
      "2       0     1       0    0    0  1.6  71.78 -12\n",
      "3       0     1      30    0    0  1.6  71.75 -12\n",
      "4       0     2       0    0    0  1.6  75.20 -12\n",
      "...   ...   ...     ...  ...  ...  ...    ...  ..\n",
      "9994  208     5       0    0    0  0.5  64.12  12\n",
      "9995  208     5      30   26  383  0.8  56.18  13\n",
      "9996  208     6       0   41  578  1.1  47.46  15\n",
      "9997  208     6      30   52  699  1.4  44.51  17\n",
      "9998  208     7       0   61  776  1.7  37.80  19\n",
      "\n",
      "[9999 rows x 8 columns]\n"
     ]
    }
   ],
   "source": [
    "x_train = train.drop('TARGET', axis = 1)\n",
    "y_train = train['TARGET']\n",
    "\n",
    "x_test = test.drop('ID', axis = 1)\n",
    "\n",
    "print(x_train)"
   ]
  },
  {
   "cell_type": "code",
   "execution_count": 4,
   "id": "9fb54a7a",
   "metadata": {
    "execution": {
     "iopub.execute_input": "2021-10-07T10:37:27.240315Z",
     "iopub.status.busy": "2021-10-07T10:37:27.239648Z",
     "iopub.status.idle": "2021-10-07T10:37:28.147983Z",
     "shell.execute_reply": "2021-10-07T10:37:28.148489Z",
     "shell.execute_reply.started": "2021-10-07T10:36:33.957163Z"
    },
    "papermill": {
     "duration": 0.927557,
     "end_time": "2021-10-07T10:37:28.148815",
     "exception": false,
     "start_time": "2021-10-07T10:37:27.221258",
     "status": "completed"
    },
    "tags": []
   },
   "outputs": [],
   "source": [
    "from sklearn.preprocessing import StandardScaler\n",
    "\n",
    "scale = StandardScaler()\n",
    "\n",
    "x_train_std = scale.fit_transform(x_train)\n",
    "x_test_std = scale.transform(x_test)"
   ]
  },
  {
   "cell_type": "code",
   "execution_count": 5,
   "id": "b33e30f4",
   "metadata": {
    "execution": {
     "iopub.execute_input": "2021-10-07T10:37:28.187639Z",
     "iopub.status.busy": "2021-10-07T10:37:28.186600Z",
     "iopub.status.idle": "2021-10-07T10:37:28.204518Z",
     "shell.execute_reply": "2021-10-07T10:37:28.203979Z",
     "shell.execute_reply.started": "2021-10-07T10:36:33.975168Z"
    },
    "papermill": {
     "duration": 0.042666,
     "end_time": "2021-10-07T10:37:28.204667",
     "exception": false,
     "start_time": "2021-10-07T10:37:28.162001",
     "status": "completed"
    },
    "tags": []
   },
   "outputs": [],
   "source": [
    "x_train = torch.FloatTensor(x_train_std)\n",
    "y_train = torch.FloatTensor(y_train)\n",
    "x_test = torch.FloatTensor(x_test_std)"
   ]
  },
  {
   "cell_type": "code",
   "execution_count": 6,
   "id": "93301cc1",
   "metadata": {
    "execution": {
     "iopub.execute_input": "2021-10-07T10:37:28.238452Z",
     "iopub.status.busy": "2021-10-07T10:37:28.237800Z",
     "iopub.status.idle": "2021-10-07T10:37:28.244629Z",
     "shell.execute_reply": "2021-10-07T10:37:28.245263Z",
     "shell.execute_reply.started": "2021-10-07T10:36:33.984098Z"
    },
    "papermill": {
     "duration": 0.027531,
     "end_time": "2021-10-07T10:37:28.245411",
     "exception": false,
     "start_time": "2021-10-07T10:37:28.217880",
     "status": "completed"
    },
    "tags": []
   },
   "outputs": [],
   "source": [
    "layer1 = torch.nn.Linear(8,32)\n",
    "layer2 = torch.nn.Linear(32,64)\n",
    "layer3 = torch.nn.Linear(64,32)\n",
    "layer4 = torch.nn.Linear(32,1)\n",
    "\n",
    "sigmoid = torch.nn.Sigmoid()"
   ]
  },
  {
   "cell_type": "code",
   "execution_count": 7,
   "id": "564bfbe7",
   "metadata": {
    "execution": {
     "iopub.execute_input": "2021-10-07T10:37:28.281513Z",
     "iopub.status.busy": "2021-10-07T10:37:28.280334Z",
     "iopub.status.idle": "2021-10-07T10:37:34.818128Z",
     "shell.execute_reply": "2021-10-07T10:37:34.817354Z",
     "shell.execute_reply.started": "2021-10-07T10:36:33.994765Z"
    },
    "papermill": {
     "duration": 6.560092,
     "end_time": "2021-10-07T10:37:34.818296",
     "exception": false,
     "start_time": "2021-10-07T10:37:28.258204",
     "status": "completed"
    },
    "tags": []
   },
   "outputs": [],
   "source": [
    "model = torch.nn.Sequential(layer1,sigmoid,layer2,sigmoid,layer3,sigmoid,layer4).to(device)"
   ]
  },
  {
   "cell_type": "code",
   "execution_count": 8,
   "id": "35f65a21",
   "metadata": {
    "execution": {
     "iopub.execute_input": "2021-10-07T10:37:34.851970Z",
     "iopub.status.busy": "2021-10-07T10:37:34.850654Z",
     "iopub.status.idle": "2021-10-07T10:37:34.853514Z",
     "shell.execute_reply": "2021-10-07T10:37:34.854165Z",
     "shell.execute_reply.started": "2021-10-07T10:36:34.004597Z"
    },
    "papermill": {
     "duration": 0.022008,
     "end_time": "2021-10-07T10:37:34.854396",
     "exception": false,
     "start_time": "2021-10-07T10:37:34.832388",
     "status": "completed"
    },
    "tags": []
   },
   "outputs": [],
   "source": [
    "loss = torch.nn.MSELoss()\n",
    "optimizer = torch.optim.SGD(model.parameters(), lr = 0.001)\n"
   ]
  },
  {
   "cell_type": "code",
   "execution_count": 9,
   "id": "b799069f",
   "metadata": {
    "execution": {
     "iopub.execute_input": "2021-10-07T10:37:34.888697Z",
     "iopub.status.busy": "2021-10-07T10:37:34.887553Z",
     "iopub.status.idle": "2021-10-07T10:37:57.968227Z",
     "shell.execute_reply": "2021-10-07T10:37:57.969598Z",
     "shell.execute_reply.started": "2021-10-07T10:36:34.013404Z"
    },
    "papermill": {
     "duration": 23.101864,
     "end_time": "2021-10-07T10:37:57.969904",
     "exception": false,
     "start_time": "2021-10-07T10:37:34.868040",
     "status": "completed"
    },
    "tags": []
   },
   "outputs": [
    {
     "name": "stdout",
     "output_type": "stream",
     "text": [
      "0 1028.4976806640625\n",
      "100 685.876708984375\n",
      "200 682.1315307617188\n",
      "300 673.57177734375\n",
      "400 638.4659423828125\n",
      "500 332.7088928222656\n",
      "600 121.84178161621094\n",
      "700 72.96858215332031\n",
      "800 53.72690963745117\n",
      "900 43.76524353027344\n",
      "1000 36.996395111083984\n",
      "1100 31.659793853759766\n",
      "1200 27.400630950927734\n",
      "1300 24.107210159301758\n",
      "1400 21.59105110168457\n",
      "1500 19.63233184814453\n",
      "1600 18.051912307739258\n",
      "1700 16.722179412841797\n",
      "1800 15.557921409606934\n",
      "1900 14.504375457763672\n",
      "2000 13.527299880981445\n",
      "2100 12.60622501373291\n",
      "2200 11.730002403259277\n",
      "2300 10.89376449584961\n",
      "2400 10.096841812133789\n",
      "2500 9.341365814208984\n",
      "2600 8.631011962890625\n",
      "2700 7.969759464263916\n",
      "2800 7.36081600189209\n",
      "2900 6.80594539642334\n",
      "3000 6.305238246917725\n",
      "3100 5.857234001159668\n",
      "3200 5.45920991897583\n",
      "3300 5.1075568199157715\n",
      "3400 4.798110485076904\n",
      "3500 4.526467323303223\n",
      "3600 4.2882256507873535\n",
      "3700 4.079159259796143\n",
      "3800 3.8953449726104736\n",
      "3900 3.733238697052002\n",
      "4000 3.589693784713745\n",
      "4100 3.4619669914245605\n",
      "4200 3.347703456878662\n",
      "4300 3.2448947429656982\n",
      "4400 3.151848554611206\n",
      "4500 3.0671420097351074\n",
      "4600 2.9895853996276855\n",
      "4700 2.91818904876709\n",
      "4800 2.8521230220794678\n",
      "4900 2.7906978130340576\n",
      "5000 2.7333359718322754\n",
      "5100 2.679549217224121\n",
      "5200 2.628929615020752\n",
      "5300 2.5811288356781006\n",
      "5400 2.5358526706695557\n",
      "5500 2.4928510189056396\n",
      "5600 2.451908826828003\n",
      "5700 2.4128406047821045\n",
      "5800 2.375486373901367\n",
      "5900 2.3397092819213867\n",
      "6000 2.3053879737854004\n",
      "6100 2.2724175453186035\n",
      "6200 2.2407023906707764\n",
      "6300 2.2101612091064453\n",
      "6400 2.1807169914245605\n",
      "6500 2.152303457260132\n",
      "6600 2.1248586177825928\n",
      "6700 2.0983262062072754\n",
      "6800 2.0726561546325684\n",
      "6900 2.0478007793426514\n",
      "7000 2.023716449737549\n",
      "7100 2.0003626346588135\n",
      "7200 1.9777061939239502\n",
      "7300 1.9557104110717773\n",
      "7400 1.9343461990356445\n",
      "7500 1.9135839939117432\n",
      "7600 1.8933993577957153\n",
      "7700 1.8737657070159912\n",
      "7800 1.8546624183654785\n",
      "7900 1.8360671997070312\n",
      "8000 1.8179614543914795\n",
      "8100 1.8003257513046265\n",
      "8200 1.7831441164016724\n",
      "8300 1.7663995027542114\n",
      "8400 1.750076413154602\n",
      "8500 1.7341593503952026\n",
      "8600 1.718633770942688\n",
      "8700 1.703487515449524\n",
      "8800 1.6887069940567017\n",
      "8900 1.6742796897888184\n",
      "9000 1.6601938009262085\n",
      "9100 1.6464365720748901\n",
      "9200 1.632996916770935\n",
      "9300 1.619863510131836\n",
      "9400 1.6070252656936646\n",
      "9500 1.5944716930389404\n",
      "9600 1.5821937322616577\n",
      "9700 1.5701797008514404\n",
      "9800 1.5584224462509155\n",
      "9900 1.5469110012054443\n",
      "10000 1.5356367826461792\n"
     ]
    }
   ],
   "source": [
    "epochs = 10000\n",
    "for epoch in range (epochs +1):\n",
    "    \n",
    "    x_train = x_train.to(device)\n",
    "    y_train = y_train.to(device)\n",
    "    \n",
    "    optimizer.zero_grad()\n",
    "    \n",
    "    hypothesis = model(x_train)\n",
    "    \n",
    "    cost = loss(hypothesis, y_train.unsqueeze(1))\n",
    "    \n",
    "    cost.backward()\n",
    "    \n",
    "    optimizer.step()\n",
    "    \n",
    "    if epoch % 100 == 0:\n",
    "        print(epoch , cost.item())"
   ]
  },
  {
   "cell_type": "code",
   "execution_count": 10,
   "id": "cd074e6e",
   "metadata": {
    "execution": {
     "iopub.execute_input": "2021-10-07T10:37:58.139080Z",
     "iopub.status.busy": "2021-10-07T10:37:58.136776Z",
     "iopub.status.idle": "2021-10-07T10:37:58.145889Z",
     "shell.execute_reply": "2021-10-07T10:37:58.146687Z",
     "shell.execute_reply.started": "2021-10-07T10:36:49.482733Z"
    },
    "papermill": {
     "duration": 0.096655,
     "end_time": "2021-10-07T10:37:58.146962",
     "exception": false,
     "start_time": "2021-10-07T10:37:58.050307",
     "status": "completed"
    },
    "tags": []
   },
   "outputs": [
    {
     "name": "stdout",
     "output_type": "stream",
     "text": [
      "[[18.473694 ]\n",
      " [22.305014 ]\n",
      " [26.235207 ]\n",
      " ...\n",
      " [ 8.097634 ]\n",
      " [ 7.8311176]\n",
      " [ 8.057931 ]]\n"
     ]
    }
   ],
   "source": [
    "x_test = x_test.to(device)\n",
    "predict = model(x_test)\n",
    "predict = predict.cpu().detach().numpy()\n",
    "print(predict)"
   ]
  },
  {
   "cell_type": "code",
   "execution_count": 11,
   "id": "f5eb7570",
   "metadata": {
    "execution": {
     "iopub.execute_input": "2021-10-07T10:37:58.321864Z",
     "iopub.status.busy": "2021-10-07T10:37:58.286934Z",
     "iopub.status.idle": "2021-10-07T10:37:58.602992Z",
     "shell.execute_reply": "2021-10-07T10:37:58.602021Z",
     "shell.execute_reply.started": "2021-10-07T10:36:49.493203Z"
    },
    "papermill": {
     "duration": 0.366178,
     "end_time": "2021-10-07T10:37:58.603155",
     "exception": false,
     "start_time": "2021-10-07T10:37:58.236977",
     "status": "completed"
    },
    "tags": []
   },
   "outputs": [
    {
     "name": "stdout",
     "output_type": "stream",
     "text": [
      "        ID  TARGET\n",
      "0        0      18\n",
      "1        1      22\n",
      "2        2      26\n",
      "3        3      27\n",
      "4        4      30\n",
      "...    ...     ...\n",
      "2476  2476       8\n",
      "2477  2477       7\n",
      "2478  2478       8\n",
      "2479  2479       7\n",
      "2480  2480       8\n",
      "\n",
      "[2481 rows x 2 columns]\n"
     ]
    }
   ],
   "source": [
    "for i in range(len(predict)):\n",
    "    submit['TARGET'][i] = predict[i]\n",
    "print(submit)"
   ]
  },
  {
   "cell_type": "code",
   "execution_count": 12,
   "id": "a28d1fa6",
   "metadata": {
    "execution": {
     "iopub.execute_input": "2021-10-07T10:37:58.701581Z",
     "iopub.status.busy": "2021-10-07T10:37:58.700473Z",
     "iopub.status.idle": "2021-10-07T10:37:58.711435Z",
     "shell.execute_reply": "2021-10-07T10:37:58.710856Z",
     "shell.execute_reply.started": "2021-10-07T10:36:49.644426Z"
    },
    "papermill": {
     "duration": 0.061111,
     "end_time": "2021-10-07T10:37:58.711587",
     "exception": false,
     "start_time": "2021-10-07T10:37:58.650476",
     "status": "completed"
    },
    "tags": []
   },
   "outputs": [],
   "source": [
    "submit.to_csv('submission.csv', index = False)"
   ]
  },
  {
   "cell_type": "code",
   "execution_count": null,
   "id": "6b83e5cb",
   "metadata": {
    "papermill": {
     "duration": 0.048022,
     "end_time": "2021-10-07T10:37:58.806390",
     "exception": false,
     "start_time": "2021-10-07T10:37:58.758368",
     "status": "completed"
    },
    "tags": []
   },
   "outputs": [],
   "source": []
  }
 ],
 "metadata": {
  "kernelspec": {
   "display_name": "Python 3",
   "language": "python",
   "name": "python3"
  },
  "language_info": {
   "codemirror_mode": {
    "name": "ipython",
    "version": 3
   },
   "file_extension": ".py",
   "mimetype": "text/x-python",
   "name": "python",
   "nbconvert_exporter": "python",
   "pygments_lexer": "ipython3",
   "version": "3.7.10"
  },
  "papermill": {
   "default_parameters": {},
   "duration": 45.755654,
   "end_time": "2021-10-07T10:38:00.325114",
   "environment_variables": {},
   "exception": null,
   "input_path": "__notebook__.ipynb",
   "output_path": "__notebook__.ipynb",
   "parameters": {},
   "start_time": "2021-10-07T10:37:14.569460",
   "version": "2.3.3"
  }
 },
 "nbformat": 4,
 "nbformat_minor": 5
}
