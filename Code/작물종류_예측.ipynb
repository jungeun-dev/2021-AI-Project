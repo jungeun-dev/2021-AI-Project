{
 "cells": [
  {
   "cell_type": "code",
   "execution_count": 1,
   "id": "81e1e1d4",
   "metadata": {
    "execution": {
     "iopub.execute_input": "2021-10-10T16:04:45.147743Z",
     "iopub.status.busy": "2021-10-10T16:04:45.146240Z",
     "iopub.status.idle": "2021-10-10T16:04:49.668912Z",
     "shell.execute_reply": "2021-10-10T16:04:49.668349Z",
     "shell.execute_reply.started": "2021-10-10T16:03:58.927576Z"
    },
    "papermill": {
     "duration": 4.537418,
     "end_time": "2021-10-10T16:04:49.669054",
     "exception": false,
     "start_time": "2021-10-10T16:04:45.131636",
     "status": "completed"
    },
    "tags": []
   },
   "outputs": [
    {
     "data": {
      "text/plain": [
       "(1650, 7)"
      ]
     },
     "execution_count": 1,
     "metadata": {},
     "output_type": "execute_result"
    }
   ],
   "source": [
    "import torch\n",
    "import pandas as pd\n",
    "\n",
    "torch.manual_seed(1)\n",
    "\n",
    "device = 'cuda' if torch.cuda.is_available() else 'cpu'\n",
    "\n",
    "train = pd.read_csv(\"../input/2021-ai-w4-p2/train.csv\")\n",
    "x_test = pd.read_csv(\"../input/2021-ai-w4-p2/test.csv\")\n",
    "submit = pd.read_csv(\"../input/2021-ai-w4-p2/sample.csv\")\n",
    "\n",
    "x_train = train.drop('label', axis = 1)\n",
    "y_train = train['label']\n",
    "\n",
    "\n",
    "x_train.shape"
   ]
  },
  {
   "cell_type": "code",
   "execution_count": 2,
   "id": "6d2f1bcb",
   "metadata": {
    "execution": {
     "iopub.execute_input": "2021-10-10T16:04:49.696279Z",
     "iopub.status.busy": "2021-10-10T16:04:49.695390Z",
     "iopub.status.idle": "2021-10-10T16:04:49.698598Z",
     "shell.execute_reply": "2021-10-10T16:04:49.699031Z",
     "shell.execute_reply.started": "2021-10-10T16:03:59.044467Z"
    },
    "papermill": {
     "duration": 0.01865,
     "end_time": "2021-10-10T16:04:49.699191",
     "exception": false,
     "start_time": "2021-10-10T16:04:49.680541",
     "status": "completed"
    },
    "tags": []
   },
   "outputs": [
    {
     "data": {
      "text/plain": [
       "22"
      ]
     },
     "execution_count": 2,
     "metadata": {},
     "output_type": "execute_result"
    }
   ],
   "source": [
    "df = y_train\n",
    "len(df.unique())"
   ]
  },
  {
   "cell_type": "code",
   "execution_count": 3,
   "id": "11a93a30",
   "metadata": {
    "execution": {
     "iopub.execute_input": "2021-10-10T16:04:49.721617Z",
     "iopub.status.busy": "2021-10-10T16:04:49.720980Z",
     "iopub.status.idle": "2021-10-10T16:04:50.375986Z",
     "shell.execute_reply": "2021-10-10T16:04:50.375452Z",
     "shell.execute_reply.started": "2021-10-10T16:03:59.051488Z"
    },
    "papermill": {
     "duration": 0.667866,
     "end_time": "2021-10-10T16:04:50.376122",
     "exception": false,
     "start_time": "2021-10-10T16:04:49.708256",
     "status": "completed"
    },
    "tags": []
   },
   "outputs": [],
   "source": [
    "from sklearn.preprocessing import LabelEncoder\n",
    "\n",
    "le = LabelEncoder()\n",
    "\n",
    "y_train = le.fit_transform(y_train)\n"
   ]
  },
  {
   "cell_type": "code",
   "execution_count": 4,
   "id": "b6816ef0",
   "metadata": {
    "execution": {
     "iopub.execute_input": "2021-10-10T16:04:50.403650Z",
     "iopub.status.busy": "2021-10-10T16:04:50.402775Z",
     "iopub.status.idle": "2021-10-10T16:04:50.409321Z",
     "shell.execute_reply": "2021-10-10T16:04:50.409733Z",
     "shell.execute_reply.started": "2021-10-10T16:03:59.060398Z"
    },
    "papermill": {
     "duration": 0.023695,
     "end_time": "2021-10-10T16:04:50.409859",
     "exception": false,
     "start_time": "2021-10-10T16:04:50.386164",
     "status": "completed"
    },
    "tags": []
   },
   "outputs": [],
   "source": [
    "#표준화\n",
    "from sklearn.preprocessing import StandardScaler\n",
    "\n",
    "sc = StandardScaler()\n",
    "\n",
    "x_train = sc.fit_transform(x_train)\n",
    "x_test = sc.transform(x_test)"
   ]
  },
  {
   "cell_type": "code",
   "execution_count": 5,
   "id": "e3cea6d9",
   "metadata": {
    "execution": {
     "iopub.execute_input": "2021-10-10T16:04:50.438442Z",
     "iopub.status.busy": "2021-10-10T16:04:50.437901Z",
     "iopub.status.idle": "2021-10-10T16:04:50.450566Z",
     "shell.execute_reply": "2021-10-10T16:04:50.450056Z",
     "shell.execute_reply.started": "2021-10-10T16:03:59.076912Z"
    },
    "papermill": {
     "duration": 0.031326,
     "end_time": "2021-10-10T16:04:50.450685",
     "exception": false,
     "start_time": "2021-10-10T16:04:50.419359",
     "status": "completed"
    },
    "tags": []
   },
   "outputs": [],
   "source": [
    "x_train = torch.FloatTensor(x_train)\n",
    "y_train = torch.LongTensor(y_train)\n",
    "x_test = torch.FloatTensor(x_test)"
   ]
  },
  {
   "cell_type": "code",
   "execution_count": 6,
   "id": "7e33a1c4",
   "metadata": {
    "execution": {
     "iopub.execute_input": "2021-10-10T16:04:50.474390Z",
     "iopub.status.busy": "2021-10-10T16:04:50.472909Z",
     "iopub.status.idle": "2021-10-10T16:04:55.575834Z",
     "shell.execute_reply": "2021-10-10T16:04:55.575363Z",
     "shell.execute_reply.started": "2021-10-10T16:03:59.083965Z"
    },
    "papermill": {
     "duration": 5.116187,
     "end_time": "2021-10-10T16:04:55.575965",
     "exception": false,
     "start_time": "2021-10-10T16:04:50.459778",
     "status": "completed"
    },
    "tags": []
   },
   "outputs": [],
   "source": [
    "layer = torch.nn.Linear(7,22)\n",
    "model = torch.nn.Sequential(layer).to(device)\n",
    "\n",
    "loss = torch.nn.CrossEntropyLoss().to(device)\n",
    "optimizer = torch.optim.Adam(model.parameters(), lr = 0.001)\n",
    "epochs = 10000"
   ]
  },
  {
   "cell_type": "code",
   "execution_count": 7,
   "id": "b7ee07aa",
   "metadata": {
    "execution": {
     "iopub.execute_input": "2021-10-10T16:04:55.602125Z",
     "iopub.status.busy": "2021-10-10T16:04:55.601507Z",
     "iopub.status.idle": "2021-10-10T16:05:03.774211Z",
     "shell.execute_reply": "2021-10-10T16:05:03.774795Z",
     "shell.execute_reply.started": "2021-10-10T16:03:59.094381Z"
    },
    "papermill": {
     "duration": 8.189192,
     "end_time": "2021-10-10T16:05:03.774995",
     "exception": false,
     "start_time": "2021-10-10T16:04:55.585803",
     "status": "completed"
    },
    "tags": []
   },
   "outputs": [
    {
     "name": "stdout",
     "output_type": "stream",
     "text": [
      "epoch :  0 cost :  3.3561909198760986\n",
      "epoch :  1000 cost :  1.1059019565582275\n",
      "epoch :  2000 cost :  0.6563892960548401\n",
      "epoch :  3000 cost :  0.4564986526966095\n",
      "epoch :  4000 cost :  0.33675575256347656\n",
      "epoch :  5000 cost :  0.2564544677734375\n",
      "epoch :  6000 cost :  0.199427992105484\n",
      "epoch :  7000 cost :  0.1575988531112671\n",
      "epoch :  8000 cost :  0.12632428109645844\n",
      "epoch :  9000 cost :  0.10263720899820328\n",
      "epoch :  10000 cost :  0.0845184251666069\n"
     ]
    }
   ],
   "source": [
    "for e in range(epochs +1):\n",
    "    x_train = x_train.to(device)\n",
    "    y_train = y_train.to(device)\n",
    "    hypothesis = model(x_train)\n",
    "    \n",
    "    cost = loss(hypothesis, y_train)\n",
    "    \n",
    "    optimizer.zero_grad()\n",
    "    cost.backward()\n",
    "    optimizer.step()\n",
    "    \n",
    "    if e % 1000 == 0:\n",
    "        print(\"epoch : \", e , \"cost : \", cost.item())"
   ]
  },
  {
   "cell_type": "code",
   "execution_count": 8,
   "id": "ca977a99",
   "metadata": {
    "execution": {
     "iopub.execute_input": "2021-10-10T16:05:03.804761Z",
     "iopub.status.busy": "2021-10-10T16:05:03.804247Z",
     "iopub.status.idle": "2021-10-10T16:05:03.814797Z",
     "shell.execute_reply": "2021-10-10T16:05:03.815259Z",
     "shell.execute_reply.started": "2021-10-10T16:04:07.289765Z"
    },
    "papermill": {
     "duration": 0.027302,
     "end_time": "2021-10-10T16:05:03.815380",
     "exception": false,
     "start_time": "2021-10-10T16:05:03.788078",
     "status": "completed"
    },
    "tags": []
   },
   "outputs": [
    {
     "data": {
      "text/plain": [
       "array(['muskmelon', 'watermelon', 'papaya', 'papaya', 'apple', 'mango',\n",
       "       'apple', 'mothbeans', 'mungbean', 'lentil', 'blackgram', 'coconut',\n",
       "       'pomegranate', 'jute', 'coconut', 'pomegranate', 'apple', 'maize',\n",
       "       'papaya', 'muskmelon', 'coffee', 'papaya', 'orange', 'papaya',\n",
       "       'chickpea', 'jute', 'mungbean', 'orange', 'pigeonpeas', 'rice',\n",
       "       'pomegranate', 'mothbeans', 'jute', 'lentil', 'jute', 'blackgram',\n",
       "       'jute', 'chickpea', 'chickpea', 'kidneybeans', 'papaya', 'mango',\n",
       "       'blackgram', 'maize', 'mungbean', 'maize', 'pigeonpeas', 'coconut',\n",
       "       'muskmelon', 'maize', 'blackgram', 'coffee', 'grapes', 'mungbean',\n",
       "       'coffee', 'kidneybeans', 'cotton', 'apple', 'banana', 'lentil',\n",
       "       'watermelon', 'coconut', 'lentil', 'orange', 'papaya', 'blackgram',\n",
       "       'orange', 'rice', 'muskmelon', 'pigeonpeas', 'muskmelon',\n",
       "       'coconut', 'jute', 'banana', 'blackgram', 'papaya', 'banana',\n",
       "       'cotton', 'watermelon', 'orange', 'coffee', 'chickpea', 'jute',\n",
       "       'mothbeans', 'orange', 'mango', 'coffee', 'mothbeans', 'blackgram',\n",
       "       'pomegranate', 'maize', 'mothbeans', 'cotton', 'papaya',\n",
       "       'pigeonpeas', 'mothbeans', 'kidneybeans', 'coffee', 'blackgram',\n",
       "       'lentil', 'coconut', 'jute', 'orange', 'muskmelon', 'watermelon',\n",
       "       'kidneybeans', 'watermelon', 'banana', 'pigeonpeas', 'mothbeans',\n",
       "       'banana', 'jute', 'cotton', 'pomegranate', 'pigeonpeas',\n",
       "       'chickpea', 'maize', 'coconut', 'pomegranate', 'rice',\n",
       "       'pigeonpeas', 'grapes', 'blackgram', 'coconut', 'chickpea',\n",
       "       'blackgram', 'coconut', 'maize', 'banana', 'mothbeans', 'banana',\n",
       "       'kidneybeans', 'pomegranate', 'chickpea', 'coconut', 'orange',\n",
       "       'pigeonpeas', 'banana', 'banana', 'apple', 'kidneybeans',\n",
       "       'muskmelon', 'mungbean', 'mothbeans', 'coconut', 'maize', 'apple',\n",
       "       'coconut', 'kidneybeans', 'pigeonpeas', 'mungbean', 'lentil',\n",
       "       'watermelon', 'mungbean', 'blackgram', 'pigeonpeas', 'pigeonpeas',\n",
       "       'kidneybeans', 'maize', 'jute', 'chickpea', 'apple', 'orange',\n",
       "       'cotton', 'rice', 'coconut', 'grapes', 'lentil', 'watermelon',\n",
       "       'grapes', 'grapes', 'blackgram', 'pomegranate', 'chickpea',\n",
       "       'coconut', 'maize', 'lentil', 'grapes', 'watermelon', 'jute',\n",
       "       'coffee', 'coffee', 'kidneybeans', 'jute', 'mothbeans',\n",
       "       'kidneybeans', 'banana', 'kidneybeans', 'coconut', 'papaya',\n",
       "       'papaya', 'mungbean', 'mango', 'pomegranate', 'watermelon',\n",
       "       'pigeonpeas', 'maize', 'apple', 'blackgram', 'chickpea', 'grapes',\n",
       "       'grapes', 'banana', 'cotton', 'rice', 'pomegranate', 'mungbean',\n",
       "       'banana', 'jute', 'mungbean', 'maize', 'chickpea', 'chickpea',\n",
       "       'chickpea', 'apple', 'rice', 'kidneybeans', 'papaya', 'coffee',\n",
       "       'blackgram', 'kidneybeans', 'mango', 'mango', 'coconut', 'papaya',\n",
       "       'apple', 'chickpea', 'pomegranate', 'chickpea', 'muskmelon',\n",
       "       'apple', 'muskmelon', 'muskmelon', 'mango', 'mango', 'cotton',\n",
       "       'coconut', 'pomegranate', 'rice', 'muskmelon', 'coffee', 'papaya',\n",
       "       'mothbeans', 'maize', 'mango', 'muskmelon', 'blackgram',\n",
       "       'mungbean', 'coffee', 'grapes', 'coconut', 'cotton', 'pigeonpeas',\n",
       "       'rice', 'apple', 'pomegranate', 'coffee', 'chickpea', 'cotton',\n",
       "       'jute', 'mango', 'banana', 'papaya', 'apple', 'chickpea', 'rice',\n",
       "       'pigeonpeas', 'mothbeans', 'mungbean', 'jute', 'pomegranate',\n",
       "       'grapes', 'mothbeans', 'papaya', 'maize', 'coconut', 'maize',\n",
       "       'chickpea', 'banana', 'jute', 'coconut', 'coffee', 'mango',\n",
       "       'muskmelon', 'apple', 'banana', 'pigeonpeas', 'blackgram',\n",
       "       'orange', 'chickpea', 'watermelon', 'banana', 'apple', 'chickpea',\n",
       "       'coffee', 'pigeonpeas', 'orange', 'apple', 'coconut', 'papaya',\n",
       "       'watermelon', 'mothbeans', 'rice', 'chickpea', 'pomegranate',\n",
       "       'chickpea', 'papaya', 'lentil', 'apple', 'pomegranate', 'chickpea',\n",
       "       'mango', 'chickpea', 'pomegranate', 'watermelon', 'kidneybeans',\n",
       "       'mungbean', 'muskmelon', 'watermelon', 'kidneybeans', 'muskmelon',\n",
       "       'mango', 'jute', 'blackgram', 'chickpea', 'banana', 'blackgram',\n",
       "       'pigeonpeas', 'papaya', 'kidneybeans', 'mungbean', 'coconut',\n",
       "       'cotton', 'grapes', 'apple', 'lentil', 'banana', 'jute', 'apple',\n",
       "       'pomegranate', 'apple', 'mungbean', 'muskmelon', 'coffee',\n",
       "       'coffee', 'pigeonpeas', 'jute', 'kidneybeans', 'banana', 'maize',\n",
       "       'jute', 'maize', 'pigeonpeas', 'mango', 'kidneybeans',\n",
       "       'pomegranate', 'watermelon', 'blackgram', 'maize', 'rice',\n",
       "       'mothbeans', 'kidneybeans', 'mango', 'cotton', 'papaya',\n",
       "       'mothbeans', 'cotton', 'mungbean', 'orange', 'rice', 'blackgram',\n",
       "       'mungbean', 'coffee', 'banana', 'pigeonpeas', 'papaya', 'apple',\n",
       "       'pomegranate', 'maize', 'mango', 'coconut', 'apple', 'lentil',\n",
       "       'jute', 'mothbeans', 'lentil', 'coconut', 'blackgram', 'jute',\n",
       "       'mungbean', 'cotton', 'watermelon', 'apple', 'grapes', 'coconut',\n",
       "       'grapes', 'watermelon', 'rice', 'mango', 'mango', 'coffee',\n",
       "       'pomegranate', 'banana', 'grapes', 'jute', 'orange', 'cotton',\n",
       "       'mango', 'papaya', 'muskmelon', 'mothbeans', 'jute', 'chickpea',\n",
       "       'mothbeans', 'pomegranate', 'watermelon', 'mothbeans', 'cotton',\n",
       "       'papaya', 'watermelon', 'mothbeans', 'rice', 'coconut',\n",
       "       'mothbeans', 'mothbeans', 'maize', 'rice', 'maize', 'coconut',\n",
       "       'orange', 'pomegranate', 'kidneybeans', 'watermelon', 'mungbean',\n",
       "       'blackgram', 'rice', 'rice', 'cotton', 'cotton', 'pigeonpeas',\n",
       "       'orange', 'blackgram', 'lentil', 'banana', 'mango', 'maize',\n",
       "       'apple', 'pomegranate', 'mango', 'cotton', 'mungbean',\n",
       "       'pigeonpeas', 'chickpea', 'apple', 'coffee', 'pigeonpeas', 'jute',\n",
       "       'jute', 'jute', 'papaya', 'lentil', 'grapes', 'rice', 'orange',\n",
       "       'mungbean', 'mango', 'kidneybeans', 'grapes', 'mungbean', 'orange',\n",
       "       'pigeonpeas', 'banana', 'jute', 'pigeonpeas', 'pomegranate',\n",
       "       'coffee', 'muskmelon', 'blackgram', 'papaya', 'papaya',\n",
       "       'pomegranate', 'kidneybeans', 'chickpea', 'mungbean', 'mungbean',\n",
       "       'mango', 'blackgram', 'muskmelon', 'mango', 'mothbeans',\n",
       "       'pigeonpeas', 'muskmelon', 'rice', 'pomegranate', 'muskmelon',\n",
       "       'pigeonpeas', 'apple', 'mungbean', 'jute', 'kidneybeans', 'apple',\n",
       "       'rice', 'mango', 'papaya', 'mothbeans', 'cotton', 'pomegranate',\n",
       "       'pigeonpeas', 'papaya', 'lentil', 'maize', 'chickpea', 'muskmelon',\n",
       "       'cotton', 'kidneybeans', 'chickpea', 'mungbean', 'coffee',\n",
       "       'coffee', 'orange', 'watermelon', 'orange', 'grapes', 'coffee',\n",
       "       'pigeonpeas', 'mango', 'apple', 'mango', 'pomegranate', 'coffee',\n",
       "       'pigeonpeas', 'coffee', 'grapes', 'cotton', 'pomegranate',\n",
       "       'papaya', 'apple', 'lentil', 'pigeonpeas', 'watermelon', 'papaya',\n",
       "       'blackgram', 'grapes', 'lentil', 'jute', 'coffee', 'papaya',\n",
       "       'chickpea', 'coffee', 'papaya'], dtype=object)"
      ]
     },
     "execution_count": 8,
     "metadata": {},
     "output_type": "execute_result"
    }
   ],
   "source": [
    "x_test = x_test.to(device)\n",
    "hypothesis = model(x_test)\n",
    "predict = torch.argmax(hypothesis, dim = 1)\n",
    "\n",
    "predict = le.inverse_transform(predict.cpu())\n",
    "\n",
    "predict\n",
    "    \n",
    "   "
   ]
  },
  {
   "cell_type": "code",
   "execution_count": 9,
   "id": "d0da4b03",
   "metadata": {
    "execution": {
     "iopub.execute_input": "2021-10-10T16:05:03.845678Z",
     "iopub.status.busy": "2021-10-10T16:05:03.845140Z",
     "iopub.status.idle": "2021-10-10T16:05:03.848358Z",
     "shell.execute_reply": "2021-10-10T16:05:03.848755Z",
     "shell.execute_reply.started": "2021-10-10T16:04:07.302031Z"
    },
    "papermill": {
     "duration": 0.019714,
     "end_time": "2021-10-10T16:05:03.848868",
     "exception": false,
     "start_time": "2021-10-10T16:05:03.829154",
     "status": "completed"
    },
    "tags": []
   },
   "outputs": [],
   "source": [
    "submit['label'] = predict"
   ]
  },
  {
   "cell_type": "code",
   "execution_count": 10,
   "id": "46799468",
   "metadata": {
    "execution": {
     "iopub.execute_input": "2021-10-10T16:05:03.880468Z",
     "iopub.status.busy": "2021-10-10T16:05:03.879710Z",
     "iopub.status.idle": "2021-10-10T16:05:03.891028Z",
     "shell.execute_reply": "2021-10-10T16:05:03.890609Z",
     "shell.execute_reply.started": "2021-10-10T16:04:07.308392Z"
    },
    "papermill": {
     "duration": 0.029338,
     "end_time": "2021-10-10T16:05:03.891127",
     "exception": false,
     "start_time": "2021-10-10T16:05:03.861789",
     "status": "completed"
    },
    "tags": []
   },
   "outputs": [
    {
     "data": {
      "text/html": [
       "<div>\n",
       "<style scoped>\n",
       "    .dataframe tbody tr th:only-of-type {\n",
       "        vertical-align: middle;\n",
       "    }\n",
       "\n",
       "    .dataframe tbody tr th {\n",
       "        vertical-align: top;\n",
       "    }\n",
       "\n",
       "    .dataframe thead th {\n",
       "        text-align: right;\n",
       "    }\n",
       "</style>\n",
       "<table border=\"1\" class=\"dataframe\">\n",
       "  <thead>\n",
       "    <tr style=\"text-align: right;\">\n",
       "      <th></th>\n",
       "      <th>id</th>\n",
       "      <th>label</th>\n",
       "    </tr>\n",
       "  </thead>\n",
       "  <tbody>\n",
       "    <tr>\n",
       "      <th>0</th>\n",
       "      <td>0</td>\n",
       "      <td>muskmelon</td>\n",
       "    </tr>\n",
       "    <tr>\n",
       "      <th>1</th>\n",
       "      <td>1</td>\n",
       "      <td>watermelon</td>\n",
       "    </tr>\n",
       "    <tr>\n",
       "      <th>2</th>\n",
       "      <td>2</td>\n",
       "      <td>papaya</td>\n",
       "    </tr>\n",
       "    <tr>\n",
       "      <th>3</th>\n",
       "      <td>3</td>\n",
       "      <td>papaya</td>\n",
       "    </tr>\n",
       "    <tr>\n",
       "      <th>4</th>\n",
       "      <td>4</td>\n",
       "      <td>apple</td>\n",
       "    </tr>\n",
       "    <tr>\n",
       "      <th>...</th>\n",
       "      <td>...</td>\n",
       "      <td>...</td>\n",
       "    </tr>\n",
       "    <tr>\n",
       "      <th>545</th>\n",
       "      <td>545</td>\n",
       "      <td>coffee</td>\n",
       "    </tr>\n",
       "    <tr>\n",
       "      <th>546</th>\n",
       "      <td>546</td>\n",
       "      <td>papaya</td>\n",
       "    </tr>\n",
       "    <tr>\n",
       "      <th>547</th>\n",
       "      <td>547</td>\n",
       "      <td>chickpea</td>\n",
       "    </tr>\n",
       "    <tr>\n",
       "      <th>548</th>\n",
       "      <td>548</td>\n",
       "      <td>coffee</td>\n",
       "    </tr>\n",
       "    <tr>\n",
       "      <th>549</th>\n",
       "      <td>549</td>\n",
       "      <td>papaya</td>\n",
       "    </tr>\n",
       "  </tbody>\n",
       "</table>\n",
       "<p>550 rows × 2 columns</p>\n",
       "</div>"
      ],
      "text/plain": [
       "      id       label\n",
       "0      0   muskmelon\n",
       "1      1  watermelon\n",
       "2      2      papaya\n",
       "3      3      papaya\n",
       "4      4       apple\n",
       "..   ...         ...\n",
       "545  545      coffee\n",
       "546  546      papaya\n",
       "547  547    chickpea\n",
       "548  548      coffee\n",
       "549  549      papaya\n",
       "\n",
       "[550 rows x 2 columns]"
      ]
     },
     "execution_count": 10,
     "metadata": {},
     "output_type": "execute_result"
    }
   ],
   "source": [
    "submit"
   ]
  },
  {
   "cell_type": "code",
   "execution_count": 11,
   "id": "e333bb2e",
   "metadata": {
    "execution": {
     "iopub.execute_input": "2021-10-10T16:05:03.920483Z",
     "iopub.status.busy": "2021-10-10T16:05:03.919801Z",
     "iopub.status.idle": "2021-10-10T16:05:03.934285Z",
     "shell.execute_reply": "2021-10-10T16:05:03.934679Z",
     "shell.execute_reply.started": "2021-10-10T16:04:25.945605Z"
    },
    "papermill": {
     "duration": 0.03087,
     "end_time": "2021-10-10T16:05:03.934791",
     "exception": false,
     "start_time": "2021-10-10T16:05:03.903921",
     "status": "completed"
    },
    "tags": []
   },
   "outputs": [
    {
     "data": {
      "text/html": [
       "<div>\n",
       "<style scoped>\n",
       "    .dataframe tbody tr th:only-of-type {\n",
       "        vertical-align: middle;\n",
       "    }\n",
       "\n",
       "    .dataframe tbody tr th {\n",
       "        vertical-align: top;\n",
       "    }\n",
       "\n",
       "    .dataframe thead th {\n",
       "        text-align: right;\n",
       "    }\n",
       "</style>\n",
       "<table border=\"1\" class=\"dataframe\">\n",
       "  <thead>\n",
       "    <tr style=\"text-align: right;\">\n",
       "      <th></th>\n",
       "      <th>id</th>\n",
       "      <th>label</th>\n",
       "    </tr>\n",
       "  </thead>\n",
       "  <tbody>\n",
       "    <tr>\n",
       "      <th>0</th>\n",
       "      <td>0</td>\n",
       "      <td>muskmelon</td>\n",
       "    </tr>\n",
       "    <tr>\n",
       "      <th>1</th>\n",
       "      <td>1</td>\n",
       "      <td>watermelon</td>\n",
       "    </tr>\n",
       "    <tr>\n",
       "      <th>2</th>\n",
       "      <td>2</td>\n",
       "      <td>papaya</td>\n",
       "    </tr>\n",
       "    <tr>\n",
       "      <th>3</th>\n",
       "      <td>3</td>\n",
       "      <td>papaya</td>\n",
       "    </tr>\n",
       "    <tr>\n",
       "      <th>4</th>\n",
       "      <td>4</td>\n",
       "      <td>apple</td>\n",
       "    </tr>\n",
       "    <tr>\n",
       "      <th>...</th>\n",
       "      <td>...</td>\n",
       "      <td>...</td>\n",
       "    </tr>\n",
       "    <tr>\n",
       "      <th>545</th>\n",
       "      <td>545</td>\n",
       "      <td>coffee</td>\n",
       "    </tr>\n",
       "    <tr>\n",
       "      <th>546</th>\n",
       "      <td>546</td>\n",
       "      <td>papaya</td>\n",
       "    </tr>\n",
       "    <tr>\n",
       "      <th>547</th>\n",
       "      <td>547</td>\n",
       "      <td>chickpea</td>\n",
       "    </tr>\n",
       "    <tr>\n",
       "      <th>548</th>\n",
       "      <td>548</td>\n",
       "      <td>coffee</td>\n",
       "    </tr>\n",
       "    <tr>\n",
       "      <th>549</th>\n",
       "      <td>549</td>\n",
       "      <td>papaya</td>\n",
       "    </tr>\n",
       "  </tbody>\n",
       "</table>\n",
       "<p>550 rows × 2 columns</p>\n",
       "</div>"
      ],
      "text/plain": [
       "      id       label\n",
       "0      0   muskmelon\n",
       "1      1  watermelon\n",
       "2      2      papaya\n",
       "3      3      papaya\n",
       "4      4       apple\n",
       "..   ...         ...\n",
       "545  545      coffee\n",
       "546  546      papaya\n",
       "547  547    chickpea\n",
       "548  548      coffee\n",
       "549  549      papaya\n",
       "\n",
       "[550 rows x 2 columns]"
      ]
     },
     "execution_count": 11,
     "metadata": {},
     "output_type": "execute_result"
    }
   ],
   "source": [
    "submit.to_csv(\"submission.csv\", index = False)\n",
    "\n",
    "s = pd.read_csv(\"submission.csv\")\n",
    "s"
   ]
  },
  {
   "cell_type": "code",
   "execution_count": null,
   "id": "d32be06d",
   "metadata": {
    "papermill": {
     "duration": 0.013511,
     "end_time": "2021-10-10T16:05:03.961415",
     "exception": false,
     "start_time": "2021-10-10T16:05:03.947904",
     "status": "completed"
    },
    "tags": []
   },
   "outputs": [],
   "source": []
  }
 ],
 "metadata": {
  "kernelspec": {
   "display_name": "Python 3",
   "language": "python",
   "name": "python3"
  },
  "language_info": {
   "codemirror_mode": {
    "name": "ipython",
    "version": 3
   },
   "file_extension": ".py",
   "mimetype": "text/x-python",
   "name": "python",
   "nbconvert_exporter": "python",
   "pygments_lexer": "ipython3",
   "version": "3.7.10"
  },
  "papermill": {
   "default_parameters": {},
   "duration": 26.448009,
   "end_time": "2021-10-10T16:05:04.883248",
   "environment_variables": {},
   "exception": null,
   "input_path": "__notebook__.ipynb",
   "output_path": "__notebook__.ipynb",
   "parameters": {},
   "start_time": "2021-10-10T16:04:38.435239",
   "version": "2.3.3"
  }
 },
 "nbformat": 4,
 "nbformat_minor": 5
}
