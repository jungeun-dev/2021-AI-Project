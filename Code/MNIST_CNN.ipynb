{
 "cells": [
  {
   "cell_type": "code",
   "execution_count": 1,
   "id": "4bffd9c8",
   "metadata": {
    "_cell_guid": "b1076dfc-b9ad-4769-8c92-a6c4dae69d19",
    "_uuid": "8f2839f25d086af736a60e9eeb907d3b93b6e0e5",
    "execution": {
     "iopub.execute_input": "2021-12-01T16:05:14.044090Z",
     "iopub.status.busy": "2021-12-01T16:05:14.042542Z",
     "iopub.status.idle": "2021-12-01T16:05:14.061746Z",
     "shell.execute_reply": "2021-12-01T16:05:14.061111Z",
     "shell.execute_reply.started": "2021-12-01T15:59:17.117698Z"
    },
    "papermill": {
     "duration": 0.043729,
     "end_time": "2021-12-01T16:05:14.061888",
     "exception": false,
     "start_time": "2021-12-01T16:05:14.018159",
     "status": "completed"
    },
    "tags": []
   },
   "outputs": [
    {
     "name": "stdout",
     "output_type": "stream",
     "text": [
      "/kaggle/input/2021-ai-w10-p1/2021-ai-w10-p1/train.csv\n",
      "/kaggle/input/2021-ai-w10-p1/2021-ai-w10-p1/test.csv\n",
      "/kaggle/input/2021-ai-w10-p1/2021-ai-w10-p1/sample_submit.csv\n"
     ]
    }
   ],
   "source": [
    "# This Python 3 environment comes with many helpful analytics libraries installed\n",
    "# It is defined by the kaggle/python Docker image: https://github.com/kaggle/docker-python\n",
    "# For example, here's several helpful packages to load\n",
    "\n",
    "import numpy as np # linear algebra\n",
    "import pandas as pd # data processing, CSV file I/O (e.g. pd.read_csv)\n",
    "\n",
    "# Input data files are available in the read-only \"../input/\" directory\n",
    "# For example, running this (by clicking run or pressing Shift+Enter) will list all files under the input directory\n",
    "\n",
    "import os\n",
    "for dirname, _, filenames in os.walk('/kaggle/input'):\n",
    "    for filename in filenames:\n",
    "        print(os.path.join(dirname, filename))\n",
    "\n",
    "# You can write up to 20GB to the current directory (/kaggle/working/) that gets preserved as output when you create a version using \"Save & Run All\" \n",
    "# You can also write temporary files to /kaggle/temp/, but they won't be saved outside of the current session"
   ]
  },
  {
   "cell_type": "code",
   "execution_count": 2,
   "id": "9ab78faf",
   "metadata": {
    "execution": {
     "iopub.execute_input": "2021-12-01T16:05:14.106096Z",
     "iopub.status.busy": "2021-12-01T16:05:14.105431Z",
     "iopub.status.idle": "2021-12-01T16:05:15.835040Z",
     "shell.execute_reply": "2021-12-01T16:05:15.835699Z",
     "shell.execute_reply.started": "2021-12-01T15:59:17.132603Z"
    },
    "papermill": {
     "duration": 1.753354,
     "end_time": "2021-12-01T16:05:15.835888",
     "exception": false,
     "start_time": "2021-12-01T16:05:14.082534",
     "status": "completed"
    },
    "tags": []
   },
   "outputs": [],
   "source": [
    "import torch"
   ]
  },
  {
   "cell_type": "code",
   "execution_count": 3,
   "id": "644165e5",
   "metadata": {
    "execution": {
     "iopub.execute_input": "2021-12-01T16:05:15.921156Z",
     "iopub.status.busy": "2021-12-01T16:05:15.920484Z",
     "iopub.status.idle": "2021-12-01T16:05:15.932341Z",
     "shell.execute_reply": "2021-12-01T16:05:15.931526Z",
     "shell.execute_reply.started": "2021-12-01T15:59:17.139153Z"
    },
    "papermill": {
     "duration": 0.077396,
     "end_time": "2021-12-01T16:05:15.932471",
     "exception": false,
     "start_time": "2021-12-01T16:05:15.855075",
     "status": "completed"
    },
    "tags": []
   },
   "outputs": [],
   "source": [
    "if torch.cuda.is_available() :\n",
    "    device = 'cuda'\n",
    "else :\n",
    "    device = 'cpu'\n",
    "    \n",
    "torch.manual_seed(777)\n",
    "if device == 'cuda':\n",
    "    torch.cuda.manual_seed_all(777)"
   ]
  },
  {
   "cell_type": "code",
   "execution_count": 4,
   "id": "6ba159a6",
   "metadata": {
    "execution": {
     "iopub.execute_input": "2021-12-01T16:05:15.975982Z",
     "iopub.status.busy": "2021-12-01T16:05:15.975277Z",
     "iopub.status.idle": "2021-12-01T16:05:21.241129Z",
     "shell.execute_reply": "2021-12-01T16:05:21.240547Z",
     "shell.execute_reply.started": "2021-12-01T15:59:17.148768Z"
    },
    "papermill": {
     "duration": 5.289325,
     "end_time": "2021-12-01T16:05:21.241262",
     "exception": false,
     "start_time": "2021-12-01T16:05:15.951937",
     "status": "completed"
    },
    "tags": []
   },
   "outputs": [],
   "source": [
    "import torch\n",
    "import torchvision\n",
    "\n",
    "train = pd.read_csv(\"../input/2021-ai-w10-p1/2021-ai-w10-p1/train.csv\")\n",
    "test = pd.read_csv(\"../input/2021-ai-w10-p1/2021-ai-w10-p1/test.csv\")\n",
    "submit = pd.read_csv(\"../input/2021-ai-w10-p1/2021-ai-w10-p1/sample_submit.csv\")"
   ]
  },
  {
   "cell_type": "code",
   "execution_count": 5,
   "id": "bf2802a0",
   "metadata": {
    "execution": {
     "iopub.execute_input": "2021-12-01T16:05:21.283977Z",
     "iopub.status.busy": "2021-12-01T16:05:21.277931Z",
     "iopub.status.idle": "2021-12-01T16:05:21.309029Z",
     "shell.execute_reply": "2021-12-01T16:05:21.309445Z",
     "shell.execute_reply.started": "2021-12-01T15:59:20.936958Z"
    },
    "papermill": {
     "duration": 0.050747,
     "end_time": "2021-12-01T16:05:21.309579",
     "exception": false,
     "start_time": "2021-12-01T16:05:21.258832",
     "status": "completed"
    },
    "tags": []
   },
   "outputs": [
    {
     "data": {
      "text/html": [
       "<div>\n",
       "<style scoped>\n",
       "    .dataframe tbody tr th:only-of-type {\n",
       "        vertical-align: middle;\n",
       "    }\n",
       "\n",
       "    .dataframe tbody tr th {\n",
       "        vertical-align: top;\n",
       "    }\n",
       "\n",
       "    .dataframe thead th {\n",
       "        text-align: right;\n",
       "    }\n",
       "</style>\n",
       "<table border=\"1\" class=\"dataframe\">\n",
       "  <thead>\n",
       "    <tr style=\"text-align: right;\">\n",
       "      <th></th>\n",
       "      <th>Category</th>\n",
       "      <th>1x1</th>\n",
       "      <th>1x2</th>\n",
       "      <th>1x3</th>\n",
       "      <th>1x4</th>\n",
       "      <th>1x5</th>\n",
       "      <th>1x6</th>\n",
       "      <th>1x7</th>\n",
       "      <th>1x8</th>\n",
       "      <th>1x9</th>\n",
       "      <th>...</th>\n",
       "      <th>28x19</th>\n",
       "      <th>28x20</th>\n",
       "      <th>28x21</th>\n",
       "      <th>28x22</th>\n",
       "      <th>28x23</th>\n",
       "      <th>28x24</th>\n",
       "      <th>28x25</th>\n",
       "      <th>28x26</th>\n",
       "      <th>28x27</th>\n",
       "      <th>28x28</th>\n",
       "    </tr>\n",
       "  </thead>\n",
       "  <tbody>\n",
       "    <tr>\n",
       "      <th>0</th>\n",
       "      <td>5</td>\n",
       "      <td>0</td>\n",
       "      <td>0</td>\n",
       "      <td>0</td>\n",
       "      <td>0</td>\n",
       "      <td>0</td>\n",
       "      <td>0</td>\n",
       "      <td>0</td>\n",
       "      <td>0</td>\n",
       "      <td>0</td>\n",
       "      <td>...</td>\n",
       "      <td>0</td>\n",
       "      <td>0</td>\n",
       "      <td>0</td>\n",
       "      <td>0</td>\n",
       "      <td>0</td>\n",
       "      <td>0</td>\n",
       "      <td>0</td>\n",
       "      <td>0</td>\n",
       "      <td>0</td>\n",
       "      <td>0</td>\n",
       "    </tr>\n",
       "    <tr>\n",
       "      <th>1</th>\n",
       "      <td>0</td>\n",
       "      <td>0</td>\n",
       "      <td>0</td>\n",
       "      <td>0</td>\n",
       "      <td>0</td>\n",
       "      <td>0</td>\n",
       "      <td>0</td>\n",
       "      <td>0</td>\n",
       "      <td>0</td>\n",
       "      <td>0</td>\n",
       "      <td>...</td>\n",
       "      <td>0</td>\n",
       "      <td>0</td>\n",
       "      <td>0</td>\n",
       "      <td>0</td>\n",
       "      <td>0</td>\n",
       "      <td>0</td>\n",
       "      <td>0</td>\n",
       "      <td>0</td>\n",
       "      <td>0</td>\n",
       "      <td>0</td>\n",
       "    </tr>\n",
       "    <tr>\n",
       "      <th>2</th>\n",
       "      <td>3</td>\n",
       "      <td>0</td>\n",
       "      <td>0</td>\n",
       "      <td>0</td>\n",
       "      <td>0</td>\n",
       "      <td>0</td>\n",
       "      <td>0</td>\n",
       "      <td>0</td>\n",
       "      <td>0</td>\n",
       "      <td>0</td>\n",
       "      <td>...</td>\n",
       "      <td>0</td>\n",
       "      <td>0</td>\n",
       "      <td>0</td>\n",
       "      <td>0</td>\n",
       "      <td>0</td>\n",
       "      <td>0</td>\n",
       "      <td>0</td>\n",
       "      <td>0</td>\n",
       "      <td>0</td>\n",
       "      <td>0</td>\n",
       "    </tr>\n",
       "    <tr>\n",
       "      <th>3</th>\n",
       "      <td>3</td>\n",
       "      <td>0</td>\n",
       "      <td>0</td>\n",
       "      <td>0</td>\n",
       "      <td>0</td>\n",
       "      <td>0</td>\n",
       "      <td>0</td>\n",
       "      <td>0</td>\n",
       "      <td>0</td>\n",
       "      <td>0</td>\n",
       "      <td>...</td>\n",
       "      <td>0</td>\n",
       "      <td>0</td>\n",
       "      <td>0</td>\n",
       "      <td>0</td>\n",
       "      <td>0</td>\n",
       "      <td>0</td>\n",
       "      <td>0</td>\n",
       "      <td>0</td>\n",
       "      <td>0</td>\n",
       "      <td>0</td>\n",
       "    </tr>\n",
       "    <tr>\n",
       "      <th>4</th>\n",
       "      <td>6</td>\n",
       "      <td>0</td>\n",
       "      <td>0</td>\n",
       "      <td>0</td>\n",
       "      <td>0</td>\n",
       "      <td>0</td>\n",
       "      <td>0</td>\n",
       "      <td>0</td>\n",
       "      <td>0</td>\n",
       "      <td>0</td>\n",
       "      <td>...</td>\n",
       "      <td>0</td>\n",
       "      <td>0</td>\n",
       "      <td>0</td>\n",
       "      <td>0</td>\n",
       "      <td>0</td>\n",
       "      <td>0</td>\n",
       "      <td>0</td>\n",
       "      <td>0</td>\n",
       "      <td>0</td>\n",
       "      <td>0</td>\n",
       "    </tr>\n",
       "    <tr>\n",
       "      <th>...</th>\n",
       "      <td>...</td>\n",
       "      <td>...</td>\n",
       "      <td>...</td>\n",
       "      <td>...</td>\n",
       "      <td>...</td>\n",
       "      <td>...</td>\n",
       "      <td>...</td>\n",
       "      <td>...</td>\n",
       "      <td>...</td>\n",
       "      <td>...</td>\n",
       "      <td>...</td>\n",
       "      <td>...</td>\n",
       "      <td>...</td>\n",
       "      <td>...</td>\n",
       "      <td>...</td>\n",
       "      <td>...</td>\n",
       "      <td>...</td>\n",
       "      <td>...</td>\n",
       "      <td>...</td>\n",
       "      <td>...</td>\n",
       "      <td>...</td>\n",
       "    </tr>\n",
       "    <tr>\n",
       "      <th>59995</th>\n",
       "      <td>0</td>\n",
       "      <td>0</td>\n",
       "      <td>0</td>\n",
       "      <td>0</td>\n",
       "      <td>0</td>\n",
       "      <td>0</td>\n",
       "      <td>0</td>\n",
       "      <td>0</td>\n",
       "      <td>0</td>\n",
       "      <td>0</td>\n",
       "      <td>...</td>\n",
       "      <td>0</td>\n",
       "      <td>0</td>\n",
       "      <td>0</td>\n",
       "      <td>0</td>\n",
       "      <td>0</td>\n",
       "      <td>0</td>\n",
       "      <td>0</td>\n",
       "      <td>0</td>\n",
       "      <td>0</td>\n",
       "      <td>0</td>\n",
       "    </tr>\n",
       "    <tr>\n",
       "      <th>59996</th>\n",
       "      <td>3</td>\n",
       "      <td>0</td>\n",
       "      <td>0</td>\n",
       "      <td>0</td>\n",
       "      <td>0</td>\n",
       "      <td>0</td>\n",
       "      <td>0</td>\n",
       "      <td>0</td>\n",
       "      <td>0</td>\n",
       "      <td>0</td>\n",
       "      <td>...</td>\n",
       "      <td>0</td>\n",
       "      <td>0</td>\n",
       "      <td>0</td>\n",
       "      <td>0</td>\n",
       "      <td>0</td>\n",
       "      <td>0</td>\n",
       "      <td>0</td>\n",
       "      <td>0</td>\n",
       "      <td>0</td>\n",
       "      <td>0</td>\n",
       "    </tr>\n",
       "    <tr>\n",
       "      <th>59997</th>\n",
       "      <td>9</td>\n",
       "      <td>0</td>\n",
       "      <td>0</td>\n",
       "      <td>0</td>\n",
       "      <td>0</td>\n",
       "      <td>0</td>\n",
       "      <td>0</td>\n",
       "      <td>0</td>\n",
       "      <td>0</td>\n",
       "      <td>0</td>\n",
       "      <td>...</td>\n",
       "      <td>0</td>\n",
       "      <td>0</td>\n",
       "      <td>0</td>\n",
       "      <td>0</td>\n",
       "      <td>0</td>\n",
       "      <td>0</td>\n",
       "      <td>0</td>\n",
       "      <td>0</td>\n",
       "      <td>0</td>\n",
       "      <td>0</td>\n",
       "    </tr>\n",
       "    <tr>\n",
       "      <th>59998</th>\n",
       "      <td>4</td>\n",
       "      <td>0</td>\n",
       "      <td>0</td>\n",
       "      <td>0</td>\n",
       "      <td>0</td>\n",
       "      <td>0</td>\n",
       "      <td>0</td>\n",
       "      <td>0</td>\n",
       "      <td>0</td>\n",
       "      <td>0</td>\n",
       "      <td>...</td>\n",
       "      <td>0</td>\n",
       "      <td>0</td>\n",
       "      <td>0</td>\n",
       "      <td>0</td>\n",
       "      <td>0</td>\n",
       "      <td>0</td>\n",
       "      <td>0</td>\n",
       "      <td>0</td>\n",
       "      <td>0</td>\n",
       "      <td>0</td>\n",
       "    </tr>\n",
       "    <tr>\n",
       "      <th>59999</th>\n",
       "      <td>6</td>\n",
       "      <td>0</td>\n",
       "      <td>0</td>\n",
       "      <td>0</td>\n",
       "      <td>0</td>\n",
       "      <td>0</td>\n",
       "      <td>0</td>\n",
       "      <td>0</td>\n",
       "      <td>0</td>\n",
       "      <td>0</td>\n",
       "      <td>...</td>\n",
       "      <td>0</td>\n",
       "      <td>0</td>\n",
       "      <td>0</td>\n",
       "      <td>0</td>\n",
       "      <td>0</td>\n",
       "      <td>0</td>\n",
       "      <td>0</td>\n",
       "      <td>0</td>\n",
       "      <td>0</td>\n",
       "      <td>0</td>\n",
       "    </tr>\n",
       "  </tbody>\n",
       "</table>\n",
       "<p>60000 rows × 785 columns</p>\n",
       "</div>"
      ],
      "text/plain": [
       "       Category  1x1  1x2  1x3  1x4  1x5  1x6  1x7  1x8  1x9  ...  28x19  \\\n",
       "0             5    0    0    0    0    0    0    0    0    0  ...      0   \n",
       "1             0    0    0    0    0    0    0    0    0    0  ...      0   \n",
       "2             3    0    0    0    0    0    0    0    0    0  ...      0   \n",
       "3             3    0    0    0    0    0    0    0    0    0  ...      0   \n",
       "4             6    0    0    0    0    0    0    0    0    0  ...      0   \n",
       "...         ...  ...  ...  ...  ...  ...  ...  ...  ...  ...  ...    ...   \n",
       "59995         0    0    0    0    0    0    0    0    0    0  ...      0   \n",
       "59996         3    0    0    0    0    0    0    0    0    0  ...      0   \n",
       "59997         9    0    0    0    0    0    0    0    0    0  ...      0   \n",
       "59998         4    0    0    0    0    0    0    0    0    0  ...      0   \n",
       "59999         6    0    0    0    0    0    0    0    0    0  ...      0   \n",
       "\n",
       "       28x20  28x21  28x22  28x23  28x24  28x25  28x26  28x27  28x28  \n",
       "0          0      0      0      0      0      0      0      0      0  \n",
       "1          0      0      0      0      0      0      0      0      0  \n",
       "2          0      0      0      0      0      0      0      0      0  \n",
       "3          0      0      0      0      0      0      0      0      0  \n",
       "4          0      0      0      0      0      0      0      0      0  \n",
       "...      ...    ...    ...    ...    ...    ...    ...    ...    ...  \n",
       "59995      0      0      0      0      0      0      0      0      0  \n",
       "59996      0      0      0      0      0      0      0      0      0  \n",
       "59997      0      0      0      0      0      0      0      0      0  \n",
       "59998      0      0      0      0      0      0      0      0      0  \n",
       "59999      0      0      0      0      0      0      0      0      0  \n",
       "\n",
       "[60000 rows x 785 columns]"
      ]
     },
     "execution_count": 5,
     "metadata": {},
     "output_type": "execute_result"
    }
   ],
   "source": [
    "train"
   ]
  },
  {
   "cell_type": "code",
   "execution_count": 6,
   "id": "7d0c4a0e",
   "metadata": {
    "execution": {
     "iopub.execute_input": "2021-12-01T16:05:21.461381Z",
     "iopub.status.busy": "2021-12-01T16:05:21.460554Z",
     "iopub.status.idle": "2021-12-01T16:05:21.464297Z",
     "shell.execute_reply": "2021-12-01T16:05:21.463545Z",
     "shell.execute_reply.started": "2021-12-01T15:59:20.960070Z"
    },
    "papermill": {
     "duration": 0.136753,
     "end_time": "2021-12-01T16:05:21.464440",
     "exception": false,
     "start_time": "2021-12-01T16:05:21.327687",
     "status": "completed"
    },
    "tags": []
   },
   "outputs": [],
   "source": [
    "y_train = train.Category\n",
    "x_train = train.drop(['Category'], axis =1)"
   ]
  },
  {
   "cell_type": "code",
   "execution_count": 7,
   "id": "0c71ab9d",
   "metadata": {
    "execution": {
     "iopub.execute_input": "2021-12-01T16:05:21.505576Z",
     "iopub.status.busy": "2021-12-01T16:05:21.504458Z",
     "iopub.status.idle": "2021-12-01T16:05:21.663626Z",
     "shell.execute_reply": "2021-12-01T16:05:21.663124Z",
     "shell.execute_reply.started": "2021-12-01T15:59:21.075483Z"
    },
    "papermill": {
     "duration": 0.181504,
     "end_time": "2021-12-01T16:05:21.663782",
     "exception": false,
     "start_time": "2021-12-01T16:05:21.482278",
     "status": "completed"
    },
    "tags": []
   },
   "outputs": [],
   "source": [
    "x_train = np.array(x_train)\n",
    "y_train = np.array(y_train)\n",
    "test = np.array(test)"
   ]
  },
  {
   "cell_type": "code",
   "execution_count": 8,
   "id": "bb9bf162",
   "metadata": {
    "execution": {
     "iopub.execute_input": "2021-12-01T16:05:21.706848Z",
     "iopub.status.busy": "2021-12-01T16:05:21.705161Z",
     "iopub.status.idle": "2021-12-01T16:05:21.707478Z",
     "shell.execute_reply": "2021-12-01T16:05:21.707928Z",
     "shell.execute_reply.started": "2021-12-01T15:59:21.230828Z"
    },
    "papermill": {
     "duration": 0.024777,
     "end_time": "2021-12-01T16:05:21.708052",
     "exception": false,
     "start_time": "2021-12-01T16:05:21.683275",
     "status": "completed"
    },
    "tags": []
   },
   "outputs": [],
   "source": [
    "#파라미터 설정\n",
    "batch_size = 100\n",
    "total_epoch = 5\n",
    "lr = 0.001\n",
    "\n",
    "method = \"resnet\""
   ]
  },
  {
   "cell_type": "code",
   "execution_count": 9,
   "id": "b4ea3733",
   "metadata": {
    "execution": {
     "iopub.execute_input": "2021-12-01T16:05:21.747449Z",
     "iopub.status.busy": "2021-12-01T16:05:21.746802Z",
     "iopub.status.idle": "2021-12-01T16:05:21.749396Z",
     "shell.execute_reply": "2021-12-01T16:05:21.749809Z",
     "shell.execute_reply.started": "2021-12-01T15:59:21.236789Z"
    },
    "papermill": {
     "duration": 0.024368,
     "end_time": "2021-12-01T16:05:21.749933",
     "exception": false,
     "start_time": "2021-12-01T16:05:21.725565",
     "status": "completed"
    },
    "tags": []
   },
   "outputs": [
    {
     "data": {
      "text/plain": [
       "(60000, 784)"
      ]
     },
     "execution_count": 9,
     "metadata": {},
     "output_type": "execute_result"
    }
   ],
   "source": [
    "x_train.shape"
   ]
  },
  {
   "cell_type": "code",
   "execution_count": 10,
   "id": "d13885e3",
   "metadata": {
    "execution": {
     "iopub.execute_input": "2021-12-01T16:05:21.788363Z",
     "iopub.status.busy": "2021-12-01T16:05:21.787438Z",
     "iopub.status.idle": "2021-12-01T16:05:21.793207Z",
     "shell.execute_reply": "2021-12-01T16:05:21.793627Z",
     "shell.execute_reply.started": "2021-12-01T15:59:21.249106Z"
    },
    "papermill": {
     "duration": 0.026179,
     "end_time": "2021-12-01T16:05:21.793780",
     "exception": false,
     "start_time": "2021-12-01T16:05:21.767601",
     "status": "completed"
    },
    "tags": []
   },
   "outputs": [
    {
     "data": {
      "text/plain": [
       "(60000, 1, 28, 28)"
      ]
     },
     "execution_count": 10,
     "metadata": {},
     "output_type": "execute_result"
    }
   ],
   "source": [
    "x_train = x_train.reshape(-1,1,28,28)\n",
    "x_train.shape"
   ]
  },
  {
   "cell_type": "code",
   "execution_count": 11,
   "id": "e76785e9",
   "metadata": {
    "execution": {
     "iopub.execute_input": "2021-12-01T16:05:21.836097Z",
     "iopub.status.busy": "2021-12-01T16:05:21.835340Z",
     "iopub.status.idle": "2021-12-01T16:05:22.018903Z",
     "shell.execute_reply": "2021-12-01T16:05:22.018338Z",
     "shell.execute_reply.started": "2021-12-01T15:59:21.260168Z"
    },
    "papermill": {
     "duration": 0.206881,
     "end_time": "2021-12-01T16:05:22.019035",
     "exception": false,
     "start_time": "2021-12-01T16:05:21.812154",
     "status": "completed"
    },
    "tags": []
   },
   "outputs": [],
   "source": [
    "x_train = torch.FloatTensor(x_train)\n",
    "y_train = torch.LongTensor(y_train)\n",
    "test = torch.FloatTensor(test)"
   ]
  },
  {
   "cell_type": "code",
   "execution_count": 12,
   "id": "bfcf6c8f",
   "metadata": {
    "execution": {
     "iopub.execute_input": "2021-12-01T16:05:22.060837Z",
     "iopub.status.busy": "2021-12-01T16:05:22.060009Z",
     "iopub.status.idle": "2021-12-01T16:05:22.273772Z",
     "shell.execute_reply": "2021-12-01T16:05:22.273264Z",
     "shell.execute_reply.started": "2021-12-01T15:59:21.419291Z"
    },
    "papermill": {
     "duration": 0.235955,
     "end_time": "2021-12-01T16:05:22.273896",
     "exception": false,
     "start_time": "2021-12-01T16:05:22.037941",
     "status": "completed"
    },
    "tags": []
   },
   "outputs": [],
   "source": [
    "from PIL import Image\n",
    "import cv2\n",
    "import torchvision.transforms as transforms"
   ]
  },
  {
   "cell_type": "code",
   "execution_count": 13,
   "id": "8ff42a26",
   "metadata": {
    "execution": {
     "iopub.execute_input": "2021-12-01T16:05:22.318278Z",
     "iopub.status.busy": "2021-12-01T16:05:22.317403Z",
     "iopub.status.idle": "2021-12-01T16:05:22.320735Z",
     "shell.execute_reply": "2021-12-01T16:05:22.320296Z",
     "shell.execute_reply.started": "2021-12-01T15:59:21.425856Z"
    },
    "papermill": {
     "duration": 0.028821,
     "end_time": "2021-12-01T16:05:22.320844",
     "exception": false,
     "start_time": "2021-12-01T16:05:22.292023",
     "status": "completed"
    },
    "tags": []
   },
   "outputs": [],
   "source": [
    "class w10_dataloader(torch.utils.data.Dataset):\n",
    "    def __init__(self, x_train, y_train, transform = None ):\n",
    "        self.transform = transform\n",
    "        self.data = x_train\n",
    "        self.label = y_train\n",
    "        self.data_len = len(self.data)\n",
    "        \n",
    "    def __len__(self):\n",
    "        return self.data_len\n",
    "    \n",
    "    def __getitem__(self, index):\n",
    "        \n",
    "        img = np.array(self.data[index]).reshape(28,28)\n",
    "        img = cv2.resize(img, dsize=(224, 224), interpolation=cv2.INTER_LINEAR)\n",
    "        img = cv2.cvtColor(img, cv2.COLOR_GRAY2BGR)\n",
    "        img = self.transform(img)\n",
    "        \n",
    "        return img , self.label[index]\n",
    "\n",
    "    \n",
    "transform = transforms.Compose(\n",
    "    [\n",
    "    transforms.ToTensor(),\n",
    "    transforms.Normalize((0.5,0.5,0.5),(0.5,0.5,0.5))])"
   ]
  },
  {
   "cell_type": "code",
   "execution_count": 14,
   "id": "b876f584",
   "metadata": {
    "execution": {
     "iopub.execute_input": "2021-12-01T16:05:22.364100Z",
     "iopub.status.busy": "2021-12-01T16:05:22.363540Z",
     "iopub.status.idle": "2021-12-01T16:05:22.366097Z",
     "shell.execute_reply": "2021-12-01T16:05:22.366531Z",
     "shell.execute_reply.started": "2021-12-01T15:59:21.439027Z"
    },
    "papermill": {
     "duration": 0.027896,
     "end_time": "2021-12-01T16:05:22.366661",
     "exception": false,
     "start_time": "2021-12-01T16:05:22.338765",
     "status": "completed"
    },
    "tags": []
   },
   "outputs": [],
   "source": [
    "class w10_test_dataloader(torch.utils.data.Dataset):\n",
    "    def __init__(self, x_train, transform = None ):\n",
    "        self.transform = transform\n",
    "        self.data = x_train\n",
    "        self.data_len = len(self.data)\n",
    "        \n",
    "    def __len__(self):\n",
    "        return self.data_len\n",
    "    \n",
    "    def __getitem__(self, index):\n",
    "        \n",
    "        img = np.array(self.data[index]).reshape(28,28)\n",
    "        img = cv2.resize(img, dsize=(224, 224), interpolation=cv2.INTER_LINEAR)\n",
    "        img = cv2.cvtColor(img, cv2.COLOR_GRAY2BGR)\n",
    "        img = self.transform(img)\n",
    "        \n",
    "        return img \n",
    "\n",
    "    \n",
    "transform = transforms.Compose(\n",
    "    [\n",
    "    transforms.ToTensor(),\n",
    "    transforms.Normalize((0.5,0.5,0.5),(0.5,0.5,0.5))])"
   ]
  },
  {
   "cell_type": "code",
   "execution_count": 15,
   "id": "50ec79ac",
   "metadata": {
    "execution": {
     "iopub.execute_input": "2021-12-01T16:05:22.409814Z",
     "iopub.status.busy": "2021-12-01T16:05:22.409153Z",
     "iopub.status.idle": "2021-12-01T16:05:22.414995Z",
     "shell.execute_reply": "2021-12-01T16:05:22.415622Z",
     "shell.execute_reply.started": "2021-12-01T15:59:21.448480Z"
    },
    "papermill": {
     "duration": 0.030709,
     "end_time": "2021-12-01T16:05:22.415804",
     "exception": false,
     "start_time": "2021-12-01T16:05:22.385095",
     "status": "completed"
    },
    "tags": []
   },
   "outputs": [
    {
     "name": "stderr",
     "output_type": "stream",
     "text": [
      "/opt/conda/lib/python3.7/site-packages/torch/utils/data/dataloader.py:481: UserWarning: This DataLoader will create 4 worker processes in total. Our suggested max number of worker in current system is 2, which is smaller than what this DataLoader is going to create. Please be aware that excessive worker creation might get DataLoader running slow or even freeze, lower the worker number to avoid potential slowness/freeze if necessary.\n",
      "  cpuset_checked))\n"
     ]
    }
   ],
   "source": [
    "train_data = w10_dataloader(x_train,y_train, transform = transform)\n",
    "\n",
    "train_loader = torch.utils.data.DataLoader(train_data, batch_size = batch_size , shuffle = True, num_workers = 4 )"
   ]
  },
  {
   "cell_type": "code",
   "execution_count": 16,
   "id": "88998a4c",
   "metadata": {
    "execution": {
     "iopub.execute_input": "2021-12-01T16:05:22.458947Z",
     "iopub.status.busy": "2021-12-01T16:05:22.458047Z",
     "iopub.status.idle": "2021-12-01T16:05:22.459972Z",
     "shell.execute_reply": "2021-12-01T16:05:22.460411Z",
     "shell.execute_reply.started": "2021-12-01T15:59:21.468657Z"
    },
    "papermill": {
     "duration": 0.024887,
     "end_time": "2021-12-01T16:05:22.460522",
     "exception": false,
     "start_time": "2021-12-01T16:05:22.435635",
     "status": "completed"
    },
    "tags": []
   },
   "outputs": [],
   "source": [
    "test_data = w10_test_dataloader(test, transform = transform)\n",
    "\n",
    "test_loader = torch.utils.data.DataLoader(test_data, batch_size = batch_size , shuffle = False, num_workers = 4 )"
   ]
  },
  {
   "cell_type": "code",
   "execution_count": 17,
   "id": "6d6e572f",
   "metadata": {
    "execution": {
     "iopub.execute_input": "2021-12-01T16:05:22.507530Z",
     "iopub.status.busy": "2021-12-01T16:05:22.506915Z",
     "iopub.status.idle": "2021-12-01T16:05:26.885291Z",
     "shell.execute_reply": "2021-12-01T16:05:26.884626Z",
     "shell.execute_reply.started": "2021-12-01T15:59:21.478267Z"
    },
    "papermill": {
     "duration": 4.406661,
     "end_time": "2021-12-01T16:05:26.885436",
     "exception": false,
     "start_time": "2021-12-01T16:05:22.478775",
     "status": "completed"
    },
    "tags": []
   },
   "outputs": [
    {
     "name": "stderr",
     "output_type": "stream",
     "text": [
      "Downloading: \"https://download.pytorch.org/models/resnet18-f37072fd.pth\" to /root/.cache/torch/hub/checkpoints/resnet18-f37072fd.pth\n"
     ]
    },
    {
     "data": {
      "application/vnd.jupyter.widget-view+json": {
       "model_id": "74a5daab173140eeb512c0994299df93",
       "version_major": 2,
       "version_minor": 0
      },
      "text/plain": [
       "  0%|          | 0.00/44.7M [00:00<?, ?B/s]"
      ]
     },
     "metadata": {},
     "output_type": "display_data"
    }
   ],
   "source": [
    "import torchvision.models as models\n",
    "model = models.resnet18(pretrained = True)\n",
    "model.to(device)\n",
    "\n",
    "model.fc.out_features= 10"
   ]
  },
  {
   "cell_type": "code",
   "execution_count": 18,
   "id": "bf3c9d78",
   "metadata": {
    "execution": {
     "iopub.execute_input": "2021-12-01T16:05:26.930902Z",
     "iopub.status.busy": "2021-12-01T16:05:26.930228Z",
     "iopub.status.idle": "2021-12-01T16:05:26.932362Z",
     "shell.execute_reply": "2021-12-01T16:05:26.932781Z",
     "shell.execute_reply.started": "2021-12-01T15:59:21.682051Z"
    },
    "papermill": {
     "duration": 0.027158,
     "end_time": "2021-12-01T16:05:26.932916",
     "exception": false,
     "start_time": "2021-12-01T16:05:26.905758",
     "status": "completed"
    },
    "tags": []
   },
   "outputs": [],
   "source": [
    "criterion = torch.nn.CrossEntropyLoss()\n",
    "optimizer = torch.optim.SGD(model.parameters(), lr = 0.001 , momentum = 0.9)"
   ]
  },
  {
   "cell_type": "code",
   "execution_count": 19,
   "id": "997fa66c",
   "metadata": {
    "execution": {
     "iopub.execute_input": "2021-12-01T16:05:26.974589Z",
     "iopub.status.busy": "2021-12-01T16:05:26.973885Z",
     "iopub.status.idle": "2021-12-01T16:05:26.975890Z",
     "shell.execute_reply": "2021-12-01T16:05:26.976278Z",
     "shell.execute_reply.started": "2021-12-01T15:59:21.690186Z"
    },
    "papermill": {
     "duration": 0.02451,
     "end_time": "2021-12-01T16:05:26.976399",
     "exception": false,
     "start_time": "2021-12-01T16:05:26.951889",
     "status": "completed"
    },
    "tags": []
   },
   "outputs": [],
   "source": [
    "from torchvision.transforms.functional import to_pil_image"
   ]
  },
  {
   "cell_type": "code",
   "execution_count": 20,
   "id": "a2265b80",
   "metadata": {
    "execution": {
     "iopub.execute_input": "2021-12-01T16:05:27.019842Z",
     "iopub.status.busy": "2021-12-01T16:05:27.019306Z",
     "iopub.status.idle": "2021-12-01T16:14:44.290568Z",
     "shell.execute_reply": "2021-12-01T16:14:44.291047Z",
     "shell.execute_reply.started": "2021-12-01T15:59:21.700910Z"
    },
    "papermill": {
     "duration": 557.295973,
     "end_time": "2021-12-01T16:14:44.291206",
     "exception": false,
     "start_time": "2021-12-01T16:05:26.995233",
     "status": "completed"
    },
    "tags": []
   },
   "outputs": [
    {
     "name": "stdout",
     "output_type": "stream",
     "text": [
      "Learning started. It takes sometime.\n",
      "[Epoch:    1] cost = 0.197959706\n",
      "[Epoch:    2] cost = 0.0198831744\n",
      "[Epoch:    3] cost = 0.0119845206\n",
      "[Epoch:    4] cost = 0.0079489667\n",
      "[Epoch:    5] cost = 0.00534419529\n",
      "Learning Finished!\n"
     ]
    }
   ],
   "source": [
    "#train my model\n",
    "total_batch = len(train_loader)\n",
    "print('Learning started. It takes sometime.')\n",
    "\n",
    "for epoch in range(total_epoch):\n",
    "    avg_cost = 0\n",
    "\n",
    "    for X, Y in train_loader:\n",
    "        X = X.to(device) # 64, 3, 224, 224 \n",
    "        Y = Y.to(device)\n",
    "       \n",
    "        optimizer.zero_grad()\n",
    "        hypothesis = model(X)\n",
    "        cost = criterion(hypothesis, Y)\n",
    "        cost.backward()\n",
    "        optimizer.step()\n",
    "\n",
    "        avg_cost += cost / total_batch\n",
    "\n",
    "    print('[Epoch: {:>4}] cost = {:>.9}'.format(epoch + 1, avg_cost))\n",
    "\n",
    "print('Learning Finished!')"
   ]
  },
  {
   "cell_type": "code",
   "execution_count": 21,
   "id": "dcd5829f",
   "metadata": {
    "execution": {
     "iopub.execute_input": "2021-12-01T16:14:44.339094Z",
     "iopub.status.busy": "2021-12-01T16:14:44.338230Z",
     "iopub.status.idle": "2021-12-01T16:14:55.860008Z",
     "shell.execute_reply": "2021-12-01T16:14:55.859003Z",
     "shell.execute_reply.started": "2021-12-01T16:02:35.192560Z"
    },
    "papermill": {
     "duration": 11.548214,
     "end_time": "2021-12-01T16:14:55.860158",
     "exception": false,
     "start_time": "2021-12-01T16:14:44.311944",
     "status": "completed"
    },
    "tags": []
   },
   "outputs": [],
   "source": [
    "prediction = []\n",
    "\n",
    "with torch.no_grad():\n",
    "    model.eval()\n",
    "    \n",
    "    for x in test_loader :\n",
    "        x = x.to(device)\n",
    "        predict = model(x)\n",
    "        predict = torch.argmax(predict, dim = 1)\n",
    "        \n",
    "        prediction.extend(predict.detach().cpu().numpy().tolist())"
   ]
  },
  {
   "cell_type": "code",
   "execution_count": 22,
   "id": "1ca47186",
   "metadata": {
    "execution": {
     "iopub.execute_input": "2021-12-01T16:14:55.958887Z",
     "iopub.status.busy": "2021-12-01T16:14:55.957262Z",
     "iopub.status.idle": "2021-12-01T16:14:55.959524Z",
     "shell.execute_reply": "2021-12-01T16:14:55.959965Z",
     "shell.execute_reply.started": "2021-12-01T16:02:46.538583Z"
    },
    "papermill": {
     "duration": 0.078943,
     "end_time": "2021-12-01T16:14:55.960095",
     "exception": false,
     "start_time": "2021-12-01T16:14:55.881152",
     "status": "completed"
    },
    "tags": []
   },
   "outputs": [],
   "source": [
    "submit['Category'] = np.array(prediction)"
   ]
  },
  {
   "cell_type": "code",
   "execution_count": 23,
   "id": "3214a1ef",
   "metadata": {
    "execution": {
     "iopub.execute_input": "2021-12-01T16:14:56.005556Z",
     "iopub.status.busy": "2021-12-01T16:14:56.005052Z",
     "iopub.status.idle": "2021-12-01T16:14:56.033097Z",
     "shell.execute_reply": "2021-12-01T16:14:56.033800Z",
     "shell.execute_reply.started": "2021-12-01T16:02:46.549137Z"
    },
    "papermill": {
     "duration": 0.053007,
     "end_time": "2021-12-01T16:14:56.033933",
     "exception": false,
     "start_time": "2021-12-01T16:14:55.980926",
     "status": "completed"
    },
    "tags": []
   },
   "outputs": [
    {
     "data": {
      "text/html": [
       "<div>\n",
       "<style scoped>\n",
       "    .dataframe tbody tr th:only-of-type {\n",
       "        vertical-align: middle;\n",
       "    }\n",
       "\n",
       "    .dataframe tbody tr th {\n",
       "        vertical-align: top;\n",
       "    }\n",
       "\n",
       "    .dataframe thead th {\n",
       "        text-align: right;\n",
       "    }\n",
       "</style>\n",
       "<table border=\"1\" class=\"dataframe\">\n",
       "  <thead>\n",
       "    <tr style=\"text-align: right;\">\n",
       "      <th></th>\n",
       "      <th>Id</th>\n",
       "      <th>Category</th>\n",
       "    </tr>\n",
       "  </thead>\n",
       "  <tbody>\n",
       "    <tr>\n",
       "      <th>0</th>\n",
       "      <td>0</td>\n",
       "      <td>6</td>\n",
       "    </tr>\n",
       "    <tr>\n",
       "      <th>1</th>\n",
       "      <td>1</td>\n",
       "      <td>1</td>\n",
       "    </tr>\n",
       "    <tr>\n",
       "      <th>2</th>\n",
       "      <td>2</td>\n",
       "      <td>0</td>\n",
       "    </tr>\n",
       "    <tr>\n",
       "      <th>3</th>\n",
       "      <td>3</td>\n",
       "      <td>0</td>\n",
       "    </tr>\n",
       "    <tr>\n",
       "      <th>4</th>\n",
       "      <td>4</td>\n",
       "      <td>9</td>\n",
       "    </tr>\n",
       "    <tr>\n",
       "      <th>...</th>\n",
       "      <td>...</td>\n",
       "      <td>...</td>\n",
       "    </tr>\n",
       "    <tr>\n",
       "      <th>9995</th>\n",
       "      <td>9995</td>\n",
       "      <td>3</td>\n",
       "    </tr>\n",
       "    <tr>\n",
       "      <th>9996</th>\n",
       "      <td>9996</td>\n",
       "      <td>7</td>\n",
       "    </tr>\n",
       "    <tr>\n",
       "      <th>9997</th>\n",
       "      <td>9997</td>\n",
       "      <td>2</td>\n",
       "    </tr>\n",
       "    <tr>\n",
       "      <th>9998</th>\n",
       "      <td>9998</td>\n",
       "      <td>8</td>\n",
       "    </tr>\n",
       "    <tr>\n",
       "      <th>9999</th>\n",
       "      <td>9999</td>\n",
       "      <td>3</td>\n",
       "    </tr>\n",
       "  </tbody>\n",
       "</table>\n",
       "<p>10000 rows × 2 columns</p>\n",
       "</div>"
      ],
      "text/plain": [
       "        Id  Category\n",
       "0        0         6\n",
       "1        1         1\n",
       "2        2         0\n",
       "3        3         0\n",
       "4        4         9\n",
       "...    ...       ...\n",
       "9995  9995         3\n",
       "9996  9996         7\n",
       "9997  9997         2\n",
       "9998  9998         8\n",
       "9999  9999         3\n",
       "\n",
       "[10000 rows x 2 columns]"
      ]
     },
     "execution_count": 23,
     "metadata": {},
     "output_type": "execute_result"
    }
   ],
   "source": [
    "submit.to_csv(\"submission.csv\", index = False)\n",
    "submit"
   ]
  },
  {
   "cell_type": "code",
   "execution_count": null,
   "id": "472688d0",
   "metadata": {
    "papermill": {
     "duration": 0.02102,
     "end_time": "2021-12-01T16:14:56.076205",
     "exception": false,
     "start_time": "2021-12-01T16:14:56.055185",
     "status": "completed"
    },
    "tags": []
   },
   "outputs": [],
   "source": []
  }
 ],
 "metadata": {
  "kernelspec": {
   "display_name": "Python 3",
   "language": "python",
   "name": "python3"
  },
  "language_info": {
   "codemirror_mode": {
    "name": "ipython",
    "version": 3
   },
   "file_extension": ".py",
   "mimetype": "text/x-python",
   "name": "python",
   "nbconvert_exporter": "python",
   "pygments_lexer": "ipython3",
   "version": "3.7.10"
  },
  "papermill": {
   "default_parameters": {},
   "duration": 591.567263,
   "end_time": "2021-12-01T16:14:57.609915",
   "environment_variables": {},
   "exception": null,
   "input_path": "__notebook__.ipynb",
   "output_path": "__notebook__.ipynb",
   "parameters": {},
   "start_time": "2021-12-01T16:05:06.042652",
   "version": "2.3.3"
  },
  "widgets": {
   "application/vnd.jupyter.widget-state+json": {
    "state": {
     "39adaf7cf9254d4f9aa35cf8481ca06e": {
      "model_module": "@jupyter-widgets/base",
      "model_module_version": "1.2.0",
      "model_name": "LayoutModel",
      "state": {
       "_model_module": "@jupyter-widgets/base",
       "_model_module_version": "1.2.0",
       "_model_name": "LayoutModel",
       "_view_count": null,
       "_view_module": "@jupyter-widgets/base",
       "_view_module_version": "1.2.0",
       "_view_name": "LayoutView",
       "align_content": null,
       "align_items": null,
       "align_self": null,
       "border": null,
       "bottom": null,
       "display": null,
       "flex": null,
       "flex_flow": null,
       "grid_area": null,
       "grid_auto_columns": null,
       "grid_auto_flow": null,
       "grid_auto_rows": null,
       "grid_column": null,
       "grid_gap": null,
       "grid_row": null,
       "grid_template_areas": null,
       "grid_template_columns": null,
       "grid_template_rows": null,
       "height": null,
       "justify_content": null,
       "justify_items": null,
       "left": null,
       "margin": null,
       "max_height": null,
       "max_width": null,
       "min_height": null,
       "min_width": null,
       "object_fit": null,
       "object_position": null,
       "order": null,
       "overflow": null,
       "overflow_x": null,
       "overflow_y": null,
       "padding": null,
       "right": null,
       "top": null,
       "visibility": null,
       "width": null
      }
     },
     "45a24aea48494d8ab0fd8ed63398e56d": {
      "model_module": "@jupyter-widgets/base",
      "model_module_version": "1.2.0",
      "model_name": "LayoutModel",
      "state": {
       "_model_module": "@jupyter-widgets/base",
       "_model_module_version": "1.2.0",
       "_model_name": "LayoutModel",
       "_view_count": null,
       "_view_module": "@jupyter-widgets/base",
       "_view_module_version": "1.2.0",
       "_view_name": "LayoutView",
       "align_content": null,
       "align_items": null,
       "align_self": null,
       "border": null,
       "bottom": null,
       "display": null,
       "flex": null,
       "flex_flow": null,
       "grid_area": null,
       "grid_auto_columns": null,
       "grid_auto_flow": null,
       "grid_auto_rows": null,
       "grid_column": null,
       "grid_gap": null,
       "grid_row": null,
       "grid_template_areas": null,
       "grid_template_columns": null,
       "grid_template_rows": null,
       "height": null,
       "justify_content": null,
       "justify_items": null,
       "left": null,
       "margin": null,
       "max_height": null,
       "max_width": null,
       "min_height": null,
       "min_width": null,
       "object_fit": null,
       "object_position": null,
       "order": null,
       "overflow": null,
       "overflow_x": null,
       "overflow_y": null,
       "padding": null,
       "right": null,
       "top": null,
       "visibility": null,
       "width": null
      }
     },
     "4d186ef80e824e49938f6f7799b93e45": {
      "model_module": "@jupyter-widgets/controls",
      "model_module_version": "1.5.0",
      "model_name": "FloatProgressModel",
      "state": {
       "_dom_classes": [],
       "_model_module": "@jupyter-widgets/controls",
       "_model_module_version": "1.5.0",
       "_model_name": "FloatProgressModel",
       "_view_count": null,
       "_view_module": "@jupyter-widgets/controls",
       "_view_module_version": "1.5.0",
       "_view_name": "ProgressView",
       "bar_style": "success",
       "description": "",
       "description_tooltip": null,
       "layout": "IPY_MODEL_45a24aea48494d8ab0fd8ed63398e56d",
       "max": 46830571.0,
       "min": 0.0,
       "orientation": "horizontal",
       "style": "IPY_MODEL_adbfd2bf32fd457fbba0af312af4a809",
       "value": 46830571.0
      }
     },
     "74a5daab173140eeb512c0994299df93": {
      "model_module": "@jupyter-widgets/controls",
      "model_module_version": "1.5.0",
      "model_name": "HBoxModel",
      "state": {
       "_dom_classes": [],
       "_model_module": "@jupyter-widgets/controls",
       "_model_module_version": "1.5.0",
       "_model_name": "HBoxModel",
       "_view_count": null,
       "_view_module": "@jupyter-widgets/controls",
       "_view_module_version": "1.5.0",
       "_view_name": "HBoxView",
       "box_style": "",
       "children": [
        "IPY_MODEL_d042cab3400247fd92fa39bdf859f8b9",
        "IPY_MODEL_4d186ef80e824e49938f6f7799b93e45",
        "IPY_MODEL_f89fa07cf0fa4651ab2f2e6a721ffd59"
       ],
       "layout": "IPY_MODEL_39adaf7cf9254d4f9aa35cf8481ca06e"
      }
     },
     "8cfdc3fbddef4de2a93bb24691904b6c": {
      "model_module": "@jupyter-widgets/controls",
      "model_module_version": "1.5.0",
      "model_name": "DescriptionStyleModel",
      "state": {
       "_model_module": "@jupyter-widgets/controls",
       "_model_module_version": "1.5.0",
       "_model_name": "DescriptionStyleModel",
       "_view_count": null,
       "_view_module": "@jupyter-widgets/base",
       "_view_module_version": "1.2.0",
       "_view_name": "StyleView",
       "description_width": ""
      }
     },
     "922aeeca476345d883c58307ab4437c9": {
      "model_module": "@jupyter-widgets/base",
      "model_module_version": "1.2.0",
      "model_name": "LayoutModel",
      "state": {
       "_model_module": "@jupyter-widgets/base",
       "_model_module_version": "1.2.0",
       "_model_name": "LayoutModel",
       "_view_count": null,
       "_view_module": "@jupyter-widgets/base",
       "_view_module_version": "1.2.0",
       "_view_name": "LayoutView",
       "align_content": null,
       "align_items": null,
       "align_self": null,
       "border": null,
       "bottom": null,
       "display": null,
       "flex": null,
       "flex_flow": null,
       "grid_area": null,
       "grid_auto_columns": null,
       "grid_auto_flow": null,
       "grid_auto_rows": null,
       "grid_column": null,
       "grid_gap": null,
       "grid_row": null,
       "grid_template_areas": null,
       "grid_template_columns": null,
       "grid_template_rows": null,
       "height": null,
       "justify_content": null,
       "justify_items": null,
       "left": null,
       "margin": null,
       "max_height": null,
       "max_width": null,
       "min_height": null,
       "min_width": null,
       "object_fit": null,
       "object_position": null,
       "order": null,
       "overflow": null,
       "overflow_x": null,
       "overflow_y": null,
       "padding": null,
       "right": null,
       "top": null,
       "visibility": null,
       "width": null
      }
     },
     "9ea5fea65718408f8d810c71cc00f80b": {
      "model_module": "@jupyter-widgets/controls",
      "model_module_version": "1.5.0",
      "model_name": "DescriptionStyleModel",
      "state": {
       "_model_module": "@jupyter-widgets/controls",
       "_model_module_version": "1.5.0",
       "_model_name": "DescriptionStyleModel",
       "_view_count": null,
       "_view_module": "@jupyter-widgets/base",
       "_view_module_version": "1.2.0",
       "_view_name": "StyleView",
       "description_width": ""
      }
     },
     "a9c29ff1eb8c48f08f61c01122361ecc": {
      "model_module": "@jupyter-widgets/base",
      "model_module_version": "1.2.0",
      "model_name": "LayoutModel",
      "state": {
       "_model_module": "@jupyter-widgets/base",
       "_model_module_version": "1.2.0",
       "_model_name": "LayoutModel",
       "_view_count": null,
       "_view_module": "@jupyter-widgets/base",
       "_view_module_version": "1.2.0",
       "_view_name": "LayoutView",
       "align_content": null,
       "align_items": null,
       "align_self": null,
       "border": null,
       "bottom": null,
       "display": null,
       "flex": null,
       "flex_flow": null,
       "grid_area": null,
       "grid_auto_columns": null,
       "grid_auto_flow": null,
       "grid_auto_rows": null,
       "grid_column": null,
       "grid_gap": null,
       "grid_row": null,
       "grid_template_areas": null,
       "grid_template_columns": null,
       "grid_template_rows": null,
       "height": null,
       "justify_content": null,
       "justify_items": null,
       "left": null,
       "margin": null,
       "max_height": null,
       "max_width": null,
       "min_height": null,
       "min_width": null,
       "object_fit": null,
       "object_position": null,
       "order": null,
       "overflow": null,
       "overflow_x": null,
       "overflow_y": null,
       "padding": null,
       "right": null,
       "top": null,
       "visibility": null,
       "width": null
      }
     },
     "adbfd2bf32fd457fbba0af312af4a809": {
      "model_module": "@jupyter-widgets/controls",
      "model_module_version": "1.5.0",
      "model_name": "ProgressStyleModel",
      "state": {
       "_model_module": "@jupyter-widgets/controls",
       "_model_module_version": "1.5.0",
       "_model_name": "ProgressStyleModel",
       "_view_count": null,
       "_view_module": "@jupyter-widgets/base",
       "_view_module_version": "1.2.0",
       "_view_name": "StyleView",
       "bar_color": null,
       "description_width": ""
      }
     },
     "d042cab3400247fd92fa39bdf859f8b9": {
      "model_module": "@jupyter-widgets/controls",
      "model_module_version": "1.5.0",
      "model_name": "HTMLModel",
      "state": {
       "_dom_classes": [],
       "_model_module": "@jupyter-widgets/controls",
       "_model_module_version": "1.5.0",
       "_model_name": "HTMLModel",
       "_view_count": null,
       "_view_module": "@jupyter-widgets/controls",
       "_view_module_version": "1.5.0",
       "_view_name": "HTMLView",
       "description": "",
       "description_tooltip": null,
       "layout": "IPY_MODEL_922aeeca476345d883c58307ab4437c9",
       "placeholder": "​",
       "style": "IPY_MODEL_8cfdc3fbddef4de2a93bb24691904b6c",
       "value": "100%"
      }
     },
     "f89fa07cf0fa4651ab2f2e6a721ffd59": {
      "model_module": "@jupyter-widgets/controls",
      "model_module_version": "1.5.0",
      "model_name": "HTMLModel",
      "state": {
       "_dom_classes": [],
       "_model_module": "@jupyter-widgets/controls",
       "_model_module_version": "1.5.0",
       "_model_name": "HTMLModel",
       "_view_count": null,
       "_view_module": "@jupyter-widgets/controls",
       "_view_module_version": "1.5.0",
       "_view_name": "HTMLView",
       "description": "",
       "description_tooltip": null,
       "layout": "IPY_MODEL_a9c29ff1eb8c48f08f61c01122361ecc",
       "placeholder": "​",
       "style": "IPY_MODEL_9ea5fea65718408f8d810c71cc00f80b",
       "value": " 44.7M/44.7M [00:00&lt;00:00, 93.1MB/s]"
      }
     }
    },
    "version_major": 2,
    "version_minor": 0
   }
  }
 },
 "nbformat": 4,
 "nbformat_minor": 5
}
